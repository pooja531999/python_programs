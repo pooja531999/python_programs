{
 "cells": [
  {
   "cell_type": "markdown",
   "id": "7082e819",
   "metadata": {},
   "source": [
    "# Encapsulation"
   ]
  },
  {
   "cell_type": "code",
   "execution_count": 1,
   "id": "8f740c8d",
   "metadata": {},
   "outputs": [
    {
     "ename": "SyntaxError",
     "evalue": "invalid syntax (<ipython-input-1-cf3ba5c7dd32>, line 23)",
     "output_type": "error",
     "traceback": [
      "\u001b[1;36m  File \u001b[1;32m\"<ipython-input-1-cf3ba5c7dd32>\"\u001b[1;36m, line \u001b[1;32m23\u001b[0m\n\u001b[1;33m    // it gives an error because a is private variable\u001b[0m\n\u001b[1;37m    ^\u001b[0m\n\u001b[1;31mSyntaxError\u001b[0m\u001b[1;31m:\u001b[0m invalid syntax\n"
     ]
    }
   ],
   "source": [
    "# Achieving encapsulation by private\n",
    "\n",
    "class A: #parent class\n",
    "    def __init__(self,a):\n",
    "        self.__a=a # the variable a is private variable\n",
    "        \n",
    "    def show(self):\n",
    "        # printing a private using function\n",
    "        print(\"Private variable : \",self._a)\n",
    "        \n",
    "class B(A): # child class\n",
    "    def __init__(self,b):\n",
    "        super().__init__(b)\n",
    "        \n",
    "    def show(self):\n",
    "        print(self.__a)\n",
    "        \n",
    "#creating an object of class B\n",
    "\n",
    "obj = B(20)\n",
    "obj.show()\n",
    "\n",
    "// it gives an error because a is private variable"
   ]
  },
  {
   "cell_type": "code",
   "execution_count": 2,
   "id": "72ba916b",
   "metadata": {},
   "outputs": [
    {
     "name": "stdout",
     "output_type": "stream",
     "text": [
      "Variable Value :  30\n"
     ]
    }
   ],
   "source": [
    "# Achieveing encapsulation by protected\n",
    "\n",
    "class A:\n",
    "    def __init__(self,a):\n",
    "        self._a=a # this variable is a protected variable\n",
    "        \n",
    "    def show(self):\n",
    "        print(\"protected variable : \",self._a)\n",
    "      \n",
    "    \n",
    "class B(A): # child class\n",
    "    def __init__(self,b):\n",
    "        super().__init__(b)\n",
    "        \n",
    "    def showB(self):\n",
    "        print(\"Variable Value : \",self._a)\n",
    "        \n",
    "        \n",
    "        \n",
    "#creating an object of class B \n",
    "\n",
    "obj = B(30)\n",
    "obj.showB()"
   ]
  },
  {
   "cell_type": "markdown",
   "id": "9ed9bd85",
   "metadata": {},
   "source": [
    "# Regular Expression\n",
    "It is of two types 1.Match function and 2.search function"
   ]
  },
  {
   "cell_type": "markdown",
   "id": "e863a6dc",
   "metadata": {},
   "source": [
    "# 1.Match function"
   ]
  },
  {
   "cell_type": "code",
   "execution_count": 3,
   "id": "630ed8e0",
   "metadata": {},
   "outputs": [
    {
     "name": "stdout",
     "output_type": "stream",
     "text": [
      "<re.Match object; span=(0, 3), match='abc'>\n"
     ]
    }
   ],
   "source": [
    "# Import re module first\n",
    "\n",
    "import re\n",
    "\n",
    "pattern = r\"^abc\"\n",
    "mystring = \"abcdef\" # if we remove b then it will return none means no case match\n",
    "\n",
    "x = re.match(pattern,mystring)\n",
    "print(x)"
   ]
  },
  {
   "cell_type": "markdown",
   "id": "6998d2db",
   "metadata": {},
   "source": [
    "# 2.Search function"
   ]
  },
  {
   "cell_type": "code",
   "execution_count": 4,
   "id": "a4d4aaa0",
   "metadata": {},
   "outputs": [
    {
     "name": "stdout",
     "output_type": "stream",
     "text": [
      "The first whitwspace :  <re.Match object; span=(2, 3), match=' '>\n",
      "The first whitwspace :  2\n"
     ]
    }
   ],
   "source": [
    "# import re module first\n",
    "import re\n",
    "txt = \"We are learning python\"\n",
    "x = re.search(\"\\s\",txt) # This expression is written for searching whitespace\n",
    "print(\"The first whitwspace : \",x)\n",
    "print(\"The first whitwspace : \",x.start())\n"
   ]
  },
  {
   "cell_type": "code",
   "execution_count": 5,
   "id": "ef23bd4e",
   "metadata": {},
   "outputs": [
    {
     "name": "stdout",
     "output_type": "stream",
     "text": [
      "None\n",
      "<re.Match object; span=(12, 18), match='Gujrat'>\n"
     ]
    }
   ],
   "source": [
    "import re\n",
    "txt = \"The rain in Gujrat\"\n",
    "x = re.search(\"Ahmadabad\",txt)\n",
    "print(x)\n",
    "x1 = re.search(\"Gujrat\",txt)\n",
    "print(x1)"
   ]
  },
  {
   "cell_type": "markdown",
   "id": "2aa4a0d5",
   "metadata": {},
   "source": [
    "# Replace function"
   ]
  },
  {
   "cell_type": "code",
   "execution_count": 6,
   "id": "8857bc7a",
   "metadata": {},
   "outputs": [
    {
     "name": "stdout",
     "output_type": "stream",
     "text": [
      "Before replace : Learnvern provide free online training\n",
      "After replace :  Learnvern python free online training\n"
     ]
    }
   ],
   "source": [
    "import re\n",
    "\n",
    "str1 = \"Learnvern provide free online training\"\n",
    "print(\"Before replace :\",str1)\n",
    "\n",
    "# After replace the provide with python\n",
    "result = re.sub(r\"provide\",\"python\",str1)\n",
    "print(\"After replace : \",result)"
   ]
  },
  {
   "cell_type": "code",
   "execution_count": 7,
   "id": "8fef8d89",
   "metadata": {},
   "outputs": [
    {
     "name": "stdout",
     "output_type": "stream",
     "text": [
      "Learnvern Provide Free Online Training\n",
      "L00000000 P000000 F000 O00000 T0000000\n"
     ]
    }
   ],
   "source": [
    "import re\n",
    "\n",
    "str1 = \"Learnvern Provide Free Online Training\"\n",
    "print(str1)\n",
    "\n",
    "result = re.sub(r\"[a-z]\",\"0\",str1)\n",
    "print(result)"
   ]
  },
  {
   "cell_type": "code",
   "execution_count": null,
   "id": "1f66b539",
   "metadata": {},
   "outputs": [],
   "source": []
  }
 ],
 "metadata": {
  "kernelspec": {
   "display_name": "Python 3",
   "language": "python",
   "name": "python3"
  },
  "language_info": {
   "codemirror_mode": {
    "name": "ipython",
    "version": 3
   },
   "file_extension": ".py",
   "mimetype": "text/x-python",
   "name": "python",
   "nbconvert_exporter": "python",
   "pygments_lexer": "ipython3",
   "version": "3.8.8"
  }
 },
 "nbformat": 4,
 "nbformat_minor": 5
}
