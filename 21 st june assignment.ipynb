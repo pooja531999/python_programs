{
 "cells": [
  {
   "cell_type": "code",
   "execution_count": 1,
   "id": "11f1971f",
   "metadata": {},
   "outputs": [],
   "source": [
    "# importing pandas library\n",
    "import pandas as pd"
   ]
  },
  {
   "cell_type": "code",
   "execution_count": 2,
   "id": "86516dc3",
   "metadata": {},
   "outputs": [],
   "source": [
    "item = pd.Series(data=[15,5,3,2],index=['Rena','Rohan','Rakesh','Ahiri'])"
   ]
  },
  {
   "cell_type": "code",
   "execution_count": 3,
   "id": "b2c43b23",
   "metadata": {},
   "outputs": [
    {
     "data": {
      "text/plain": [
       "Rena      15\n",
       "Rohan      5\n",
       "Rakesh     3\n",
       "Ahiri      2\n",
       "dtype: int64"
      ]
     },
     "execution_count": 3,
     "metadata": {},
     "output_type": "execute_result"
    }
   ],
   "source": [
    "item"
   ]
  },
  {
   "cell_type": "code",
   "execution_count": 4,
   "id": "52abc7e7",
   "metadata": {},
   "outputs": [
    {
     "data": {
      "text/plain": [
       "(4,)"
      ]
     },
     "execution_count": 4,
     "metadata": {},
     "output_type": "execute_result"
    }
   ],
   "source": [
    "item.shape"
   ]
  },
  {
   "cell_type": "code",
   "execution_count": 6,
   "id": "8eceb22b",
   "metadata": {},
   "outputs": [
    {
     "data": {
      "text/plain": [
       "Index(['Rena', 'Rohan', 'Rakesh', 'Ahiri'], dtype='object')"
      ]
     },
     "execution_count": 6,
     "metadata": {},
     "output_type": "execute_result"
    }
   ],
   "source": [
    "item.index"
   ]
  },
  {
   "cell_type": "code",
   "execution_count": 7,
   "id": "9e4f747e",
   "metadata": {},
   "outputs": [
    {
     "data": {
      "text/plain": [
       "array([15,  5,  3,  2], dtype=int64)"
      ]
     },
     "execution_count": 7,
     "metadata": {},
     "output_type": "execute_result"
    }
   ],
   "source": [
    "item.values"
   ]
  },
  {
   "cell_type": "code",
   "execution_count": 8,
   "id": "7f935825",
   "metadata": {},
   "outputs": [
    {
     "data": {
      "text/plain": [
       "15"
      ]
     },
     "execution_count": 8,
     "metadata": {},
     "output_type": "execute_result"
    }
   ],
   "source": [
    "item[0]"
   ]
  },
  {
   "cell_type": "code",
   "execution_count": 9,
   "id": "fe06a89d",
   "metadata": {},
   "outputs": [
    {
     "data": {
      "text/plain": [
       "Rohan     5\n",
       "Rakesh    3\n",
       "dtype: int64"
      ]
     },
     "execution_count": 9,
     "metadata": {},
     "output_type": "execute_result"
    }
   ],
   "source": [
    "item[1:3]"
   ]
  },
  {
   "cell_type": "code",
   "execution_count": 10,
   "id": "e40bea75",
   "metadata": {},
   "outputs": [
    {
     "data": {
      "text/plain": [
       "2"
      ]
     },
     "execution_count": 10,
     "metadata": {},
     "output_type": "execute_result"
    }
   ],
   "source": [
    "item['Ahiri']"
   ]
  },
  {
   "cell_type": "code",
   "execution_count": 11,
   "id": "7c9a0d1d",
   "metadata": {},
   "outputs": [
    {
     "data": {
      "text/plain": [
       "1"
      ]
     },
     "execution_count": 11,
     "metadata": {},
     "output_type": "execute_result"
    }
   ],
   "source": [
    "item.ndim"
   ]
  },
  {
   "cell_type": "code",
   "execution_count": 12,
   "id": "82d3d3a0",
   "metadata": {},
   "outputs": [
    {
     "data": {
      "text/plain": [
       "4"
      ]
     },
     "execution_count": 12,
     "metadata": {},
     "output_type": "execute_result"
    }
   ],
   "source": [
    "item.size"
   ]
  },
  {
   "cell_type": "code",
   "execution_count": 13,
   "id": "e7fd9853",
   "metadata": {},
   "outputs": [
    {
     "data": {
      "text/plain": [
       "2"
      ]
     },
     "execution_count": 13,
     "metadata": {},
     "output_type": "execute_result"
    }
   ],
   "source": [
    "item[-1]"
   ]
  },
  {
   "cell_type": "code",
   "execution_count": 14,
   "id": "2539cccf",
   "metadata": {},
   "outputs": [
    {
     "data": {
      "text/plain": [
       "Rena     15\n",
       "Rohan     5\n",
       "dtype: int64"
      ]
     },
     "execution_count": 14,
     "metadata": {},
     "output_type": "execute_result"
    }
   ],
   "source": [
    "item[[0,1]]"
   ]
  },
  {
   "cell_type": "code",
   "execution_count": 15,
   "id": "9825f165",
   "metadata": {},
   "outputs": [
    {
     "data": {
      "text/plain": [
       "Rohan     5\n",
       "Rakesh    3\n",
       "dtype: int64"
      ]
     },
     "execution_count": 15,
     "metadata": {},
     "output_type": "execute_result"
    }
   ],
   "source": [
    "item.loc[['Rohan','Rakesh']]"
   ]
  },
  {
   "cell_type": "code",
   "execution_count": 16,
   "id": "2938d917",
   "metadata": {},
   "outputs": [
    {
     "data": {
      "text/plain": [
       "Rohan     5\n",
       "Rakesh    3\n",
       "dtype: int64"
      ]
     },
     "execution_count": 16,
     "metadata": {},
     "output_type": "execute_result"
    }
   ],
   "source": [
    "item.iloc[[1,2]]"
   ]
  },
  {
   "cell_type": "code",
   "execution_count": 18,
   "id": "5d4e8d43",
   "metadata": {},
   "outputs": [
    {
     "data": {
      "text/plain": [
       "Rena      15\n",
       "Rakesh     3\n",
       "Ahiri      2\n",
       "dtype: int64"
      ]
     },
     "execution_count": 18,
     "metadata": {},
     "output_type": "execute_result"
    }
   ],
   "source": [
    "item.drop('Rohan')"
   ]
  },
  {
   "cell_type": "code",
   "execution_count": null,
   "id": "8953174d",
   "metadata": {},
   "outputs": [],
   "source": []
  }
 ],
 "metadata": {
  "kernelspec": {
   "display_name": "Python 3 (ipykernel)",
   "language": "python",
   "name": "python3"
  },
  "language_info": {
   "codemirror_mode": {
    "name": "ipython",
    "version": 3
   },
   "file_extension": ".py",
   "mimetype": "text/x-python",
   "name": "python",
   "nbconvert_exporter": "python",
   "pygments_lexer": "ipython3",
   "version": "3.9.12"
  }
 },
 "nbformat": 4,
 "nbformat_minor": 5
}
