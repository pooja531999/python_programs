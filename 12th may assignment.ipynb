{
 "cells": [
  {
   "cell_type": "markdown",
   "id": "7bdae485",
   "metadata": {},
   "source": [
    "# Que 1: Reconstruct the array by replacing arr[i] with (arr[i-1]+1) % M"
   ]
  },
  {
   "cell_type": "code",
   "execution_count": 2,
   "id": "a6eba145",
   "metadata": {},
   "outputs": [
    {
     "name": "stdout",
     "output_type": "stream",
     "text": [
      "5 6 0 1 2 3\n"
     ]
    }
   ],
   "source": [
    "def construct(n, m, a):\n",
    "    ind = 0\n",
    " \n",
    "    # Finding the index which is not -1\n",
    "    for i in range(n):\n",
    "        if (a[i]!=-1):\n",
    "            ind = i\n",
    "            break\n",
    " \n",
    "    # Calculating the values of the indexes ind-1 to 0\n",
    "    for i in range(ind-1, -1, -1):\n",
    "        if (a[i]==-1):\n",
    "            a[i]=(a[i + 1]-1 + m)% m\n",
    " \n",
    "    # Calculating the values of the indexes ind + 1 to n\n",
    "    for i in range(ind + 1, n):\n",
    "        if(a[i]==-1):\n",
    "            a[i]=(a[i-1]+1)% m\n",
    "    print(*a)\n",
    "\n",
    "n, m = 6, 7\n",
    "a =[5, -1, -1, 1, 2, 3]\n",
    "construct(n, m, a)"
   ]
  },
  {
   "cell_type": "markdown",
   "id": "97bea7f7",
   "metadata": {},
   "source": [
    "# Que 2: Python Program to check if given array is Monotonic"
   ]
  },
  {
   "cell_type": "code",
   "execution_count": 3,
   "id": "efaca9d4",
   "metadata": {},
   "outputs": [
    {
     "name": "stdout",
     "output_type": "stream",
     "text": [
      "True\n"
     ]
    }
   ],
   "source": [
    "def isMonotonic(A):\n",
    "  \n",
    "    return (all(A[i] <= A[i + 1] for i in range(len(A) - 1)) or\n",
    "            all(A[i] >= A[i + 1] for i in range(len(A) - 1)))\n",
    "  \n",
    "# Driver program\n",
    "A = [6, 5, 4, 4]\n",
    "  \n",
    "# Print required result\n",
    "print(isMonotonic(A))"
   ]
  },
  {
   "cell_type": "markdown",
   "id": "f8e2cfea",
   "metadata": {},
   "source": [
    "# Que 3: Write code for Perfect Number "
   ]
  },
  {
   "cell_type": "code",
   "execution_count": 5,
   "id": "1ffb8ded",
   "metadata": {},
   "outputs": [
    {
     "name": "stdout",
     "output_type": "stream",
     "text": [
      "Below are all perfect numbers till 10000\n",
      "6  is a perfect number\n",
      "28  is a perfect number\n",
      "496  is a perfect number\n",
      "8128  is a perfect number\n"
     ]
    }
   ],
   "source": [
    "def isPerfect( n ):\n",
    "     \n",
    "    # To store sum of divisors\n",
    "    sum = 1\n",
    "     \n",
    "    # Find all divisors and add them\n",
    "    i = 2\n",
    "    while i * i <= n:\n",
    "        if n % i == 0:\n",
    "            sum = sum + i + n/i\n",
    "        i += 1\n",
    "     \n",
    "    # If sum of divisors is equal to\n",
    "    # n, then n is a perfect number\n",
    "     \n",
    "    return (True if sum == n and n!=1 else False)\n",
    " \n",
    "# Driver program\n",
    "print(\"Below are all perfect numbers till 10000\")\n",
    "n = 2\n",
    "for n in range (10000):\n",
    "    if isPerfect (n):\n",
    "        print(n , \" is a perfect number\")"
   ]
  },
  {
   "cell_type": "code",
   "execution_count": null,
   "id": "e44b1045",
   "metadata": {},
   "outputs": [],
   "source": []
  }
 ],
 "metadata": {
  "kernelspec": {
   "display_name": "Python 3",
   "language": "python",
   "name": "python3"
  },
  "language_info": {
   "codemirror_mode": {
    "name": "ipython",
    "version": 3
   },
   "file_extension": ".py",
   "mimetype": "text/x-python",
   "name": "python",
   "nbconvert_exporter": "python",
   "pygments_lexer": "ipython3",
   "version": "3.8.8"
  }
 },
 "nbformat": 4,
 "nbformat_minor": 5
}
