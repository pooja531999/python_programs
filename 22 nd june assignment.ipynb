{
 "cells": [
  {
   "cell_type": "code",
   "execution_count": 1,
   "id": "9a8db57f",
   "metadata": {},
   "outputs": [],
   "source": [
    "import pandas as pd"
   ]
  },
  {
   "cell_type": "code",
   "execution_count": 2,
   "id": "cc3fffda",
   "metadata": {},
   "outputs": [],
   "source": [
    "item = pd.Series(data=[15,5,3,2],index=['Rena','Rohan','Rakesh','Ahiri'])"
   ]
  },
  {
   "cell_type": "code",
   "execution_count": 3,
   "id": "e0ea1d0f",
   "metadata": {},
   "outputs": [],
   "source": [
    "# Arithmetic operations on pandas series"
   ]
  },
  {
   "cell_type": "code",
   "execution_count": 4,
   "id": "c359dd05",
   "metadata": {},
   "outputs": [
    {
     "data": {
      "text/plain": [
       "Rena      18\n",
       "Rohan      8\n",
       "Rakesh     6\n",
       "Ahiri      5\n",
       "dtype: int64"
      ]
     },
     "execution_count": 4,
     "metadata": {},
     "output_type": "execute_result"
    }
   ],
   "source": [
    "item+3"
   ]
  },
  {
   "cell_type": "code",
   "execution_count": 5,
   "id": "6fabd62b",
   "metadata": {},
   "outputs": [
    {
     "data": {
      "text/plain": [
       "Rena      12\n",
       "Rohan      2\n",
       "Rakesh     0\n",
       "Ahiri     -1\n",
       "dtype: int64"
      ]
     },
     "execution_count": 5,
     "metadata": {},
     "output_type": "execute_result"
    }
   ],
   "source": [
    "item-3"
   ]
  },
  {
   "cell_type": "code",
   "execution_count": 6,
   "id": "e16533fd",
   "metadata": {},
   "outputs": [
    {
     "data": {
      "text/plain": [
       "Rena      30\n",
       "Rohan     10\n",
       "Rakesh     6\n",
       "Ahiri      4\n",
       "dtype: int64"
      ]
     },
     "execution_count": 6,
     "metadata": {},
     "output_type": "execute_result"
    }
   ],
   "source": [
    "item*2"
   ]
  },
  {
   "cell_type": "code",
   "execution_count": 7,
   "id": "073d1f32",
   "metadata": {},
   "outputs": [
    {
     "data": {
      "text/plain": [
       "Rena      7.5\n",
       "Rohan     2.5\n",
       "Rakesh    1.5\n",
       "Ahiri     1.0\n",
       "dtype: float64"
      ]
     },
     "execution_count": 7,
     "metadata": {},
     "output_type": "execute_result"
    }
   ],
   "source": [
    "item/2"
   ]
  },
  {
   "cell_type": "code",
   "execution_count": 8,
   "id": "54d26af8",
   "metadata": {},
   "outputs": [],
   "source": [
    "import numpy as np"
   ]
  },
  {
   "cell_type": "code",
   "execution_count": 9,
   "id": "4ec42488",
   "metadata": {},
   "outputs": [
    {
     "data": {
      "text/plain": [
       "Rena      3.872983\n",
       "Rohan     2.236068\n",
       "Rakesh    1.732051\n",
       "Ahiri     1.414214\n",
       "dtype: float64"
      ]
     },
     "execution_count": 9,
     "metadata": {},
     "output_type": "execute_result"
    }
   ],
   "source": [
    "np.sqrt(item)"
   ]
  },
  {
   "cell_type": "code",
   "execution_count": 10,
   "id": "bff59d12",
   "metadata": {},
   "outputs": [
    {
     "data": {
      "text/plain": [
       "Rena      225\n",
       "Rohan      25\n",
       "Rakesh      9\n",
       "Ahiri       4\n",
       "dtype: int64"
      ]
     },
     "execution_count": 10,
     "metadata": {},
     "output_type": "execute_result"
    }
   ],
   "source": [
    "np.power(item,2)"
   ]
  },
  {
   "cell_type": "code",
   "execution_count": 11,
   "id": "893a0410",
   "metadata": {},
   "outputs": [
    {
     "data": {
      "text/plain": [
       "Rena      3.269017e+06\n",
       "Rohan     1.484132e+02\n",
       "Rakesh    2.008554e+01\n",
       "Ahiri     7.389056e+00\n",
       "dtype: float64"
      ]
     },
     "execution_count": 11,
     "metadata": {},
     "output_type": "execute_result"
    }
   ],
   "source": [
    "np.exp(item)"
   ]
  },
  {
   "cell_type": "code",
   "execution_count": 13,
   "id": "db766f2a",
   "metadata": {},
   "outputs": [
    {
     "data": {
      "text/plain": [
       "Rena      45\n",
       "Rakesh     9\n",
       "dtype: int64"
      ]
     },
     "execution_count": 13,
     "metadata": {},
     "output_type": "execute_result"
    }
   ],
   "source": [
    "item[['Rena','Rakesh']]*3"
   ]
  },
  {
   "cell_type": "code",
   "execution_count": 14,
   "id": "11444492",
   "metadata": {},
   "outputs": [
    {
     "data": {
      "text/plain": [
       "Rena      15\n",
       "Rohan      5\n",
       "Rakesh     3\n",
       "Ahiri      2\n",
       "dtype: int64"
      ]
     },
     "execution_count": 14,
     "metadata": {},
     "output_type": "execute_result"
    }
   ],
   "source": [
    "item"
   ]
  },
  {
   "cell_type": "code",
   "execution_count": 16,
   "id": "29477476",
   "metadata": {},
   "outputs": [],
   "source": [
    "item['Reema']=6"
   ]
  },
  {
   "cell_type": "code",
   "execution_count": 17,
   "id": "efd628b0",
   "metadata": {},
   "outputs": [
    {
     "data": {
      "text/plain": [
       "Rena      15\n",
       "Rohan      5\n",
       "Rakesh     3\n",
       "Ahiri      2\n",
       "Reema      6\n",
       "dtype: int64"
      ]
     },
     "execution_count": 17,
     "metadata": {},
     "output_type": "execute_result"
    }
   ],
   "source": [
    "item"
   ]
  },
  {
   "cell_type": "code",
   "execution_count": 19,
   "id": "0f4e7cf9",
   "metadata": {},
   "outputs": [
    {
     "data": {
      "text/plain": [
       "4"
      ]
     },
     "execution_count": 19,
     "metadata": {},
     "output_type": "execute_result"
    }
   ],
   "source": [
    "item['Reema']-2"
   ]
  },
  {
   "cell_type": "code",
   "execution_count": null,
   "id": "2d21a181",
   "metadata": {},
   "outputs": [],
   "source": []
  }
 ],
 "metadata": {
  "kernelspec": {
   "display_name": "Python 3 (ipykernel)",
   "language": "python",
   "name": "python3"
  },
  "language_info": {
   "codemirror_mode": {
    "name": "ipython",
    "version": 3
   },
   "file_extension": ".py",
   "mimetype": "text/x-python",
   "name": "python",
   "nbconvert_exporter": "python",
   "pygments_lexer": "ipython3",
   "version": "3.9.12"
  }
 },
 "nbformat": 4,
 "nbformat_minor": 5
}
