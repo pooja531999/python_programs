{
 "cells": [
  {
   "cell_type": "markdown",
   "id": "debc1404",
   "metadata": {},
   "source": [
    "# Q1.Write a program to accept the cost price of a bike and display the road tax to be paid according to the following criteria :\n",
    "    \n",
    "        Cost price (in Rs)                                       Tax\n",
    "        > 100000                                                  15 %\n",
    "        > 50000 and <= 100000                                     10%\n",
    "        <= 50000                                                  5%\n"
   ]
  },
  {
   "cell_type": "code",
   "execution_count": 2,
   "id": "d3f3d480",
   "metadata": {},
   "outputs": [
    {
     "name": "stdout",
     "output_type": "stream",
     "text": [
      "Enter the price of bike :500000\n",
      "You have to pay the tax is  75000.0\n"
     ]
    }
   ],
   "source": [
    "price=int(input(\"Enter the price of bike :\"))\n",
    "if price > 100000:\n",
    "     tax = (15/100)*price\n",
    "elif price > 50000 and price <= 100000:\n",
    "     tax = (10/100)*price\n",
    "else:\n",
    "     tax = (5/100)*price\n",
    "print(\"You have to pay the tax is \",tax)\n"
   ]
  },
  {
   "cell_type": "markdown",
   "id": "18ad372f",
   "metadata": {},
   "source": [
    "# Q2.Write a Python function to find the Max of three numbers."
   ]
  },
  {
   "cell_type": "code",
   "execution_count": 7,
   "id": "b8710e5f",
   "metadata": {},
   "outputs": [
    {
     "name": "stdout",
     "output_type": "stream",
     "text": [
      "The maximum number is a =  12\n",
      "The maximum number is b =  20\n",
      "The maximum number is c =  30\n"
     ]
    }
   ],
   "source": [
    "def Max(a,b,c):\n",
    "    if(a>b and a>c):\n",
    "        print(\"The maximum number is a = \",a)\n",
    "    elif(b>a and b>c):\n",
    "        print(\"The maximum number is b = \",b)\n",
    "    else:\n",
    "        print(\"The maximum number is c = \",c)\n",
    "        \n",
    "Max(12,5,3)\n",
    "Max(15,20,3)\n",
    "Max(29,5,30)\n",
    "    "
   ]
  },
  {
   "cell_type": "markdown",
   "id": "b67101df",
   "metadata": {},
   "source": [
    "# Q3.Write a program to print multiplication table of a given number"
   ]
  },
  {
   "cell_type": "code",
   "execution_count": 12,
   "id": "36ba2af3",
   "metadata": {},
   "outputs": [
    {
     "name": "stdout",
     "output_type": "stream",
     "text": [
      "Enter the number here :1000\n",
      "1000\n",
      "2000\n",
      "3000\n",
      "4000\n",
      "5000\n",
      "6000\n",
      "7000\n",
      "8000\n",
      "9000\n",
      "10000\n"
     ]
    }
   ],
   "source": [
    "num = int(input(\"Enter the number here :\"))\n",
    "\n",
    "if(num == 0):\n",
    "    print(\"Enter the number greter then zero\")\n",
    "else:\n",
    "    for i in range(1,11):\n",
    "        mul_table = num * i\n",
    "        print(mul_table)"
   ]
  },
  {
   "cell_type": "code",
   "execution_count": null,
   "id": "52439df0",
   "metadata": {},
   "outputs": [],
   "source": []
  }
 ],
 "metadata": {
  "kernelspec": {
   "display_name": "Python 3",
   "language": "python",
   "name": "python3"
  },
  "language_info": {
   "codemirror_mode": {
    "name": "ipython",
    "version": 3
   },
   "file_extension": ".py",
   "mimetype": "text/x-python",
   "name": "python",
   "nbconvert_exporter": "python",
   "pygments_lexer": "ipython3",
   "version": "3.8.8"
  }
 },
 "nbformat": 4,
 "nbformat_minor": 5
}
