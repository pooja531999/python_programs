{
 "cells": [
  {
   "cell_type": "markdown",
   "id": "ac955ead",
   "metadata": {},
   "source": [
    "# Q1.Write a Python Program for Sum of squares of first n natural numbers"
   ]
  },
  {
   "cell_type": "code",
   "execution_count": 9,
   "id": "f4f49242",
   "metadata": {},
   "outputs": [
    {
     "name": "stdout",
     "output_type": "stream",
     "text": [
      "Enter the natural number here : 5\n",
      "55\n"
     ]
    }
   ],
   "source": [
    "num = int(input(\"Enter the number here : \"))\n",
    "sum = 0\n",
    "for i in range(1,num+1):\n",
    "    sum = sum + (i**2)\n",
    "\n",
    "print(sum)    \n",
    "    "
   ]
  },
  {
   "cell_type": "markdown",
   "id": "3d31c0c9",
   "metadata": {},
   "source": [
    "# Q2..Write a Python program to interchange first and last elements in a list."
   ]
  },
  {
   "cell_type": "code",
   "execution_count": 25,
   "id": "cfa86acd",
   "metadata": {},
   "outputs": [
    {
     "name": "stdout",
     "output_type": "stream",
     "text": [
      "[4, 2, 3, 5, 1]\n"
     ]
    }
   ],
   "source": [
    "lst = [1,2,3,5,4]\n",
    "temp=lst[0]\n",
    "lst[0]=lst[-1]\n",
    "lst[-1]=temp\n",
    "\n",
    "print(lst)"
   ]
  },
  {
   "cell_type": "code",
   "execution_count": 36,
   "id": "23359433",
   "metadata": {},
   "outputs": [
    {
     "name": "stdout",
     "output_type": "stream",
     "text": [
      "Enter the numbers here : 1 4 5 3\n",
      "['1', '4', '5', '3']\n",
      "[1, 4, 5, 3]\n",
      "[3, 4, 5, 1]\n"
     ]
    }
   ],
   "source": [
    "num = input(\"Enter the numbers here : \")\n",
    "lst=num.split()\n",
    "print(lst)\n",
    "for i in range(len(lst)):\n",
    "    lst[i]=int(lst[i])\n",
    "print(lst)\n",
    "\n",
    "temp=lst[0]\n",
    "lst[0]=lst[-1]\n",
    "lst[-1]=temp\n",
    "\n",
    "print(lst)\n",
    "    "
   ]
  },
  {
   "cell_type": "markdown",
   "id": "4bc13151",
   "metadata": {},
   "source": [
    "# Q3. Write a Python program to print even numbers in a list."
   ]
  },
  {
   "cell_type": "code",
   "execution_count": 44,
   "id": "7298c2fb",
   "metadata": {},
   "outputs": [
    {
     "name": "stdout",
     "output_type": "stream",
     "text": [
      "Enter the numbers here: 9\n",
      "2\n",
      "4\n",
      "6\n",
      "8\n"
     ]
    }
   ],
   "source": [
    " def EvenNum():\n",
    "        num=int(input(\"Enter the numbers here: \"))\n",
    "        for i in range(1,num+1):\n",
    "            if(i%2==0):\n",
    "                print(i)\n",
    "EvenNum()               "
   ]
  },
  {
   "cell_type": "code",
   "execution_count": null,
   "id": "96d2eee5",
   "metadata": {},
   "outputs": [],
   "source": []
  }
 ],
 "metadata": {
  "kernelspec": {
   "display_name": "Python 3",
   "language": "python",
   "name": "python3"
  },
  "language_info": {
   "codemirror_mode": {
    "name": "ipython",
    "version": 3
   },
   "file_extension": ".py",
   "mimetype": "text/x-python",
   "name": "python",
   "nbconvert_exporter": "python",
   "pygments_lexer": "ipython3",
   "version": "3.8.8"
  }
 },
 "nbformat": 4,
 "nbformat_minor": 5
}
