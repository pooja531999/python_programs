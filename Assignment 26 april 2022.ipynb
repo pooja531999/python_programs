{
 "cells": [
  {
   "cell_type": "markdown",
   "id": "98279fb5",
   "metadata": {},
   "source": [
    "# Q.1 Write a Python program that accepts an integer (n) and computes the value of n+nn+nnn."
   ]
  },
  {
   "cell_type": "code",
   "execution_count": 10,
   "id": "f0999b64",
   "metadata": {},
   "outputs": [
    {
     "name": "stdout",
     "output_type": "stream",
     "text": [
      "Input an integer : 5\n",
      "615\n"
     ]
    }
   ],
   "source": [
    "a = int(input(\"Input an integer : \"))\n",
    "n1 = int( \"%s\" % a )\n",
    "n2 = int( \"%s%s\" % (a,a) )\n",
    "n3 = int( \"%s%s%s\" % (a,a,a) )\n",
    "print (n1+n2+n3)"
   ]
  },
  {
   "cell_type": "markdown",
   "id": "9d4a2ce5",
   "metadata": {},
   "source": [
    "# Q.2 Write a program for function abs()"
   ]
  },
  {
   "cell_type": "code",
   "execution_count": 20,
   "id": "9905f8e6",
   "metadata": {},
   "outputs": [
    {
     "name": "stdout",
     "output_type": "stream",
     "text": [
      "Enter the number here : -6\n",
      "6\n"
     ]
    }
   ],
   "source": [
    "def abs():\n",
    "        num = int(input(\"Enter the number here : \"))\n",
    "        if(num > 0):\n",
    "            print(num)\n",
    "        elif(num < 0):\n",
    "            print(-num)\n",
    "abs()"
   ]
  },
  {
   "cell_type": "code",
   "execution_count": 21,
   "id": "ae5e186e",
   "metadata": {},
   "outputs": [
    {
     "name": "stdout",
     "output_type": "stream",
     "text": [
      "Enter the number here : 6\n",
      "6\n"
     ]
    }
   ],
   "source": [
    "abs()"
   ]
  },
  {
   "cell_type": "code",
   "execution_count": 23,
   "id": "5745775c",
   "metadata": {},
   "outputs": [
    {
     "name": "stdout",
     "output_type": "stream",
     "text": [
      "The volume of the sphere is:  904.3199999999999\n"
     ]
    }
   ],
   "source": [
    "# Q.3 Write a Python program to get the volume of a sphere with radius 6.\n",
    "pi = 3.14\n",
    "r= 6.0\n",
    "V= 4.0/3.0*pi* r**3 # formula for valume of the sphere\n",
    "print('The volume of the sphere is: ',V)"
   ]
  },
  {
   "cell_type": "code",
   "execution_count": null,
   "id": "b4751acd",
   "metadata": {},
   "outputs": [],
   "source": []
  }
 ],
 "metadata": {
  "kernelspec": {
   "display_name": "Python 3",
   "language": "python",
   "name": "python3"
  },
  "language_info": {
   "codemirror_mode": {
    "name": "ipython",
    "version": 3
   },
   "file_extension": ".py",
   "mimetype": "text/x-python",
   "name": "python",
   "nbconvert_exporter": "python",
   "pygments_lexer": "ipython3",
   "version": "3.8.8"
  }
 },
 "nbformat": 4,
 "nbformat_minor": 5
}
