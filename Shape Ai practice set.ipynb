{
 "cells": [
  {
   "cell_type": "code",
   "execution_count": 2,
   "id": "61be4122",
   "metadata": {},
   "outputs": [
    {
     "name": "stdout",
     "output_type": "stream",
     "text": [
      "8.774964387392123\n"
     ]
    }
   ],
   "source": [
    "'''Find the length of the vector with its start coordinates as the origin and the end coordinates as (4,5,6).\n",
    "length = squareroot(x^2 + y^2 + z^2)'''\n",
    "import math\n",
    "x,y,z=4,5,6\n",
    "length=math.sqrt((x**2)+(y**2)+(z**2))\n",
    "print(length)"
   ]
  },
  {
   "cell_type": "code",
   "execution_count": 6,
   "id": "e0d2c057",
   "metadata": {},
   "outputs": [
    {
     "name": "stdout",
     "output_type": "stream",
     "text": [
      "<class 'int'>\n",
      "<class 'float'>\n",
      "<class 'float'>\n",
      "<class 'complex'>\n",
      "<class 'str'>\n"
     ]
    }
   ],
   "source": [
    "#to know thw datatype of any value\n",
    "a=3\n",
    "b=3.12\n",
    "c=3.144444\n",
    "d=1+2j\n",
    "e='a'\n",
    "print(type(a))\n",
    "print(type(b))\n",
    "print(type(c))\n",
    "print(type(d))\n",
    "print(type(e))"
   ]
  },
  {
   "cell_type": "code",
   "execution_count": 9,
   "id": "208b7727",
   "metadata": {},
   "outputs": [
    {
     "name": "stdout",
     "output_type": "stream",
     "text": [
      "shiva said,\"you learn as you grow\"\n",
      "shiva said,'you learn as you grow'\n",
      "\"shiva you're bag is red\"\n"
     ]
    }
   ],
   "source": [
    "#print :  shiva said, \"you learn as you grow\"\n",
    "print('shiva said,\"you learn as you grow\"')\n",
    "#or\n",
    "print(\"shiva said,'you learn as you grow'\")\n",
    "#print : \"shiva you're bag is red\"\n",
    "print('\"shiva you\\'re bag is red\"')"
   ]
  },
  {
   "cell_type": "code",
   "execution_count": 3,
   "id": "6f20c46c",
   "metadata": {},
   "outputs": [
    {
     "name": "stdout",
     "output_type": "stream",
     "text": [
      "This week's total sales : 529.0\n"
     ]
    }
   ],
   "source": [
    "mon_sales = \"121\"\n",
    "tues_sales = \"105\"\n",
    "wed_sales = \"110\"\n",
    "thurs_sales = \"98\"\n",
    "fri_sales = \"95\"\n",
    "\n",
    "#TODO: Print a string with this format: This week's total sales: xxx\n",
    "# You will probably need to write some lines of code before the print statement\n",
    "\n",
    "total_sales=(float(mon_sales)+float(tues_sales)+float(wed_sales)+float(thurs_sales)+float(fri_sales))\n",
    "\n",
    "print(\"This week's total sales :\",total_sales)\n",
    "\n",
    "\n",
    "\n"
   ]
  },
  {
   "cell_type": "code",
   "execution_count": 13,
   "id": "50f30ff5",
   "metadata": {},
   "outputs": [
    {
     "name": "stdout",
     "output_type": "stream",
     "text": [
      "shapeai\n",
      "1\n",
      "SHAPEAI\n",
      "False\n",
      "6\n",
      "Rahul is a Good boy and he got 95 marks in English\n",
      "Rahul is a Good boy and he got 95 marks in English\n"
     ]
    }
   ],
   "source": [
    "#methods in a python\n",
    "My_string=\"ShapeAI\"\n",
    "print(My_string.lower())\n",
    "print(My_string.count('a'))\n",
    "print(My_string.upper())\n",
    "print(My_string.islower())\n",
    "print(My_string.find('I'))\n",
    "\n",
    "#string method format\n",
    "name=\"Rahul\"\n",
    "marks=95\n",
    "print(\"{} is a Good boy and he got {} marks in English\".format(name,str(marks)))\n",
    "#Eg-2\n",
    "string=\"{} is a Good boy and he got {} marks in English\"\n",
    "print(string.format(\"Rahul\",95))"
   ]
  },
  {
   "cell_type": "code",
   "execution_count": 16,
   "id": "17736ee6",
   "metadata": {},
   "outputs": [
    {
     "name": "stdout",
     "output_type": "stream",
     "text": [
      "6\n",
      "stiven\n"
     ]
    }
   ],
   "source": [
    "students = ['sam', 'pam', 'rocky', 'austin', 'steve', 'banner','stiven']\n",
    "#Try to use len() to pull the last element from the above list\n",
    "print(len(students)-1)\n",
    "print(students[len(students)-1])"
   ]
  },
  {
   "cell_type": "code",
   "execution_count": 27,
   "id": "fba88aea",
   "metadata": {},
   "outputs": [
    {
     "name": "stdout",
     "output_type": "stream",
     "text": [
      "['rocky', 'austin']\n",
      "hu\n",
      "['steve', 'banner', 'stiven']\n",
      "ah\n",
      "['rocky', 'austin', 'steve', 'banner', 'stiven']\n",
      "hul\n",
      "['sam', 'pam', 'rocky', 'austin', 'steve']\n",
      "Rahul\n",
      "Rahul\n"
     ]
    }
   ],
   "source": [
    "#slicing in python {students = ['sam', 'pam', 'rocky', 'austin', 'steve', 'banner','stiven']}\n",
    "student=\"Rahul\"\n",
    "print(students[2:4])\n",
    "print(student[2:4])\n",
    "marvel = students[4:7]\n",
    "flash = student[1:3]\n",
    "\n",
    "print(marvel)\n",
    "print(flash)\n",
    "\n",
    "#slice from the end\n",
    "print(students[2:])\n",
    "print(student[2:])\n",
    "\n",
    "#slice from the bigining\n",
    "\n",
    "print(students[:5])\n",
    "print(student[:5])\n",
    "print(student[:])\n"
   ]
  },
  {
   "cell_type": "code",
   "execution_count": 50,
   "id": "d299ba2f",
   "metadata": {},
   "outputs": [
    {
     "name": "stdout",
     "output_type": "stream",
     "text": [
      "\n",
      "hu\n",
      "luhaR\n"
     ]
    }
   ],
   "source": [
    "#negative slicing {student=\"Rahul\",students = ['sam', 'pam', 'rocky', 'austin', 'steve', 'banner','stiven']}\n",
    "print(student[-1:2])\n",
    "print(student[2:-1])\n",
    "\n",
    "#reverse slicing \n",
    "print(student[::-1])\n"
   ]
  },
  {
   "cell_type": "code",
   "execution_count": 52,
   "id": "3704b854",
   "metadata": {},
   "outputs": [
    {
     "name": "stdout",
     "output_type": "stream",
     "text": [
      "['sam', 'rocky', 'steve', 'stiven']\n"
     ]
    }
   ],
   "source": [
    "#slicing[start:end:step]\n",
    "print(students[:7:2])"
   ]
  },
  {
   "cell_type": "code",
   "execution_count": null,
   "id": "f5489e78",
   "metadata": {},
   "outputs": [],
   "source": []
  }
 ],
 "metadata": {
  "kernelspec": {
   "display_name": "Python 3",
   "language": "python",
   "name": "python3"
  },
  "language_info": {
   "codemirror_mode": {
    "name": "ipython",
    "version": 3
   },
   "file_extension": ".py",
   "mimetype": "text/x-python",
   "name": "python",
   "nbconvert_exporter": "python",
   "pygments_lexer": "ipython3",
   "version": "3.8.8"
  }
 },
 "nbformat": 4,
 "nbformat_minor": 5
}
