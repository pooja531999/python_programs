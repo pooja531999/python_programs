{
 "cells": [
  {
   "cell_type": "markdown",
   "id": "1a046bb7",
   "metadata": {},
   "source": [
    "# Q1.Write a Pandas program to create and display a one-dimensional array-like object containing an array of data using Pandas module.."
   ]
  },
  {
   "cell_type": "code",
   "execution_count": 9,
   "id": "fb43140f",
   "metadata": {},
   "outputs": [],
   "source": [
    "import pandas as pd"
   ]
  },
  {
   "cell_type": "code",
   "execution_count": 10,
   "id": "e0a709d7",
   "metadata": {},
   "outputs": [
    {
     "name": "stdout",
     "output_type": "stream",
     "text": [
      "0    4\n",
      "1    5\n",
      "2    2\n",
      "3    3\n",
      "4    3\n",
      "dtype: int64\n"
     ]
    }
   ],
   "source": [
    "data = pd.Series([4,5,2,3,3])\n",
    "print(data)"
   ]
  },
  {
   "cell_type": "markdown",
   "id": "1c6f2b2d",
   "metadata": {},
   "source": [
    "# Q2.Write a Pandas program to convert a Panda module Series to Python list and it's type."
   ]
  },
  {
   "cell_type": "code",
   "execution_count": 11,
   "id": "225d725c",
   "metadata": {},
   "outputs": [
    {
     "name": "stdout",
     "output_type": "stream",
     "text": [
      "<class 'pandas.core.series.Series'>\n"
     ]
    }
   ],
   "source": [
    "print(type(data))"
   ]
  },
  {
   "cell_type": "code",
   "execution_count": 12,
   "id": "6122cab7",
   "metadata": {},
   "outputs": [
    {
     "name": "stdout",
     "output_type": "stream",
     "text": [
      "[4, 5, 2, 3, 3]\n"
     ]
    }
   ],
   "source": [
    "print(data.tolist())"
   ]
  },
  {
   "cell_type": "markdown",
   "id": "045ba78f",
   "metadata": {},
   "source": [
    "# Q3.Write a Pandas program to add, subtract, multiple and divide two Pandas Series. Go to the editor Sample Series"
   ]
  },
  {
   "cell_type": "code",
   "execution_count": 16,
   "id": "e56345f7",
   "metadata": {},
   "outputs": [
    {
     "name": "stdout",
     "output_type": "stream",
     "text": [
      "0    14\n",
      "1    14\n",
      "2    13\n",
      "3     7\n",
      "4     9\n",
      "5     7\n",
      "dtype: int64\n",
      "\n",
      "\n",
      "0   -2\n",
      "1   -4\n",
      "2   -1\n",
      "3   -3\n",
      "4   -3\n",
      "5    1\n",
      "dtype: int64\n",
      "\n",
      "\n",
      "0    48\n",
      "1    45\n",
      "2    42\n",
      "3    10\n",
      "4    18\n",
      "5    12\n",
      "dtype: int64\n",
      "\n",
      "\n",
      "0    0.750000\n",
      "1    0.555556\n",
      "2    0.857143\n",
      "3    0.400000\n",
      "4    0.500000\n",
      "5    1.333333\n",
      "dtype: float64\n",
      "\n",
      "\n"
     ]
    }
   ],
   "source": [
    "ds1 = pd.Series([6,5,6,2,3,4])\n",
    "ds2 = pd.Series([8,9,7,5,6,3])\n",
    "print(ds1 + ds2)\n",
    "print(\"\\n\")\n",
    "print(ds1 - ds2)\n",
    "print(\"\\n\")\n",
    "print(ds1*ds2)\n",
    "print(\"\\n\")\n",
    "print(ds1/ds2)\n",
    "print(\"\\n\")\n"
   ]
  },
  {
   "cell_type": "code",
   "execution_count": null,
   "id": "34934416",
   "metadata": {},
   "outputs": [],
   "source": []
  }
 ],
 "metadata": {
  "kernelspec": {
   "display_name": "Python 3",
   "language": "python",
   "name": "python3"
  },
  "language_info": {
   "codemirror_mode": {
    "name": "ipython",
    "version": 3
   },
   "file_extension": ".py",
   "mimetype": "text/x-python",
   "name": "python",
   "nbconvert_exporter": "python",
   "pygments_lexer": "ipython3",
   "version": "3.8.8"
  }
 },
 "nbformat": 4,
 "nbformat_minor": 5
}
