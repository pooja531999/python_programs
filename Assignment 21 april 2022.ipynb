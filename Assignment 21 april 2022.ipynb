{
 "cells": [
  {
   "cell_type": "code",
   "execution_count": 13,
   "id": "36abd695",
   "metadata": {},
   "outputs": [],
   "source": [
    "f=open('python.txt','w')\n",
    "f.write('Python is very useful for data science.\\nIt contains many library such as pandas,seaborn,matplotlib,numpy,scipy etc.')\n",
    "f.close()"
   ]
  },
  {
   "cell_type": "code",
   "execution_count": 14,
   "id": "7bf8c386",
   "metadata": {},
   "outputs": [
    {
     "name": "stdout",
     "output_type": "stream",
     "text": [
      "113\n"
     ]
    }
   ],
   "source": [
    "# to append another writing text in file \n",
    "f=open('python.txt','a')\n",
    "a=f.write('\\npandas and numpy is used in data science for data cleaning.\\nmatplotlib and seaborn is used for data visulization')\n",
    "print(a) # it returns how many characters are written in the file\n",
    "f.close()"
   ]
  },
  {
   "cell_type": "code",
   "execution_count": 12,
   "id": "6a31a652",
   "metadata": {},
   "outputs": [],
   "source": [
    "'''f=open('python.txt','w') # it clear all the text above and print belo text only\n",
    "f.write('Python is very useful for data science.\\nIt contains many library such as pandas,seaborn,matplotlib,numpy,scipy etc.')\n",
    "f.close()'''\n"
   ]
  },
  {
   "cell_type": "code",
   "execution_count": 17,
   "id": "acf14cf6",
   "metadata": {},
   "outputs": [
    {
     "name": "stdout",
     "output_type": "stream",
     "text": [
      "pandas,seaborn,matplotlib,numpy,scipy etc.\n",
      "pandas and numpy is used in data science for data cleaning.\n",
      "matplotlib and seaborn is used for data visulization\n",
      "beautifulsoup is library in python.\n",
      "with this library we do webscraping\n"
     ]
    }
   ],
   "source": [
    "# open file in both read and write mode\n",
    "f=open('python.txt','r+')\n",
    "a=f.write('\\nbeautifulsoup is library in python.\\nwith this library we do webscraping')\n",
    "print(f.read())\n",
    "f.close()"
   ]
  },
  {
   "cell_type": "code",
   "execution_count": null,
   "id": "96b33a38",
   "metadata": {},
   "outputs": [],
   "source": []
  }
 ],
 "metadata": {
  "kernelspec": {
   "display_name": "Python 3",
   "language": "python",
   "name": "python3"
  },
  "language_info": {
   "codemirror_mode": {
    "name": "ipython",
    "version": 3
   },
   "file_extension": ".py",
   "mimetype": "text/x-python",
   "name": "python",
   "nbconvert_exporter": "python",
   "pygments_lexer": "ipython3",
   "version": "3.8.8"
  }
 },
 "nbformat": 4,
 "nbformat_minor": 5
}
