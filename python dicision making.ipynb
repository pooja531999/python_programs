{
 "cells": [
  {
   "cell_type": "code",
   "execution_count": 1,
   "id": "791f7a8e",
   "metadata": {},
   "outputs": [
    {
     "name": "stdout",
     "output_type": "stream",
     "text": [
      "Yes.He is a student\n"
     ]
    }
   ],
   "source": [
    "student=(\"Rahul\",\"Arya\",\"Kartik\",\"seema\",2,6,5,11)\n",
    "\n",
    "if \"Rahul\" in student:\n",
    "    print(\"Yes.He is a student\")\n",
    "else:\n",
    "    print(\"Invalid name\")\n"
   ]
  },
  {
   "cell_type": "code",
   "execution_count": 2,
   "id": "5e188553",
   "metadata": {},
   "outputs": [
    {
     "name": "stdout",
     "output_type": "stream",
     "text": [
      "1\n",
      "3\n",
      "5\n",
      "7\n",
      "9\n"
     ]
    }
   ],
   "source": [
    "\n",
    "for i in range(1,11,2):\n",
    "    print(i)"
   ]
  },
  {
   "cell_type": "code",
   "execution_count": 3,
   "id": "2af32f90",
   "metadata": {},
   "outputs": [
    {
     "name": "stdout",
     "output_type": "stream",
     "text": [
      "2\n",
      "3\n",
      "4\n",
      "5\n",
      "6\n",
      "7\n",
      "8\n",
      "9\n",
      "10\n",
      "11\n"
     ]
    }
   ],
   "source": [
    "for i in range(2,12,1):\n",
    "    print(i)"
   ]
  },
  {
   "cell_type": "code",
   "execution_count": 4,
   "id": "b9842e91",
   "metadata": {},
   "outputs": [
    {
     "name": "stdout",
     "output_type": "stream",
     "text": [
      "0\n",
      "1\n",
      "2\n",
      "3\n"
     ]
    }
   ],
   "source": [
    "for i in range(4):\n",
    "    print(i)"
   ]
  },
  {
   "cell_type": "code",
   "execution_count": 5,
   "id": "e64b1ab0",
   "metadata": {},
   "outputs": [
    {
     "name": "stdout",
     "output_type": "stream",
     "text": [
      "2\n",
      "4\n",
      "6\n",
      "8\n"
     ]
    }
   ],
   "source": [
    "for i in range(2,10):\n",
    "    if i%2!=0:\n",
    "        continue\n",
    "    print(i)"
   ]
  },
  {
   "cell_type": "code",
   "execution_count": 6,
   "id": "22968803",
   "metadata": {},
   "outputs": [
    {
     "name": "stdout",
     "output_type": "stream",
     "text": [
      "['pune', 'new york', 'chicago', 'los angeles']\n"
     ]
    }
   ],
   "source": [
    "cities=[\"pune\",\"new york\",\"chicago\",\"los angeles\"]\n",
    "capitalized_cities=[]\n",
    "\n",
    "for i in cities:\n",
    "    capitalized_cities.append(i)\n",
    "print(capitalized_cities)"
   ]
  },
  {
   "cell_type": "code",
   "execution_count": 7,
   "id": "3ece7a6c",
   "metadata": {},
   "outputs": [
    {
     "name": "stdout",
     "output_type": "stream",
     "text": [
      "['Pune', 'New York', 'Chicago', 'Los Angeles']\n"
     ]
    }
   ],
   "source": [
    "cities=[\"Pune\",\"New York\",\"chicago\",\"los angeles\"]\n",
    "capitalized_cities=[]\n",
    "\n",
    "for i in cities:\n",
    "    capitalized_cities.append(i.title())\n",
    "print(capitalized_cities)"
   ]
  },
  {
   "cell_type": "code",
   "execution_count": 8,
   "id": "7295dc48",
   "metadata": {},
   "outputs": [
    {
     "name": "stdout",
     "output_type": "stream",
     "text": [
      "5\n",
      "10\n",
      "15\n",
      "20\n",
      "25\n"
     ]
    }
   ],
   "source": [
    "# Write a for loop using range() to print out multiples of 5 up to 30 inclusive\n",
    "\n",
    "for i in range(5,30,5):\n",
    "    print(i)"
   ]
  },
  {
   "cell_type": "code",
   "execution_count": 9,
   "id": "60714e8c",
   "metadata": {},
   "outputs": [
    {
     "name": "stdout",
     "output_type": "stream",
     "text": [
      "['joey_tribbiani', 'monica_geller', 'chandler_bing', 'phoebe_buffay']\n"
     ]
    }
   ],
   "source": [
    "''''Write a for loop that iterates over the names list to create a usernames list.\n",
    "To create a username for each name, make everything lowercase and\n",
    "replace spaces with underscores. Running your for loop over the list:'''\n",
    "\n",
    "names = [\"Joey Tribbiani\", \"Monica Geller\", \"Chandler Bing\", \"Phoebe Buffay\"]\n",
    "usernames=[]\n",
    "    \n",
    "for i in names:\n",
    "    usernames.append(i.lower().replace(\" \",\"_\"))\n",
    "print(usernames)    "
   ]
  },
  {
   "cell_type": "code",
   "execution_count": 10,
   "id": "23bc5ed5",
   "metadata": {},
   "outputs": [
    {
     "name": "stdout",
     "output_type": "stream",
     "text": [
      "3\n"
     ]
    }
   ],
   "source": [
    "#Write a for loop that iterates over a list of strings, tokens, and counts how many of them are XML tags.\n",
    "tokens = ['<greeting>', 'Hello World!', '</greeting>','<Welcome>']\n",
    "\n",
    "count=0\n",
    "for i in tokens:\n",
    "    if i[0] == '<' and i[-1] == '>':\n",
    "        count += 1\n",
    "    \n",
    "print(count)    \n",
    "    "
   ]
  },
  {
   "cell_type": "code",
   "execution_count": 11,
   "id": "8f079d86",
   "metadata": {},
   "outputs": [
    {
     "name": "stdout",
     "output_type": "stream",
     "text": [
      "<ul>\n",
      "<li>first string</li>\n",
      "<li>second string</li>\n",
      "</ul>\n"
     ]
    }
   ],
   "source": [
    "'''Write some code, including a for loop, that iterates over a list of strings and creates a\n",
    "single string, html_str, which is an HTML list. For example, if the list is \n",
    "items = ['first string', 'second string'], printing html_str should output:\n",
    "<ul>\n",
    "<li>first string</li>\n",
    "<li>second string</li>\n",
    "</ul>'''\n",
    "\n",
    "items = ['first string', 'second string']\n",
    "html_str='<ul>\\n'\n",
    "\n",
    "for i in items:\n",
    "    html_str+='<li>{}</li>\\n'.format(i)\n",
    "    \n",
    "html_str+='</ul>'\n",
    "\n",
    "print(html_str)\n",
    "\n",
    "\n",
    "\n"
   ]
  },
  {
   "cell_type": "code",
   "execution_count": 12,
   "id": "6b084f1e",
   "metadata": {},
   "outputs": [
    {
     "name": "stdout",
     "output_type": "stream",
     "text": [
      "Joey Tribbiani\n",
      "Monica Geller\n",
      "Phoebe Buffay\n",
      "Ross Geller\n"
     ]
    }
   ],
   "source": [
    "cast = {\n",
    "           \"Joey Tribbiani\": \"Joey Tribbiani\",\n",
    "           \"Monica Geller\": \"Chandler Bing\",\n",
    "           \"Phoebe Buffay\": \"Mike Hannigan\",\n",
    "           \"Ross Geller\": \"Rachel Green\"\n",
    "       }\n",
    "\n",
    "\n",
    "for key in cast:\n",
    "    print(key)"
   ]
  },
  {
   "cell_type": "code",
   "execution_count": 13,
   "id": "40e1ddb0",
   "metadata": {},
   "outputs": [
    {
     "name": "stdout",
     "output_type": "stream",
     "text": [
      "partner 1 : Joey Tribbiani  partner 2 : Joey Tribbiani\n",
      "partner 1 : Monica Geller  partner 2 : Chandler Bing\n",
      "partner 1 : Phoebe Buffay  partner 2 : Mike Hannigan\n",
      "partner 1 : Ross Geller  partner 2 : Rachel Green\n"
     ]
    }
   ],
   "source": [
    "for key,value in cast.items():\n",
    "    print('partner 1 : {}  partner 2 : {}'.format(key,value))"
   ]
  },
  {
   "cell_type": "code",
   "execution_count": 14,
   "id": "a2725479",
   "metadata": {},
   "outputs": [
    {
     "name": "stdout",
     "output_type": "stream",
     "text": [
      "Rahul\n",
      "Riya\n",
      "Arnab\n"
     ]
    }
   ],
   "source": [
    "students={'Rahul':11,\"Riya\":12,\"Arnab\":13}\n",
    "for key in students:\n",
    "    print(key)"
   ]
  },
  {
   "cell_type": "code",
   "execution_count": 15,
   "id": "a8a67579",
   "metadata": {},
   "outputs": [
    {
     "name": "stdout",
     "output_type": "stream",
     "text": [
      "Name : Rahul  Roll No : 11\n",
      "Name : Riya  Roll No : 12\n",
      "Name : Arnab  Roll No : 13\n"
     ]
    }
   ],
   "source": [
    "for key,value in students.items():\n",
    "    print(\"Name : {}  Roll No : {}\".format(key,value))"
   ]
  },
  {
   "cell_type": "code",
   "execution_count": 16,
   "id": "221ca683",
   "metadata": {},
   "outputs": [
    {
     "name": "stdout",
     "output_type": "stream",
     "text": [
      "There are 23 fruits in the basket.\n"
     ]
    }
   ],
   "source": [
    "result = 0\n",
    "basket_items = {'apples': 4, 'oranges': 19, 'kites': 3, 'sandwiches': 8}\n",
    "fruits = ['apples', 'oranges', 'pears', 'peaches', 'grapes', 'bananas']\n",
    "\n",
    "#Iterate through the dictionary\n",
    "for i,j in basket_items.items():\n",
    "    if i in fruits:\n",
    "        result +=j\n",
    "\n",
    "print(\"There are {} fruits in the basket.\".format(result))        \n"
   ]
  },
  {
   "cell_type": "code",
   "execution_count": 17,
   "id": "0c41ff8e",
   "metadata": {},
   "outputs": [
    {
     "name": "stdout",
     "output_type": "stream",
     "text": [
      "1\n",
      "2\n",
      "3\n",
      "4\n",
      "5\n",
      "i is no longer less than 6\n"
     ]
    }
   ],
   "source": [
    "i = 1\n",
    "while i < 6:\n",
    "    print(i)\n",
    "    i += 1\n",
    "else:\n",
    "    print(\"i is no longer less than 6\")"
   ]
  },
  {
   "cell_type": "code",
   "execution_count": 18,
   "id": "f77983ed",
   "metadata": {},
   "outputs": [
    {
     "name": "stdout",
     "output_type": "stream",
     "text": [
      "b is greater\n"
     ]
    }
   ],
   "source": [
    "a=2\n",
    "b=6\n",
    "\n",
    "print(\"a is greater\") if a>b else print(\"b is greater\")"
   ]
  },
  {
   "cell_type": "code",
   "execution_count": 19,
   "id": "080959cd",
   "metadata": {},
   "outputs": [],
   "source": [
    "if a<b:\n",
    "    pass"
   ]
  },
  {
   "cell_type": "code",
   "execution_count": 20,
   "id": "769b57a1",
   "metadata": {},
   "outputs": [
    {
     "name": "stdout",
     "output_type": "stream",
     "text": [
      "Enter the length of rectangle\n",
      "6\n",
      "Enter the breadth of rectangle\n",
      "5\n",
      "no,it is not square,it is only rectangle\n"
     ]
    }
   ],
   "source": [
    "#take values of length and breadth of a rectangle from user and check if it is square or not\n",
    "print(\"Enter the length of rectangle\")\n",
    "length=int(input())\n",
    "print(\"Enter the breadth of rectangle\")\n",
    "breadth=int(input())\n",
    "\n",
    "if length == breadth:\n",
    "    print(\"Yes,it is square\")\n",
    "else:\n",
    "    print(\"no,it is not square,it is only rectangle\")\n"
   ]
  },
  {
   "cell_type": "code",
   "execution_count": 21,
   "id": "1e7d012d",
   "metadata": {},
   "outputs": [
    {
     "name": "stdout",
     "output_type": "stream",
     "text": [
      "Enter the number\n",
      "5\n",
      "5\n"
     ]
    }
   ],
   "source": [
    "print(\"Enter the number\")\n",
    "num=int(input())\n",
    "\n",
    "if(num<0):\n",
    "    print(num*-1)\n",
    "else:\n",
    "    print(num)"
   ]
  },
  {
   "cell_type": "code",
   "execution_count": 22,
   "id": "055f700e",
   "metadata": {},
   "outputs": [
    {
     "name": "stdout",
     "output_type": "stream",
     "text": [
      "If you have medical cause say 'Y' or if not then say 'N'\n",
      "N\n",
      "Enter your age\n",
      "56\n",
      "not allowed\n"
     ]
    }
   ],
   "source": [
    "# allow student to sit if he/she has medical cause.ask user if he/she has medical cuase or not(\"Y\" or \"N\") and print accordingly\n",
    "medical_cause=(input(\"If you have medical cause say 'Y' or if not then say 'N'\\n\"))\n",
    "\n",
    "if medical_cause == \"Y\":\n",
    "    print(\"you are allowed\")\n",
    "else:\n",
    "    age=int(input(\"Enter your age\\n\"))\n",
    "    if age >= 75:\n",
    "        print(\"allowed\")\n",
    "    else:\n",
    "        print(\"not allowed\")"
   ]
  },
  {
   "cell_type": "code",
   "execution_count": 23,
   "id": "72949ab3",
   "metadata": {},
   "outputs": [
    {
     "name": "stdout",
     "output_type": "stream",
     "text": [
      "Enter first number\n",
      "5\n",
      "Enter second number\n",
      "6\n",
      "Enter the operator between +,-,/,*\n",
      "-\n"
     ]
    }
   ],
   "source": [
    "'''design a calculator which will correctly solve all the problems except the following ones :\n",
    "45 * 3=555,56*9=77,56/6=4 \n",
    "your program should take operstor and the two number as input from user and then return the result'''\n",
    "\n",
    "print(\"Enter first number\")\n",
    "num1=int(input())\n",
    "print(\"Enter second number\")\n",
    "num2=int(input())\n",
    "print(\"Enter the operator between +,-,/,*\")\n",
    "operator=input()\n",
    "\n",
    "if(num1 == 45 and num2 == 3 and operator == '*'):\n",
    "    print(\"555\")\n",
    "elif(num1 == 56 and num2 == 9 and operator == '*'):\n",
    "    print(\"77\") \n",
    "elif(num1 == 56 and num2 == 6 and operator == '/'):\n",
    "    print(\"4\")\n"
   ]
  },
  {
   "cell_type": "code",
   "execution_count": 24,
   "id": "8b74f5f2",
   "metadata": {},
   "outputs": [
    {
     "name": "stdout",
     "output_type": "stream",
     "text": [
      "['c', 3]\n",
      "['a', 1]\n",
      "['b', 3]\n",
      "c in position 3\n",
      "a in position 1\n",
      "b in position 3\n",
      "3\n",
      "1\n",
      "3\n"
     ]
    }
   ],
   "source": [
    "list=[['c',3],['a',1],['b',3]]\n",
    "\n",
    "for i in list:\n",
    "    print(i)\n",
    "    \n",
    "for i,j in list:\n",
    "    print(i,\"in position\",j)\n",
    "    \n",
    "for i,j in list:\n",
    "    print(j)"
   ]
  },
  {
   "cell_type": "code",
   "execution_count": 25,
   "id": "f3aaccd2",
   "metadata": {},
   "outputs": [
    {
     "name": "stdout",
     "output_type": "stream",
     "text": [
      "c\n",
      "a\n",
      "b\n"
     ]
    }
   ],
   "source": [
    "dict1=dict(list) # convert the list into dictionary\n",
    " \n",
    "for i in dict1:\n",
    "    print(i)   "
   ]
  },
  {
   "cell_type": "code",
   "execution_count": 26,
   "id": "ac7effbe",
   "metadata": {},
   "outputs": [
    {
     "name": "stdout",
     "output_type": "stream",
     "text": [
      "5\n",
      "6\n",
      "2\n",
      "56\n",
      "45\n"
     ]
    }
   ],
   "source": [
    "items=(int,float,'harry','kavery',5,6,2,56,45)\n",
    "\n",
    "for i in items:\n",
    "    if str(i).isnumeric() and i>=2:\n",
    "        print(i)"
   ]
  },
  {
   "cell_type": "code",
   "execution_count": 27,
   "id": "3aeaa111",
   "metadata": {},
   "outputs": [],
   "source": [
    "state = \"CA\"\n",
    "purchase_amount = 20\n",
    "\n",
    "if (state == \"CA\"):#provide conditional for checking state is CA\n",
    "    tax_amount = .075\n",
    "    total_cost = purchase_amount*(1+tax_amount)\n",
    "    result = \"Since you're from {}, your total cost is {}.\".format(state, total_cost)\n",
    "\n",
    "elif (state == \"MN\"): #provide conditional for checking state is MN\n",
    "    tax_amount = .095\n",
    "    total_cost = purchase_amount*(1+tax_amount)\n",
    "    result = \"Since you're from {}, your total cost is {}.\".format(state, total_cost)\n",
    "\n",
    "elif (state == \"NY\"): #provide conditional for checking state is NY\n",
    "    tax_amount = .089\n",
    "    total_cost = purchase_amount*(1+tax_amount)\n",
    "    result = \"Since you're from {}, your total cost is {}.\".format(state, total_cost)\n",
    "    prints(result)"
   ]
  },
  {
   "cell_type": "code",
   "execution_count": 28,
   "id": "79f35156",
   "metadata": {},
   "outputs": [
    {
     "name": "stdout",
     "output_type": "stream",
     "text": [
      "Grade A\n"
     ]
    }
   ],
   "source": [
    "marks = 60\n",
    "if marks >=50 and marks <=60:\n",
    "    print(\"Grade A\")\n",
    "else:\n",
    "    print('study hard')"
   ]
  },
  {
   "cell_type": "code",
   "execution_count": 29,
   "id": "919374c8",
   "metadata": {},
   "outputs": [
    {
     "name": "stdout",
     "output_type": "stream",
     "text": [
      "a and b are equal\n"
     ]
    }
   ],
   "source": [
    "a = 33\n",
    "b = 33\n",
    "if b > a:\n",
    "  print(\"b is greater than a\")\n",
    "elif a == b:\n",
    "  print(\"a and b are equal\")"
   ]
  },
  {
   "cell_type": "code",
   "execution_count": 30,
   "id": "2d33fbbe",
   "metadata": {},
   "outputs": [
    {
     "name": "stdout",
     "output_type": "stream",
     "text": [
      "a is greater than b\n"
     ]
    }
   ],
   "source": [
    "a = 200\n",
    "b = 33\n",
    "if b > a:\n",
    "  print(\"b is greater than a\")\n",
    "elif a == b:\n",
    "  print(\"a and b are equal\")\n",
    "else:\n",
    "  print(\"a is greater than b\")"
   ]
  },
  {
   "cell_type": "code",
   "execution_count": 35,
   "id": "78f4970a",
   "metadata": {},
   "outputs": [
    {
     "name": "stdout",
     "output_type": "stream",
     "text": [
      "Enter your age :85\n",
      "Your name please:Radhika\n",
      "ok,please wait a minute Radhika\n",
      "you may go now\n"
     ]
    }
   ],
   "source": [
    "age=int(input(\"Enter your age :\"))\n",
    "limit=18\n",
    "name=input(\"Your name please:\")\n",
    "\n",
    "if(age > limit):\n",
    "    print(\"ok,please wait a minute\",name)\n",
    "    if(type(name)==str):\n",
    "        print(\"you may go now\")\n",
    "    else:\n",
    "        print(\"You are putting the wrong name\")\n",
    "else:\n",
    "    print(\"You enter the name which is not equal to limit\")\n",
    "    "
   ]
  },
  {
   "cell_type": "code",
   "execution_count": 38,
   "id": "cc86cfa5",
   "metadata": {},
   "outputs": [
    {
     "name": "stdout",
     "output_type": "stream",
     "text": [
      "Enter the value of N:5\n",
      "sum :  5\n",
      "sum :  9\n",
      "sum :  12\n",
      "sum :  14\n",
      "sum :  15\n",
      "Loop end\n",
      "Bye\n"
     ]
    }
   ],
   "source": [
    "sum=0\n",
    "n=int(input(\"Enter the value of N:\"))\n",
    "\n",
    "while(n>0):\n",
    "    sum+=n\n",
    "    n-=1\n",
    "    print(\"sum : \",sum)\n",
    "else:\n",
    "    print(\"Loop end\")\n",
    "print(\"Bye\")    "
   ]
  },
  {
   "cell_type": "code",
   "execution_count": 46,
   "id": "a6e7baa6",
   "metadata": {},
   "outputs": [
    {
     "name": "stdout",
     "output_type": "stream",
     "text": [
      "*\n",
      "**\n",
      "***\n",
      "****\n",
      "*****\n",
      "******\n",
      "*******\n",
      "********\n"
     ]
    }
   ],
   "source": [
    "# print *\n",
    "\n",
    "for i in range(1,9):\n",
    "    for j in range(i):\n",
    "        print(\"*\",end=\"\")\n",
    "    print()        "
   ]
  },
  {
   "cell_type": "code",
   "execution_count": 49,
   "id": "63ecf39d",
   "metadata": {},
   "outputs": [
    {
     "name": "stdout",
     "output_type": "stream",
     "text": [
      "*********\n",
      "********\n",
      "*******\n",
      "******\n",
      "*****\n",
      "****\n",
      "***\n",
      "**\n"
     ]
    }
   ],
   "source": [
    "for i in range(9,1,-1):\n",
    "    for j in range(i):\n",
    "        print(\"*\",end=\"\")\n",
    "    print() "
   ]
  },
  {
   "cell_type": "code",
   "execution_count": null,
   "id": "3b5e9165",
   "metadata": {},
   "outputs": [],
   "source": []
  }
 ],
 "metadata": {
  "kernelspec": {
   "display_name": "Python 3",
   "language": "python",
   "name": "python3"
  },
  "language_info": {
   "codemirror_mode": {
    "name": "ipython",
    "version": 3
   },
   "file_extension": ".py",
   "mimetype": "text/x-python",
   "name": "python",
   "nbconvert_exporter": "python",
   "pygments_lexer": "ipython3",
   "version": "3.8.8"
  }
 },
 "nbformat": 4,
 "nbformat_minor": 5
}
