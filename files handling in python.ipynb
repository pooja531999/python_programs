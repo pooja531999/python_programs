{
 "cells": [
  {
   "cell_type": "code",
   "execution_count": 1,
   "id": "90c3c5f3",
   "metadata": {},
   "outputs": [
    {
     "name": "stdout",
     "output_type": "stream",
     "text": [
      "Python was conceived in the late 1980s[38] by Guido van Rossum at Centrum Wiskunde & Informatica (CWI) in the Netherlands as a successor to ABC programming language, which was inspired by SETL,[39] capable of exception handling and interfacing with the Amoeba operating system.[10] Its implementation began in December 1989.[40] Van Rossum shouldered sole responsibility for the project, as the lead developer, until 12 July 2018, when he announced his \"permanent vacation\" from his responsibilities as Python's \"Benevolent Dictator For Life\", a title the Python community bestowed upon him to reflect his long-term commitment as the project's chief decision-maker.[41] In January 2019, active Python core developers elected a five-member \"Steering Council\" to lead the project.[42][43]\n",
      "\n",
      "Python 2.0 was released on 16 October 2000, with many major new features, including a cycle-detecting garbage collector and support for Unicode.[44]\n",
      "\n",
      "Python 3.0 was released on 3 December 2008. It was a major revision of the language that is not completely backward-compatible.[45] Many of its major features were backported to Python 2.6.x[46] and 2.7.x version series. Releases of Python 3 include the 2to3 utility, which automates the translation of Python 2 code to Python 3.[47]\n",
      "\n",
      "Python 2.7's end-of-life date was initially set at 2015 then postponed to 2020 out of concern that a large body of existing code could not easily be forward-ported to Python 3.[48][49] No more security patches or other improvements will be released for it.[50][51] With Python 2's end-of-life, only Python 3.6.x[52] and later are supported.\n",
      "\n",
      "Python 3.9.2 and 3.8.8 were expedited[53] as all versions of Python (including 2.7[54]) had security issues, leading to possible remote code execution[55] and web cache poisoning.[56]\n"
     ]
    }
   ],
   "source": [
    "f = open(\"python_information.txt\") #to open the file\n",
    "content=f.read()#to read the content of file\n",
    "print(content)"
   ]
  },
  {
   "cell_type": "code",
   "execution_count": 2,
   "id": "d2ef98ef",
   "metadata": {},
   "outputs": [
    {
     "name": "stdout",
     "output_type": "stream",
     "text": [
      "Python was conceived in the late 1980s[38] by Guido van Rossum at Centrum Wiskunde & Informatica (CWI) in the Netherlands as a successor to ABC programming language, which was inspired by SETL,[39] capable of exception handling and interfacing with the Amoeba operating system.[10] Its implementation began in December 1989.[40] Van Rossum shouldered sole responsibility for the project, as the lead developer, until 12 July 2018, when he announced his \"permanent vacation\" from his responsibilities as Python's \"Benevolent Dictator For Life\", a title the Python community bestowed upon him to reflect his long-term commitment as the project's chief decision-maker.[41] In January 2019, active Python core developers elected a five-member \"Steering Council\" to lead the project.[42][43]\n",
      "\n",
      "Python 2.0 was released on 16 October 2000, with many major new features, including a cycle-detecting garbage collector and support for Unicode.[44]\n",
      "\n",
      "Python 3.0 was released on 3 December 2008. It was a major revision of the language that is not completely backward-compatible.[45] Many of its major features were backported to Python 2.6.x[46] and 2.7.x version series. Releases of Python 3 include the 2to3 utility, which automates the translation of Python 2 code to Python 3.[47]\n",
      "\n",
      "Python 2.7's end-of-life date was initially set at 2015 then postponed to 2020 out of concern that a large body of existing code could not easily be forward-ported to Python 3.[48][49] No more security patches or other improvements will be released for it.[50][51] With Python 2's end-of-life, only Python 3.6.x[52] and later are supported.\n",
      "\n",
      "Python 3.9.2 and 3.8.8 were expedited[53] as all versions of Python (including 2.7[54]) had security issues, leading to possible remote code execution[55] and web cache poisoning.[56]\n"
     ]
    }
   ],
   "source": [
    "g = open(\"python_information.txt\",'rt')\n",
    "print(g.read())"
   ]
  },
  {
   "cell_type": "code",
   "execution_count": 3,
   "id": "992769b8",
   "metadata": {},
   "outputs": [
    {
     "data": {
      "text/plain": [
       "''"
      ]
     },
     "execution_count": 3,
     "metadata": {},
     "output_type": "execute_result"
    }
   ],
   "source": [
    "f.readline()# to read line "
   ]
  },
  {
   "cell_type": "code",
   "execution_count": 4,
   "id": "b590342d",
   "metadata": {},
   "outputs": [
    {
     "data": {
      "text/plain": [
       "[]"
      ]
     },
     "execution_count": 4,
     "metadata": {},
     "output_type": "execute_result"
    }
   ],
   "source": [
    "f.readlines() # to read a file contents in list"
   ]
  },
  {
   "cell_type": "code",
   "execution_count": 5,
   "id": "7bd113dd",
   "metadata": {},
   "outputs": [],
   "source": [
    "f.close()"
   ]
  },
  {
   "cell_type": "markdown",
   "id": "4c8f69fe",
   "metadata": {},
   "source": [
    "# File creating"
   ]
  },
  {
   "cell_type": "code",
   "execution_count": 6,
   "id": "4699355a",
   "metadata": {},
   "outputs": [],
   "source": [
    "s=\"This is my file handling program\"\n",
    "f=open(\"Demo.txt\",\"w\")\n",
    "f.write(s)\n",
    "f.close()"
   ]
  },
  {
   "cell_type": "code",
   "execution_count": 7,
   "id": "218d4fdd",
   "metadata": {},
   "outputs": [
    {
     "name": "stdout",
     "output_type": "stream",
     "text": [
      "This is my file handling program\n"
     ]
    }
   ],
   "source": [
    "file=open(\"Demo.txt\",\"r\")\n",
    "content=file.read()\n",
    "print(content)"
   ]
  },
  {
   "cell_type": "code",
   "execution_count": 8,
   "id": "bd50f769",
   "metadata": {},
   "outputs": [],
   "source": [
    "# List store in file\n",
    "l1=[\"Python\",\"Java\",\"C#\",\"PHP\"]\n",
    "file = open(\"Demo.txt\",\"w\")\n",
    "file.writelines(l1)\n",
    "file.close()"
   ]
  },
  {
   "cell_type": "code",
   "execution_count": 9,
   "id": "0742c8ed",
   "metadata": {},
   "outputs": [
    {
     "name": "stdout",
     "output_type": "stream",
     "text": [
      "['PythonJavaC#PHP']\n"
     ]
    }
   ],
   "source": [
    "file = open(\"Demo.txt\",\"r\")\n",
    "content=file.readlines()\n",
    "print(content)\n",
    "file.close()"
   ]
  },
  {
   "cell_type": "code",
   "execution_count": 10,
   "id": "20628786",
   "metadata": {},
   "outputs": [],
   "source": [
    "s=\"Python file handling\"\n",
    "file=open(\"Demo.txt\",\"a\")\n",
    "file.write(s)\n",
    "file.close()"
   ]
  },
  {
   "cell_type": "code",
   "execution_count": 11,
   "id": "6de48634",
   "metadata": {},
   "outputs": [
    {
     "name": "stdout",
     "output_type": "stream",
     "text": [
      "PythonJavaC#PHPPython file handling\n"
     ]
    }
   ],
   "source": [
    "# read first line from file\n",
    "file = open(\"Demo.txt\") \n",
    "number_of_lines = 1\n",
    "for i in range(number_of_lines):\n",
    "    line=file.readline()\n",
    "    print(line)\n",
    "\n",
    "    file.close()"
   ]
  },
  {
   "cell_type": "markdown",
   "id": "7dea4729",
   "metadata": {},
   "source": [
    "# Exception handling in python\n",
    "\n",
    "There is two types of error in python\n",
    "1.Syntax error and\n",
    "2.Exception error\n",
    "\n"
   ]
  },
  {
   "cell_type": "code",
   "execution_count": 12,
   "id": "a3f1c979",
   "metadata": {},
   "outputs": [
    {
     "name": "stdout",
     "output_type": "stream",
     "text": [
      "Enter the number : python\n"
     ]
    },
    {
     "ename": "ValueError",
     "evalue": "invalid literal for int() with base 10: 'python'",
     "output_type": "error",
     "traceback": [
      "\u001b[1;31m---------------------------------------------------------------------------\u001b[0m",
      "\u001b[1;31mValueError\u001b[0m                                Traceback (most recent call last)",
      "\u001b[1;32m<ipython-input-12-caaf8f1e89a9>\u001b[0m in \u001b[0;36m<module>\u001b[1;34m\u001b[0m\n\u001b[0;32m      1\u001b[0m \u001b[1;31m# Exception Create\u001b[0m\u001b[1;33m\u001b[0m\u001b[1;33m\u001b[0m\u001b[1;33m\u001b[0m\u001b[0m\n\u001b[0;32m      2\u001b[0m \u001b[1;33m\u001b[0m\u001b[0m\n\u001b[1;32m----> 3\u001b[1;33m \u001b[0ma\u001b[0m \u001b[1;33m=\u001b[0m \u001b[0mint\u001b[0m\u001b[1;33m(\u001b[0m\u001b[0minput\u001b[0m\u001b[1;33m(\u001b[0m\u001b[1;34m\"Enter the number : \"\u001b[0m\u001b[1;33m)\u001b[0m\u001b[1;33m)\u001b[0m\u001b[1;33m\u001b[0m\u001b[1;33m\u001b[0m\u001b[0m\n\u001b[0m\u001b[0;32m      4\u001b[0m \u001b[0mprint\u001b[0m\u001b[1;33m(\u001b[0m\u001b[1;34m\"number = \"\u001b[0m\u001b[1;33m,\u001b[0m\u001b[0ma\u001b[0m\u001b[1;33m)\u001b[0m\u001b[1;33m\u001b[0m\u001b[1;33m\u001b[0m\u001b[0m\n\u001b[0;32m      5\u001b[0m \u001b[0mprint\u001b[0m\u001b[1;33m(\u001b[0m\u001b[1;34m\"Bye\"\u001b[0m\u001b[1;33m)\u001b[0m \u001b[1;31m# if we got an error befor this code then this code is also not working\u001b[0m\u001b[1;33m\u001b[0m\u001b[1;33m\u001b[0m\u001b[0m\n",
      "\u001b[1;31mValueError\u001b[0m: invalid literal for int() with base 10: 'python'"
     ]
    }
   ],
   "source": [
    "# Exception Create\n",
    "\n",
    "a = int(input(\"Enter the number : \"))\n",
    "print(\"number = \",a)\n",
    "print(\"Bye\") # if we got an error befor this code then this code is also not working"
   ]
  },
  {
   "cell_type": "code",
   "execution_count": 13,
   "id": "2fc5e05b",
   "metadata": {},
   "outputs": [
    {
     "name": "stdout",
     "output_type": "stream",
     "text": [
      "Enter the number : python\n",
      "Exception Caught :  invalid literal for int() with base 10: 'python'\n",
      "Bye\n"
     ]
    }
   ],
   "source": [
    "try:\n",
    "# The code which is written in try block can be occure at runtime\n",
    "    a = int(input(\"Enter the number : \"))\n",
    "    print(\"number = \",a)\n",
    "except Exception as e:\n",
    "    # this block will run when exception occur\n",
    "    print(\"Exception Caught : \",e)\n",
    "    \n",
    "print(\"Bye\") # here bye will print   "
   ]
  },
  {
   "cell_type": "code",
   "execution_count": 14,
   "id": "42845485",
   "metadata": {},
   "outputs": [
    {
     "name": "stdout",
     "output_type": "stream",
     "text": [
      "Variable is not define\n"
     ]
    }
   ],
   "source": [
    "# Many Exception\n",
    "try:\n",
    "    print(x) # here x is not define\n",
    "except NameError:\n",
    "    print(\"Variable is not define\")\n",
    "except:\n",
    "    print(\"Exception caught\")\n",
    "    "
   ]
  },
  {
   "cell_type": "code",
   "execution_count": 19,
   "id": "6c566373",
   "metadata": {},
   "outputs": [
    {
     "name": "stdout",
     "output_type": "stream",
     "text": [
      "Hello\n",
      "Nothing went wrong\n"
     ]
    }
   ],
   "source": [
    "# How to use else with except\n",
    "try:\n",
    "    x=\"Hello\"\n",
    "    print(x)\n",
    "except:\n",
    "    print(\"Exception cought\")\n",
    "else:\n",
    "    print(\"Nothing went wrong\")\n",
    "    \n"
   ]
  },
  {
   "cell_type": "code",
   "execution_count": 23,
   "id": "5ba0b611",
   "metadata": {},
   "outputs": [
    {
     "name": "stdout",
     "output_type": "stream",
     "text": [
      "somthing went wrong\n",
      "Finally Block\n"
     ]
    }
   ],
   "source": [
    "# Finally Block\n",
    "try:\n",
    "    print(x1)\n",
    "except:\n",
    "    print(\"somthing went wrong\")\n",
    "finally:\n",
    "    print(\"Finally Block\")"
   ]
  },
  {
   "cell_type": "markdown",
   "id": "06e1ea78",
   "metadata": {},
   "source": [
    "# User Define Exception"
   ]
  },
  {
   "cell_type": "code",
   "execution_count": 15,
   "id": "9cb74d93",
   "metadata": {},
   "outputs": [
    {
     "ename": "MyException",
     "evalue": "Something went wrong",
     "output_type": "error",
     "traceback": [
      "\u001b[1;31m---------------------------------------------------------------------------\u001b[0m",
      "\u001b[1;31mMyException\u001b[0m                               Traceback (most recent call last)",
      "\u001b[1;32m<ipython-input-15-e547f9bda75e>\u001b[0m in \u001b[0;36m<module>\u001b[1;34m\u001b[0m\n\u001b[0;32m      4\u001b[0m \u001b[0mc\u001b[0m\u001b[1;33m=\u001b[0m\u001b[1;36m25\u001b[0m\u001b[1;33m\u001b[0m\u001b[1;33m\u001b[0m\u001b[0m\n\u001b[0;32m      5\u001b[0m \u001b[1;32mif\u001b[0m \u001b[0mc\u001b[0m\u001b[1;33m>\u001b[0m\u001b[1;36m5\u001b[0m\u001b[1;33m:\u001b[0m\u001b[1;33m\u001b[0m\u001b[1;33m\u001b[0m\u001b[0m\n\u001b[1;32m----> 6\u001b[1;33m     \u001b[1;32mraise\u001b[0m \u001b[0mMyException\u001b[0m\u001b[1;33m(\u001b[0m\u001b[1;34m\"Something went wrong\"\u001b[0m\u001b[1;33m)\u001b[0m\u001b[1;33m\u001b[0m\u001b[1;33m\u001b[0m\u001b[0m\n\u001b[0m\u001b[0;32m      7\u001b[0m \u001b[1;33m\u001b[0m\u001b[0m\n",
      "\u001b[1;31mMyException\u001b[0m: Something went wrong"
     ]
    }
   ],
   "source": [
    "class MyException(Exception):\n",
    "    pass\n",
    "\n",
    "c=25\n",
    "if c>5:\n",
    "    raise MyException(\"Something went wrong\")\n",
    "    "
   ]
  },
  {
   "cell_type": "markdown",
   "id": "a81d6a16",
   "metadata": {},
   "source": [
    "# Types of inheritance\n",
    "1.single inheritance\n",
    "2.multilevel inheritance\n",
    "3.multiple inheritance\n",
    "4.hierarchical inheritance\n",
    "5.hybrid inheritance"
   ]
  },
  {
   "cell_type": "markdown",
   "id": "fd6ad799",
   "metadata": {},
   "source": [
    "# 1.single inheritance\n",
    "\n",
    "1.In single inheritance there is only one parent class and one child class."
   ]
  },
  {
   "cell_type": "code",
   "execution_count": 3,
   "id": "c81dc148",
   "metadata": {},
   "outputs": [
    {
     "name": "stdout",
     "output_type": "stream",
     "text": [
      "Parent class function called\n",
      "child class function called\n"
     ]
    }
   ],
   "source": [
    "class ParentClass: # parent class\n",
    "    def myfunction1(self): # parent class property\n",
    "        print(\"Parent class function called\")\n",
    "        \n",
    "class ChildClass(ParentClass): # child class which inherit parent class\n",
    "    def myfunction2(self): #child class property\n",
    "        print(\"child class function called\")\n",
    "        \n",
    "# creating an object of childclass\n",
    "\n",
    "c1 = ChildClass()\n",
    "c1.myfunction1()\n",
    "c1.myfunction2()"
   ]
  },
  {
   "cell_type": "markdown",
   "id": "6200b9a9",
   "metadata": {},
   "source": [
    "# 2.Multilevel inheritance \n",
    "In multilevel inheritance there are levels of class a)parent class b)sub parent class c)child class"
   ]
  },
  {
   "cell_type": "code",
   "execution_count": 5,
   "id": "ce854920",
   "metadata": {},
   "outputs": [
    {
     "name": "stdout",
     "output_type": "stream",
     "text": [
      "class A function called\n",
      "class B function called\n",
      "class C function called\n"
     ]
    }
   ],
   "source": [
    "class A: # parent class\n",
    "    def myFunct(self):\n",
    "        print(\"class A function called\")\n",
    "        \n",
    "class B(A): # sub-parent class\n",
    "    def myfunction2(self):\n",
    "        print(\"class B function called\")\n",
    "\n",
    "class C(B): #child class\n",
    "    def myfunction3(self):\n",
    "        print(\"class C function called\")\n",
    "        \n",
    "# creating an object of class c\n",
    "c1=C()\n",
    "c1.myFunct()\n",
    "c1.myfunction2()\n",
    "c1.myfunction3()\n"
   ]
  },
  {
   "cell_type": "markdown",
   "id": "5691a99d",
   "metadata": {},
   "source": [
    "# 3.Multiple inheritance\n",
    "\n",
    "when a child class inherits from multiple parent classes, it is called multiple inheritance.\n"
   ]
  },
  {
   "cell_type": "code",
   "execution_count": 7,
   "id": "d87c8c3b",
   "metadata": {},
   "outputs": [
    {
     "name": "stdout",
     "output_type": "stream",
     "text": [
      "class A1 function called\n",
      "class B1 function called\n",
      "class C1 function called\n"
     ]
    }
   ],
   "source": [
    "class A1: # 1st parent class\n",
    "    def myfunction1(self):\n",
    "        print(\"class A1 function called\")\n",
    "        \n",
    "class B1: # 2nd parent class\n",
    "    def myfunction2(self):\n",
    "        print(\"class B1 function called\")\n",
    "        \n",
    "class C1(A1,B1): # child class\n",
    "    def myfunction3(self):\n",
    "        print(\"class C1 function called\")\n",
    "        \n",
    "# creating an object of class c1\n",
    "\n",
    "c1= C1()\n",
    "c1.myfunction1()\n",
    "c1.myfunction2()\n",
    "c1.myfunction3()"
   ]
  },
  {
   "cell_type": "markdown",
   "id": "6174b01a",
   "metadata": {},
   "source": [
    "# 4.Hierarchical inheritance\n",
    "\n",
    "When more than one child class is created from a single parent class is called Hierarchical inheritance."
   ]
  },
  {
   "cell_type": "code",
   "execution_count": 10,
   "id": "a226cd8c",
   "metadata": {},
   "outputs": [
    {
     "name": "stdout",
     "output_type": "stream",
     "text": [
      "Class A1 function called\n",
      "class A2 function called\n",
      "Class A1 function called\n",
      "Class A3 function called\n"
     ]
    }
   ],
   "source": [
    "class A1: # parent class\n",
    "    def myfunction1(self):\n",
    "        print(\"Class A1 function called\")\n",
    "\n",
    "class A2(A1): #child class\n",
    "    def myfunction2(self):\n",
    "        print(\"class A2 function called\")\n",
    "        \n",
    "class A3(A1): # child class\n",
    "    def myfunction3(self):\n",
    "        print(\"Class A3 function called\")\n",
    "        \n",
    "# creating 2 objects 1 for class A2 and 1 for class A3\n",
    "\n",
    "a2 = A2()\n",
    "\n",
    "a3 = A3()\n",
    "\n",
    "a2.myfunction1() # function of class A1\n",
    "\n",
    "a2.myfunction2() # function of class A2\n",
    "\n",
    "a3.myfunction1() # function of class A1\n",
    "\n",
    "a3.myfunction3() #function of class A3\n"
   ]
  },
  {
   "cell_type": "markdown",
   "id": "3160ee1e",
   "metadata": {},
   "source": [
    "# 5.Hybrid inheritance\n",
    "This form combines more than one form of inheritance.Basically it is a blend of more than one type of inheritance. "
   ]
  },
  {
   "cell_type": "code",
   "execution_count": 11,
   "id": "ad847774",
   "metadata": {},
   "outputs": [
    {
     "name": "stdout",
     "output_type": "stream",
     "text": [
      "Function of class B1\n",
      "function of class B2\n",
      "function of class B3\n",
      "Function of class B4\n"
     ]
    }
   ],
   "source": [
    "class B1: # parent class\n",
    "    def myfunction1(self):\n",
    "        print(\"Function of class B1\")\n",
    "class B2(B1): # child class\n",
    "    def myfunction2(self):\n",
    "        print(\"function of class B2\")\n",
    "class B3(B1): # child class\n",
    "    def myfunction3(self):\n",
    "        print(\"function of class B3\")\n",
    "        \n",
    "class B4(B2,B3): # child class\n",
    "    def myfunction4(self):\n",
    "        print(\"Function of class B4\")\n",
    "        \n",
    "# creating an object of class B4\n",
    "b = B4() # object of B4 class\n",
    "b.myfunction1()\n",
    "b.myfunction2()\n",
    "b.myfunction3()\n",
    "b.myfunction4()"
   ]
  },
  {
   "cell_type": "markdown",
   "id": "10d09086",
   "metadata": {},
   "source": [
    "# Polymorphism in python"
   ]
  },
  {
   "cell_type": "markdown",
   "id": "e705ed63",
   "metadata": {},
   "source": [
    "# Method overloading"
   ]
  },
  {
   "cell_type": "code",
   "execution_count": 18,
   "id": "d0401f7f",
   "metadata": {},
   "outputs": [
    {
     "name": "stdout",
     "output_type": "stream",
     "text": [
      "function with 2 arguments\n"
     ]
    }
   ],
   "source": [
    "class MO:\n",
    "    def myfun(self): # no arguments\n",
    "        print(\"function with no arguments\")\n",
    "        \n",
    "    def myfun(self,a): # 1 arguments\n",
    "        print(\"function with 1 argument\")\n",
    "        \n",
    "    def myfun(self,a,b): # 2 arguments\n",
    "        print(\"function with 2 arguments\")\n",
    "        \n",
    "        \n",
    "# creating an object of class MO\n",
    "m = MO()\n",
    "m.myfun(10,20)\n",
    "\n",
    "'''Note:-\n",
    "Method overloading is not supported in python because python is an interprited language'''"
   ]
  },
  {
   "cell_type": "markdown",
   "id": "5427ef91",
   "metadata": {},
   "source": [
    "# Method overriding\n",
    "It is runtime polymorphism.inheritance is compulsory here.\n"
   ]
  },
  {
   "cell_type": "code",
   "execution_count": 21,
   "id": "49daf312",
   "metadata": {},
   "outputs": [
    {
     "name": "stdout",
     "output_type": "stream",
     "text": [
      "class Mo1 function called\n",
      "class Mo2 function called\n",
      "class Mo1 function called\n"
     ]
    }
   ],
   "source": [
    "class MO1: # parent class\n",
    "    def myfun(self,a):\n",
    "        print(\"class Mo1 function called\")\n",
    "        \n",
    "class MO2(MO1): # child class\n",
    "    def myfun(self,a):\n",
    "        print(\"class Mo2 function called\")\n",
    "        # super method calling the method of class MO2\n",
    "        super().myfun(10)\n",
    "        \n",
    "class MO3(MO2): # child class\n",
    "    def myfun(self,a):\n",
    "        print(\"class Mo1 function called\")\n",
    "        # super method calling the method of class MO2\n",
    "        super().myfun(10)\n",
    "        \n",
    "# creating an object of class MO#\n",
    "m=MO3() \n",
    "m.myfun(10)\n",
    "        "
   ]
  },
  {
   "cell_type": "markdown",
   "id": "91c76c04",
   "metadata": {},
   "source": [
    "# Abstraction in python\n"
   ]
  },
  {
   "cell_type": "code",
   "execution_count": 23,
   "id": "7ea8109c",
   "metadata": {},
   "outputs": [
    {
     "name": "stdout",
     "output_type": "stream",
     "text": [
      "SBI Interest is 5%\n",
      "HDFC Interest is 2%\n"
     ]
    }
   ],
   "source": [
    "class RBI: # abstract class\n",
    "    def Interest(self): #Abstract method\n",
    "        pass\n",
    "class SBI(RBI): # child class\n",
    "    def Interest(self): #RBI Interest implements here\n",
    "        print(\"SBI Interest is 5%\")\n",
    "        \n",
    "class HDFC(RBI): # child class\n",
    "    def Interest(self): # RBI Interest implements here\n",
    "        print(\"HDFC Interest is 2%\")\n",
    "        \n",
    "        \n",
    "# creating an object of class SBI\n",
    "s= SBI()\n",
    "\n",
    "# creating an  object of class HDFC\n",
    "h= HDFC()\n",
    "\n",
    "s.Interest() #SBI interest method called\n",
    "h.Interest() # HDFC Interest method called\n",
    "        "
   ]
  },
  {
   "cell_type": "code",
   "execution_count": 1,
   "id": "1a9ccd27",
   "metadata": {},
   "outputs": [
    {
     "name": "stdout",
     "output_type": "stream",
     "text": [
      "I can bark\n",
      "I can hisss\n"
     ]
    }
   ],
   "source": [
    "class Animal:\n",
    "    def move(self):\n",
    "        pass\n",
    "\n",
    "class Dog(Animal):\n",
    "    def move(self):\n",
    "        print(\"I can bark\")\n",
    "class Snake(Animal):\n",
    "    def move(self):\n",
    "        print(\"I can hisss\")\n",
    "        \n",
    "d = Dog()\n",
    "s = Snake()\n",
    "\n",
    "d.move()\n",
    "s.move()"
   ]
  },
  {
   "cell_type": "markdown",
   "id": "8915cb57",
   "metadata": {},
   "source": [
    "# Encapsulation\n"
   ]
  },
  {
   "cell_type": "code",
   "execution_count": 2,
   "id": "1a1957bd",
   "metadata": {},
   "outputs": [
    {
     "ename": "AttributeError",
     "evalue": "'B' object has no attribute '_B__a'",
     "output_type": "error",
     "traceback": [
      "\u001b[1;31m---------------------------------------------------------------------------\u001b[0m",
      "\u001b[1;31mAttributeError\u001b[0m                            Traceback (most recent call last)",
      "\u001b[1;32m<ipython-input-2-23f96b661bb4>\u001b[0m in \u001b[0;36m<module>\u001b[1;34m\u001b[0m\n\u001b[0;32m     19\u001b[0m \u001b[1;33m\u001b[0m\u001b[0m\n\u001b[0;32m     20\u001b[0m \u001b[0mobj\u001b[0m \u001b[1;33m=\u001b[0m \u001b[0mB\u001b[0m\u001b[1;33m(\u001b[0m\u001b[1;36m20\u001b[0m\u001b[1;33m)\u001b[0m\u001b[1;33m\u001b[0m\u001b[1;33m\u001b[0m\u001b[0m\n\u001b[1;32m---> 21\u001b[1;33m \u001b[0mobj\u001b[0m\u001b[1;33m.\u001b[0m\u001b[0mshow\u001b[0m\u001b[1;33m(\u001b[0m\u001b[1;33m)\u001b[0m\u001b[1;33m\u001b[0m\u001b[1;33m\u001b[0m\u001b[0m\n\u001b[0m",
      "\u001b[1;32m<ipython-input-2-23f96b661bb4>\u001b[0m in \u001b[0;36mshow\u001b[1;34m(self)\u001b[0m\n\u001b[0;32m     14\u001b[0m \u001b[1;33m\u001b[0m\u001b[0m\n\u001b[0;32m     15\u001b[0m     \u001b[1;32mdef\u001b[0m \u001b[0mshow\u001b[0m\u001b[1;33m(\u001b[0m\u001b[0mself\u001b[0m\u001b[1;33m)\u001b[0m\u001b[1;33m:\u001b[0m\u001b[1;33m\u001b[0m\u001b[1;33m\u001b[0m\u001b[0m\n\u001b[1;32m---> 16\u001b[1;33m         \u001b[0mprint\u001b[0m\u001b[1;33m(\u001b[0m\u001b[0mself\u001b[0m\u001b[1;33m.\u001b[0m\u001b[0m__a\u001b[0m\u001b[1;33m)\u001b[0m\u001b[1;33m\u001b[0m\u001b[1;33m\u001b[0m\u001b[0m\n\u001b[0m\u001b[0;32m     17\u001b[0m \u001b[1;33m\u001b[0m\u001b[0m\n\u001b[0;32m     18\u001b[0m \u001b[1;31m#creating an object of class B\u001b[0m\u001b[1;33m\u001b[0m\u001b[1;33m\u001b[0m\u001b[1;33m\u001b[0m\u001b[0m\n",
      "\u001b[1;31mAttributeError\u001b[0m: 'B' object has no attribute '_B__a'"
     ]
    }
   ],
   "source": [
    "# Achieving encapsulation by private\n",
    "\n",
    "class A: #parent class\n",
    "    def __init__(self,a):\n",
    "        self.__a=a # the variable a is private variable\n",
    "        \n",
    "    def show(self):\n",
    "        # printing a private using function\n",
    "        print(\"Private variable : \",self._a)\n",
    "        \n",
    "class B(A): # child class\n",
    "    def __init__(self,b):\n",
    "        super().__init__(b)\n",
    "        \n",
    "    def show(self):\n",
    "        print(self.__a)\n",
    "        \n",
    "#creating an object of class B\n",
    "\n",
    "obj = B(20)\n",
    "obj.show()\n",
    "\n",
    "// it gives an error because a is private variable"
   ]
  },
  {
   "cell_type": "code",
   "execution_count": 3,
   "id": "27b5d0eb",
   "metadata": {},
   "outputs": [
    {
     "name": "stdout",
     "output_type": "stream",
     "text": [
      "Variable Value :  30\n"
     ]
    }
   ],
   "source": [
    "# Achieveing encapsulation by protected\n",
    "\n",
    "class A:\n",
    "    def __init__(self,a):\n",
    "        self._a=a # this variable is a protected variable\n",
    "        \n",
    "    def show(self):\n",
    "        print(\"protected variable : \",self._a)\n",
    "      \n",
    "    \n",
    "class B(A): # child class\n",
    "    def __init__(self,b):\n",
    "        super().__init__(b)\n",
    "        \n",
    "    def showB(self):\n",
    "        print(\"Variable Value : \",self._a)\n",
    "        \n",
    "        \n",
    "        \n",
    "#creating an object of class B \n",
    "\n",
    "obj = B(30)\n",
    "obj.showB()\n",
    "        \n",
    "        "
   ]
  },
  {
   "cell_type": "markdown",
   "id": "cbc8ccca",
   "metadata": {},
   "source": [
    "# Regular Expression\n",
    "It is of two types 1.Match function and 2.search function"
   ]
  },
  {
   "cell_type": "markdown",
   "id": "6bf0bdc4",
   "metadata": {},
   "source": [
    "# 1.Match function"
   ]
  },
  {
   "cell_type": "code",
   "execution_count": 4,
   "id": "58518d8e",
   "metadata": {},
   "outputs": [
    {
     "name": "stdout",
     "output_type": "stream",
     "text": [
      "<re.Match object; span=(0, 3), match='abc'>\n"
     ]
    }
   ],
   "source": [
    "# Import re module first\n",
    "\n",
    "import re\n",
    "\n",
    "pattern = r\"^abc\"\n",
    "mystring = \"abcdef\" # if we remove b then it will return none means no case match\n",
    "\n",
    "x = re.match(pattern,mystring)\n",
    "print(x)"
   ]
  },
  {
   "cell_type": "markdown",
   "id": "a997ad48",
   "metadata": {},
   "source": [
    "# 2.Search function"
   ]
  },
  {
   "cell_type": "code",
   "execution_count": 6,
   "id": "5f71cbcb",
   "metadata": {},
   "outputs": [
    {
     "name": "stdout",
     "output_type": "stream",
     "text": [
      "The first whitwspace :  <re.Match object; span=(2, 3), match=' '>\n",
      "The first whitwspace :  2\n"
     ]
    }
   ],
   "source": [
    "# import re module first\n",
    "import re\n",
    "txt = \"We are learning python\"\n",
    "x = re.search(\"\\s\",txt) # This expression is written for searching whitespace\n",
    "print(\"The first whitwspace : \",x)\n",
    "print(\"The first whitwspace : \",x.start())\n"
   ]
  },
  {
   "cell_type": "code",
   "execution_count": 7,
   "id": "bd592cd2",
   "metadata": {},
   "outputs": [
    {
     "name": "stdout",
     "output_type": "stream",
     "text": [
      "None\n",
      "<re.Match object; span=(12, 18), match='Gujrat'>\n"
     ]
    }
   ],
   "source": [
    "import re\n",
    "txt = \"The rain in Gujrat\"\n",
    "x = re.search(\"Ahmadabad\",txt)\n",
    "print(x)\n",
    "x1 = re.search(\"Gujrat\",txt)\n",
    "print(x1)"
   ]
  },
  {
   "cell_type": "markdown",
   "id": "d9f65b09",
   "metadata": {},
   "source": [
    "# Replace function\n"
   ]
  },
  {
   "cell_type": "code",
   "execution_count": 10,
   "id": "33335e71",
   "metadata": {},
   "outputs": [
    {
     "name": "stdout",
     "output_type": "stream",
     "text": [
      "Before replace : Learnvern provide free online training\n",
      "After replace :  Learnvern python free online training\n"
     ]
    }
   ],
   "source": [
    "import re\n",
    "\n",
    "str1 = \"Learnvern provide free online training\"\n",
    "print(\"Before replace :\",str1)\n",
    "\n",
    "# After replace the provide with python\n",
    "result = re.sub(r\"provide\",\"python\",str1)\n",
    "print(\"After replace : \",result)"
   ]
  },
  {
   "cell_type": "code",
   "execution_count": 12,
   "id": "debe8fa0",
   "metadata": {},
   "outputs": [
    {
     "name": "stdout",
     "output_type": "stream",
     "text": [
      "Learnvern Provide Free Online Training\n",
      "L00000000 P000000 F000 O00000 T0000000\n"
     ]
    }
   ],
   "source": [
    "import re\n",
    "\n",
    "str1 = \"Learnvern Provide Free Online Training\"\n",
    "print(str1)\n",
    "\n",
    "result = re.sub(r\"[a-z]\",\"0\",str1)\n",
    "print(result)"
   ]
  },
  {
   "cell_type": "code",
   "execution_count": null,
   "id": "53b892d0",
   "metadata": {},
   "outputs": [],
   "source": []
  }
 ],
 "metadata": {
  "kernelspec": {
   "display_name": "Python 3",
   "language": "python",
   "name": "python3"
  },
  "language_info": {
   "codemirror_mode": {
    "name": "ipython",
    "version": 3
   },
   "file_extension": ".py",
   "mimetype": "text/x-python",
   "name": "python",
   "nbconvert_exporter": "python",
   "pygments_lexer": "ipython3",
   "version": "3.8.8"
  }
 },
 "nbformat": 4,
 "nbformat_minor": 5
}
