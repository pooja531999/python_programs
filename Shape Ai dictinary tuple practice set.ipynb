{
 "cells": [
  {
   "cell_type": "code",
   "execution_count": 1,
   "id": "d4d00965",
   "metadata": {},
   "outputs": [
    {
     "name": "stdout",
     "output_type": "stream",
     "text": [
      "3\n",
      "5\n",
      "sam\n",
      "pam\n",
      "y\n",
      "a\n"
     ]
    }
   ],
   "source": [
    "students=['sam','pam','rocky']\n",
    "print(len(students))\n",
    "student='barry'\n",
    "print(len(student))\n",
    "print(max(students))\n",
    "print(min(students))\n",
    "print(max(student))\n",
    "print(min(student))"
   ]
  },
  {
   "cell_type": "code",
   "execution_count": 3,
   "id": "a78288cf",
   "metadata": {},
   "outputs": [
    {
     "name": "stdout",
     "output_type": "stream",
     "text": [
      "['pam', 'rocky', 'sam']\n"
     ]
    }
   ],
   "source": [
    "print(sorted(students))"
   ]
  },
  {
   "cell_type": "code",
   "execution_count": 13,
   "id": "1f406008",
   "metadata": {},
   "outputs": [
    {
     "name": "stdout",
     "output_type": "stream",
     "text": [
      "sam-pam-ram\n"
     ]
    }
   ],
   "source": [
    "#join in python\n",
    "join = \"-\".join([\"sam\",\"pam\",\"ram\"])\n",
    "print(join)"
   ]
  },
  {
   "cell_type": "code",
   "execution_count": 15,
   "id": "a40fb853",
   "metadata": {},
   "outputs": [
    {
     "name": "stdout",
     "output_type": "stream",
     "text": [
      "sam-pam-rocky\n"
     ]
    }
   ],
   "source": [
    "name = \"-\".join(students)\n",
    "print(name)"
   ]
  },
  {
   "cell_type": "code",
   "execution_count": 18,
   "id": "8213c767",
   "metadata": {},
   "outputs": [
    {
     "name": "stdout",
     "output_type": "stream",
     "text": [
      "['hocky', 'cricket', 'football', 'sachin', 'rohit', 'anand']\n"
     ]
    }
   ],
   "source": [
    "#joining of two list\n",
    "game=['hocky','cricket','football']\n",
    "player=['sachin','rohit','anand']\n",
    "print(game+player)      "
   ]
  },
  {
   "cell_type": "code",
   "execution_count": 3,
   "id": "f98b7b17",
   "metadata": {},
   "outputs": [
    {
     "name": "stdout",
     "output_type": "stream",
     "text": [
      "('Rahul', 'pune', 'Football', 0.8)\n"
     ]
    }
   ],
   "source": [
    "#tuples\n",
    "student=(\"Rahul\",\"pune\",\"Football\",400/500)\n",
    "print(student)"
   ]
  },
  {
   "cell_type": "code",
   "execution_count": 6,
   "id": "b7ee3361",
   "metadata": {},
   "outputs": [
    {
     "data": {
      "text/plain": [
       "(23, 'Rajesh', 23.0, (2+5j))"
      ]
     },
     "execution_count": 6,
     "metadata": {},
     "output_type": "execute_result"
    }
   ],
   "source": [
    "tuple=(23,\"Rajesh\",23.0,2+5j)\n",
    "tuple"
   ]
  },
  {
   "cell_type": "code",
   "execution_count": 14,
   "id": "70192f52",
   "metadata": {},
   "outputs": [
    {
     "name": "stdout",
     "output_type": "stream",
     "text": [
      "{1, 2, 3, 4, 5, 6}\n"
     ]
    }
   ],
   "source": [
    "#list using set\n",
    "numbers=[1,2,3,4,5,5,6,2,3]\n",
    "uniq_numbers=set(numbers)\n",
    "print(uniq_numbers)\n"
   ]
  },
  {
   "cell_type": "code",
   "execution_count": 21,
   "id": "a58102f9",
   "metadata": {},
   "outputs": [
    {
     "name": "stdout",
     "output_type": "stream",
     "text": [
      "{1, 2, 3, 4, 5, 6, 7}\n",
      "{2, 3, 4, 5, 6, 7}\n",
      "{3, 4, 5, 6, 7}\n",
      "{3, 4, 5, 6, 7}\n"
     ]
    }
   ],
   "source": [
    "#set\n",
    "numbers={1,2,3,4,5,5,6,2,3}\n",
    "numbers.add(7)\n",
    "print(numbers)\n",
    "numbers.pop()\n",
    "print(numbers)\n",
    "numbers.pop()\n",
    "print(numbers)\n",
    "numbers.add(7)\n",
    "print(numbers)"
   ]
  },
  {
   "cell_type": "code",
   "execution_count": 24,
   "id": "37faba4f",
   "metadata": {},
   "outputs": [
    {
     "name": "stdout",
     "output_type": "stream",
     "text": [
      "False\n",
      "True\n",
      "False\n"
     ]
    }
   ],
   "source": [
    "fruit = {\"apple\", \"banana\", \"orange\", \"grapefruit\"}\n",
    "print(\"watermelon\" in fruit)\n",
    "\n",
    "print(\"apple\" in fruit)\n",
    "\n",
    "print(\"banana\" not in fruit)\n"
   ]
  },
  {
   "cell_type": "code",
   "execution_count": 22,
   "id": "347c6e40",
   "metadata": {},
   "outputs": [
    {
     "name": "stdout",
     "output_type": "stream",
     "text": [
      "{'Rahul': 1, 'Yavir': 2, 'Gitidha': 3}\n",
      "1\n",
      "{'Rahul': 1, 'Yavir': 2, 'Gitidha': 3, 'Arvind': 4}\n",
      "1\n",
      "None\n",
      "False\n",
      "True\n"
     ]
    }
   ],
   "source": [
    "#dictionary in python\n",
    "\n",
    "students={\"Rahul\":1,\"Yavir\":2,\"Gitidha\":3}\n",
    "print(students)\n",
    "\n",
    "print(students[\"Rahul\"])\n",
    "\n",
    "students[\"Arvind\"]=4\n",
    "print(students)\n",
    "\n",
    "print(students.get(\"Rahul\"))\n",
    "print(students.get(\"Reena\"))\n",
    "\n",
    "print(students is None)\n",
    "print(students is not None)\n"
   ]
  },
  {
   "cell_type": "code",
   "execution_count": 23,
   "id": "5204f65e",
   "metadata": {},
   "outputs": [
    {
     "name": "stdout",
     "output_type": "stream",
     "text": [
      "{'Rahul': 1, 'Yavir': 2, 'Gitidha': 3}\n",
      "1\n",
      "There is no such name found\n"
     ]
    }
   ],
   "source": [
    "students={\"Rahul\":1,\"Yavir\":2,\"Gitidha\":3}\n",
    "print(students)\n",
    "\n",
    "print(students.get(\"Rahul\",\"There is no such name found\"))\n",
    "print(students.get(\"Reena\",\"There is no such name found\"))\n"
   ]
  },
  {
   "cell_type": "code",
   "execution_count": 25,
   "id": "2a677b10",
   "metadata": {},
   "outputs": [
    {
     "data": {
      "text/plain": [
       "{'Rahul': {'Roll No': 1, 'Seat No': 25, 'Sub': 'Math'},\n",
       " 'Radhika': {'Roll No': 2, 'Seat No': 26, 'Sub': 'Math'},\n",
       " 'Atish': {'Roll No': 6, 'Seat No': 28, 'Sub': 'Math'}}"
      ]
     },
     "execution_count": 25,
     "metadata": {},
     "output_type": "execute_result"
    }
   ],
   "source": [
    "students={ \"Rahul\":{\"Roll No\":1,\n",
    "                     \"Seat No\":25,\n",
    "                     \"Sub\":\"Math\" },\n",
    "            \"Radhika\":{\"Roll No\":2,\n",
    "                       \"Seat No\":26,\n",
    "                        \"Sub\":\"Math\"},\n",
    "             \"Atish\":{\"Roll No\":6,\n",
    "                      \"Seat No\":28,\n",
    "                       \"Sub\":\"Math\"} \n",
    "         }\n",
    "students"
   ]
  },
  {
   "cell_type": "code",
   "execution_count": 30,
   "id": "1d63376d",
   "metadata": {},
   "outputs": [
    {
     "name": "stdout",
     "output_type": "stream",
     "text": [
      "{'Roll No': 6, 'Seat No': 28, 'Sub': 'Math'}\n",
      "26\n"
     ]
    },
    {
     "data": {
      "text/plain": [
       "{'Rahul': {'Roll No': 1, 'Seat No': 25, 'Sub': 'Math'},\n",
       " 'Radhika': {'Roll No': 2, 'Seat No': 26, 'Sub': 'Math'},\n",
       " 'Atish': {'Roll No': 6, 'Seat No': 28, 'Sub': 'Math'},\n",
       " 'Adhira': {'Roll No': 9, 'Seat No': 29, 'Sub': 'Math'}}"
      ]
     },
     "execution_count": 30,
     "metadata": {},
     "output_type": "execute_result"
    }
   ],
   "source": [
    "print(students[\"Atish\"])\n",
    "print(students[\"Radhika\"][\"Seat No\"])\n",
    "\n",
    "Adhira={\"Roll No\":9,\"Seat No\":29,\"Sub\":\"Math\"}\n",
    "students[\"Adhira\"]=Adhira //\"Adhira\"=key,Adhira=value\n",
    "students"
   ]
  },
  {
   "cell_type": "code",
   "execution_count": null,
   "id": "c6d65803",
   "metadata": {},
   "outputs": [],
   "source": []
  },
  {
   "cell_type": "code",
   "execution_count": null,
   "id": "18a22afc",
   "metadata": {},
   "outputs": [],
   "source": []
  }
 ],
 "metadata": {
  "kernelspec": {
   "display_name": "Python 3",
   "language": "python",
   "name": "python3"
  },
  "language_info": {
   "codemirror_mode": {
    "name": "ipython",
    "version": 3
   },
   "file_extension": ".py",
   "mimetype": "text/x-python",
   "name": "python",
   "nbconvert_exporter": "python",
   "pygments_lexer": "ipython3",
   "version": "3.8.8"
  }
 },
 "nbformat": 4,
 "nbformat_minor": 5
}
