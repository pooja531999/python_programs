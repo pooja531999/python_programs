{
 "cells": [
  {
   "cell_type": "markdown",
   "id": "b4e02817",
   "metadata": {},
   "source": [
    "# Assignment on Exception handling"
   ]
  },
  {
   "cell_type": "code",
   "execution_count": 2,
   "id": "20f55b23",
   "metadata": {},
   "outputs": [
    {
     "name": "stdout",
     "output_type": "stream",
     "text": [
      "Enter the number : python\n",
      "Exception Caught :  invalid literal for int() with base 10: 'python'\n",
      "Bye\n"
     ]
    }
   ],
   "source": [
    "try:\n",
    "# The code which is written in try block can be occure at runtime\n",
    "    a = int(input(\"Enter the number : \"))\n",
    "    print(\"number = \",a)\n",
    "except Exception as e:\n",
    "    # this block will run when exception occur\n",
    "    print(\"Exception Caught : \",e)\n",
    "    \n",
    "print(\"Bye\") # here bye will print   "
   ]
  },
  {
   "cell_type": "code",
   "execution_count": 3,
   "id": "194d3d1c",
   "metadata": {},
   "outputs": [
    {
     "name": "stdout",
     "output_type": "stream",
     "text": [
      "Variable is not define\n"
     ]
    }
   ],
   "source": [
    "# Many Exception\n",
    "try:\n",
    "    print(x) # here x is not define\n",
    "except NameError:\n",
    "    print(\"Variable is not define\")\n",
    "except:\n",
    "    print(\"Exception caught\")\n",
    "    "
   ]
  },
  {
   "cell_type": "code",
   "execution_count": 4,
   "id": "262919ec",
   "metadata": {},
   "outputs": [
    {
     "name": "stdout",
     "output_type": "stream",
     "text": [
      "Hello\n",
      "Nothing went wrong\n"
     ]
    }
   ],
   "source": [
    "# How to use else with except\n",
    "try:\n",
    "    x=\"Hello\"\n",
    "    print(x)\n",
    "except:\n",
    "    print(\"Exception cought\")\n",
    "else:\n",
    "    print(\"Nothing went wrong\")\n",
    "    \n"
   ]
  },
  {
   "cell_type": "code",
   "execution_count": 5,
   "id": "0aa3b8c9",
   "metadata": {},
   "outputs": [
    {
     "name": "stdout",
     "output_type": "stream",
     "text": [
      "somthing went wrong\n",
      "Finally Block\n"
     ]
    }
   ],
   "source": [
    "# Finally Block\n",
    "try:\n",
    "    print(x1)\n",
    "except:\n",
    "    print(\"somthing went wrong\")\n",
    "finally:\n",
    "    print(\"Finally Block\")"
   ]
  },
  {
   "cell_type": "code",
   "execution_count": null,
   "id": "85b0395c",
   "metadata": {},
   "outputs": [],
   "source": []
  }
 ],
 "metadata": {
  "kernelspec": {
   "display_name": "Python 3",
   "language": "python",
   "name": "python3"
  },
  "language_info": {
   "codemirror_mode": {
    "name": "ipython",
    "version": 3
   },
   "file_extension": ".py",
   "mimetype": "text/x-python",
   "name": "python",
   "nbconvert_exporter": "python",
   "pygments_lexer": "ipython3",
   "version": "3.8.8"
  }
 },
 "nbformat": 4,
 "nbformat_minor": 5
}
