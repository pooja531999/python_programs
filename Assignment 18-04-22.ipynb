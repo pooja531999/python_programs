{
 "cells": [
  {
   "cell_type": "markdown",
   "id": "e274a342",
   "metadata": {},
   "source": [
    "# Q1.Write a Python program to print all negative numbers in a range."
   ]
  },
  {
   "cell_type": "code",
   "execution_count": 13,
   "id": "7db0cd9d",
   "metadata": {},
   "outputs": [
    {
     "name": "stdout",
     "output_type": "stream",
     "text": [
      "Enter the numbers here : 4 5 -2 6\n",
      "-2\n"
     ]
    }
   ],
   "source": [
    "def NegNum():\n",
    "    num = input(\"Enter the numbers here : \")\n",
    "    lst=num.split()\n",
    "    for i in range(len(lst)):\n",
    "        lst[i]=int(lst[i])\n",
    "        if(lst[i]<0):\n",
    "            print(lst[i])\n",
    "NegNum()            "
   ]
  },
  {
   "cell_type": "markdown",
   "id": "4c8f9662",
   "metadata": {},
   "source": [
    "# Q2.Python program to check if a string is palindrome or not."
   ]
  },
  {
   "cell_type": "code",
   "execution_count": 22,
   "id": "56a7903b",
   "metadata": {},
   "outputs": [
    {
     "name": "stdout",
     "output_type": "stream",
     "text": [
      "Enter the string here :121\n",
      "String is palindrome\n"
     ]
    }
   ],
   "source": [
    "def palindrome():\n",
    "    num = input(\"Enter the string here :\")\n",
    "    if num==num[::-1]:\n",
    "        print(\"String is palindrome\")\n",
    "    else:\n",
    "        print(\"String is not palindrome\")\n",
    "    \n",
    "palindrome()        "
   ]
  },
  {
   "cell_type": "markdown",
   "id": "084e9f6d",
   "metadata": {},
   "source": [
    "# Q3.Python program to print even length words in a string."
   ]
  },
  {
   "cell_type": "code",
   "execution_count": 30,
   "id": "e9f3e93d",
   "metadata": {},
   "outputs": [
    {
     "name": "stdout",
     "output_type": "stream",
     "text": [
      "Enter the string here : karina is hard working\n",
      "karina\n",
      "is\n",
      "hard\n"
     ]
    }
   ],
   "source": [
    "str = input(\"Enter the string here : \")\n",
    "s = str.split()\n",
    "for i in s:\n",
    "    if len(i)%2==0:\n",
    "        print(i)\n"
   ]
  },
  {
   "cell_type": "code",
   "execution_count": null,
   "id": "65631db9",
   "metadata": {},
   "outputs": [],
   "source": []
  },
  {
   "cell_type": "code",
   "execution_count": null,
   "id": "3d008d47",
   "metadata": {},
   "outputs": [],
   "source": []
  }
 ],
 "metadata": {
  "kernelspec": {
   "display_name": "Python 3",
   "language": "python",
   "name": "python3"
  },
  "language_info": {
   "codemirror_mode": {
    "name": "ipython",
    "version": 3
   },
   "file_extension": ".py",
   "mimetype": "text/x-python",
   "name": "python",
   "nbconvert_exporter": "python",
   "pygments_lexer": "ipython3",
   "version": "3.8.8"
  }
 },
 "nbformat": 4,
 "nbformat_minor": 5
}
