{
 "cells": [
  {
   "cell_type": "markdown",
   "id": "91ea8014",
   "metadata": {},
   "source": [
    "# Dicision Tree Regressor Model"
   ]
  },
  {
   "cell_type": "code",
   "execution_count": 1,
   "id": "f2cc382b",
   "metadata": {},
   "outputs": [],
   "source": [
    "# import the libraries\n",
    "import pandas as pd\n",
    "import numpy as np\n",
    "import matplotlib.pyplot as plt\n",
    "import seaborn as sns\n",
    "from sklearn.tree import DecisionTreeRegressor"
   ]
  },
  {
   "cell_type": "markdown",
   "id": "e64886fe",
   "metadata": {},
   "source": [
    "Problem statement in this data :- we have one independent variable 'Tempreture' and on dependent variable 'Revenue'.You have to \n",
    "build a decision tree regressor to study the relationship between two variable of the ice cream shop,and then predict the \n",
    "revenue for the ice cream shop based on particular temperature on that day."
   ]
  },
  {
   "cell_type": "code",
   "execution_count": 2,
   "id": "81effec9",
   "metadata": {},
   "outputs": [],
   "source": [
    "df=pd.read_csv(\"https://raw.githubusercontent.com/mk-gurucharan/Regression/master/IceCreamData.csv\")"
   ]
  },
  {
   "cell_type": "code",
   "execution_count": 3,
   "id": "e3868f7c",
   "metadata": {},
   "outputs": [
    {
     "data": {
      "text/html": [
       "<div>\n",
       "<style scoped>\n",
       "    .dataframe tbody tr th:only-of-type {\n",
       "        vertical-align: middle;\n",
       "    }\n",
       "\n",
       "    .dataframe tbody tr th {\n",
       "        vertical-align: top;\n",
       "    }\n",
       "\n",
       "    .dataframe thead th {\n",
       "        text-align: right;\n",
       "    }\n",
       "</style>\n",
       "<table border=\"1\" class=\"dataframe\">\n",
       "  <thead>\n",
       "    <tr style=\"text-align: right;\">\n",
       "      <th></th>\n",
       "      <th>Temperature</th>\n",
       "      <th>Revenue</th>\n",
       "    </tr>\n",
       "  </thead>\n",
       "  <tbody>\n",
       "    <tr>\n",
       "      <th>0</th>\n",
       "      <td>24.566884</td>\n",
       "      <td>534.799028</td>\n",
       "    </tr>\n",
       "    <tr>\n",
       "      <th>1</th>\n",
       "      <td>26.005191</td>\n",
       "      <td>625.190122</td>\n",
       "    </tr>\n",
       "    <tr>\n",
       "      <th>2</th>\n",
       "      <td>27.790554</td>\n",
       "      <td>660.632289</td>\n",
       "    </tr>\n",
       "    <tr>\n",
       "      <th>3</th>\n",
       "      <td>20.595335</td>\n",
       "      <td>487.706960</td>\n",
       "    </tr>\n",
       "    <tr>\n",
       "      <th>4</th>\n",
       "      <td>11.503498</td>\n",
       "      <td>316.240194</td>\n",
       "    </tr>\n",
       "  </tbody>\n",
       "</table>\n",
       "</div>"
      ],
      "text/plain": [
       "   Temperature     Revenue\n",
       "0    24.566884  534.799028\n",
       "1    26.005191  625.190122\n",
       "2    27.790554  660.632289\n",
       "3    20.595335  487.706960\n",
       "4    11.503498  316.240194"
      ]
     },
     "execution_count": 3,
     "metadata": {},
     "output_type": "execute_result"
    }
   ],
   "source": [
    "df.head()"
   ]
  },
  {
   "cell_type": "code",
   "execution_count": 4,
   "id": "22dba774",
   "metadata": {},
   "outputs": [
    {
     "data": {
      "text/html": [
       "<div>\n",
       "<style scoped>\n",
       "    .dataframe tbody tr th:only-of-type {\n",
       "        vertical-align: middle;\n",
       "    }\n",
       "\n",
       "    .dataframe tbody tr th {\n",
       "        vertical-align: top;\n",
       "    }\n",
       "\n",
       "    .dataframe thead th {\n",
       "        text-align: right;\n",
       "    }\n",
       "</style>\n",
       "<table border=\"1\" class=\"dataframe\">\n",
       "  <thead>\n",
       "    <tr style=\"text-align: right;\">\n",
       "      <th></th>\n",
       "      <th>Temperature</th>\n",
       "      <th>Revenue</th>\n",
       "    </tr>\n",
       "  </thead>\n",
       "  <tbody>\n",
       "    <tr>\n",
       "      <th>count</th>\n",
       "      <td>500.000000</td>\n",
       "      <td>500.000000</td>\n",
       "    </tr>\n",
       "    <tr>\n",
       "      <th>mean</th>\n",
       "      <td>22.232225</td>\n",
       "      <td>521.570777</td>\n",
       "    </tr>\n",
       "    <tr>\n",
       "      <th>std</th>\n",
       "      <td>8.096388</td>\n",
       "      <td>175.404751</td>\n",
       "    </tr>\n",
       "    <tr>\n",
       "      <th>min</th>\n",
       "      <td>0.000000</td>\n",
       "      <td>10.000000</td>\n",
       "    </tr>\n",
       "    <tr>\n",
       "      <th>25%</th>\n",
       "      <td>17.122258</td>\n",
       "      <td>405.558681</td>\n",
       "    </tr>\n",
       "    <tr>\n",
       "      <th>50%</th>\n",
       "      <td>22.392791</td>\n",
       "      <td>529.368565</td>\n",
       "    </tr>\n",
       "    <tr>\n",
       "      <th>75%</th>\n",
       "      <td>27.740674</td>\n",
       "      <td>642.257922</td>\n",
       "    </tr>\n",
       "    <tr>\n",
       "      <th>max</th>\n",
       "      <td>45.000000</td>\n",
       "      <td>1000.000000</td>\n",
       "    </tr>\n",
       "  </tbody>\n",
       "</table>\n",
       "</div>"
      ],
      "text/plain": [
       "       Temperature      Revenue\n",
       "count   500.000000   500.000000\n",
       "mean     22.232225   521.570777\n",
       "std       8.096388   175.404751\n",
       "min       0.000000    10.000000\n",
       "25%      17.122258   405.558681\n",
       "50%      22.392791   529.368565\n",
       "75%      27.740674   642.257922\n",
       "max      45.000000  1000.000000"
      ]
     },
     "execution_count": 4,
     "metadata": {},
     "output_type": "execute_result"
    }
   ],
   "source": [
    "df.describe()"
   ]
  },
  {
   "cell_type": "code",
   "execution_count": 5,
   "id": "f2f3e318",
   "metadata": {},
   "outputs": [
    {
     "name": "stdout",
     "output_type": "stream",
     "text": [
      "<class 'pandas.core.frame.DataFrame'>\n",
      "RangeIndex: 500 entries, 0 to 499\n",
      "Data columns (total 2 columns):\n",
      " #   Column       Non-Null Count  Dtype  \n",
      "---  ------       --------------  -----  \n",
      " 0   Temperature  500 non-null    float64\n",
      " 1   Revenue      500 non-null    float64\n",
      "dtypes: float64(2)\n",
      "memory usage: 7.9 KB\n"
     ]
    }
   ],
   "source": [
    "df.info()"
   ]
  },
  {
   "cell_type": "code",
   "execution_count": 6,
   "id": "f2270719",
   "metadata": {},
   "outputs": [
    {
     "data": {
      "text/plain": [
       "0"
      ]
     },
     "execution_count": 6,
     "metadata": {},
     "output_type": "execute_result"
    }
   ],
   "source": [
    "df.isnull().sum().sum()"
   ]
  },
  {
   "cell_type": "code",
   "execution_count": 7,
   "id": "534cd44b",
   "metadata": {},
   "outputs": [
    {
     "data": {
      "text/plain": [
       "Text(0.5, 1.0, 'Temperature v/s Revenue')"
      ]
     },
     "execution_count": 7,
     "metadata": {},
     "output_type": "execute_result"
    },
    {
     "data": {
      "image/png": "[encoded data removed]",
      "text/plain": [
       "<Figure size 432x288 with 1 Axes>"
      ]
     },
     "metadata": {
      "needs_background": "light"
     },
     "output_type": "display_data"
    }
   ],
   "source": [
    "plt.scatter(df.Temperature,df.Revenue)\n",
    "plt.xlabel('Temperature')\n",
    "plt.ylabel('Revenue')\n",
    "plt.title('Temperature v/s Revenue')"
   ]
  },
  {
   "cell_type": "code",
   "execution_count": 8,
   "id": "97220da8",
   "metadata": {},
   "outputs": [
    {
     "data": {
      "image/png": "[encoded data removed]",
      "text/plain": [
       "<Figure size 432x288 with 2 Axes>"
      ]
     },
     "metadata": {
      "needs_background": "light"
     },
     "output_type": "display_data"
    }
   ],
   "source": [
    "sns.heatmap(df.corr(),annot=True,cmap='Greens')\n",
    "plt.show()"
   ]
  },
  {
   "cell_type": "code",
   "execution_count": 9,
   "id": "be04d8b0",
   "metadata": {},
   "outputs": [
    {
     "data": {
      "image/png": "[encoded data removed]",
      "text/plain": [
       "<Figure size 720x720 with 1 Axes>"
      ]
     },
     "metadata": {
      "needs_background": "light"
     },
     "output_type": "display_data"
    }
   ],
   "source": [
    "plt.figure(figsize=(10,10))\n",
    "df.boxplot()\n",
    "plt.show()"
   ]
  },
  {
   "cell_type": "markdown",
   "id": "633bf1dc",
   "metadata": {},
   "source": [
    "Splitting the data-Training & test"
   ]
  },
  {
   "cell_type": "code",
   "execution_count": 10,
   "id": "79d97202",
   "metadata": {},
   "outputs": [],
   "source": [
    "x=np.array(df.Temperature.values)\n",
    "y=np.array(df.Revenue.values)"
   ]
  },
  {
   "cell_type": "code",
   "execution_count": 11,
   "id": "d218fcc8",
   "metadata": {},
   "outputs": [],
   "source": [
    "from sklearn.preprocessing import StandardScaler\n",
    "stanscale = StandardScaler()\n",
    "x=stanscale.fit_transform(x.reshape(-1, 1))\n",
    "y=stanscale.fit_transform(y.reshape(-1, 1))"
   ]
  },
  {
   "cell_type": "code",
   "execution_count": 12,
   "id": "4400c194",
   "metadata": {},
   "outputs": [
    {
     "data": {
      "text/plain": [
       "array([[ 2.88646938e-01],\n",
       "       [ 4.66472813e-01],\n",
       "       [ 6.87207155e-01],\n",
       "       [-2.02377839e-01],\n",
       "       [-1.32645236e+00],\n",
       "       [-9.74212604e-01],\n",
       "       [-1.05392466e+00],\n",
       "       [ 1.06348347e+00],\n",
       "       [-2.62791798e+00],\n",
       "       [ 1.16677850e+00],\n",
       "       [-1.33241706e+00],\n",
       "       [-2.29561034e+00],\n",
       "       [-4.22883244e-01],\n",
       "       [-1.06421991e+00],\n",
       "       [ 2.13984539e+00],\n",
       "       [-4.63520159e-01],\n",
       "       [ 4.57841071e-01],\n",
       "       [ 2.50770714e+00],\n",
       "       [ 9.09618484e-01],\n",
       "       [-5.64120830e-02],\n",
       "       [ 3.98800292e-01],\n",
       "       [-8.67631874e-01],\n",
       "       [ 4.78581709e-02],\n",
       "       [-7.38537629e-01],\n",
       "       [ 2.03936834e-01],\n",
       "       [-4.02300861e-01],\n",
       "       [-8.12379770e-01],\n",
       "       [ 8.59615819e-01],\n",
       "       [-3.96575215e-01],\n",
       "       [ 1.59340614e+00],\n",
       "       [ 2.41301047e-01],\n",
       "       [-8.65576964e-01],\n",
       "       [-1.66181939e+00],\n",
       "       [-4.94418314e-01],\n",
       "       [ 1.65630865e+00],\n",
       "       [ 1.83293659e+00],\n",
       "       [ 6.46925683e-03],\n",
       "       [-5.82960408e-01],\n",
       "       [ 1.17524197e+00],\n",
       "       [-6.40739806e-01],\n",
       "       [ 9.53556269e-02],\n",
       "       [-1.66619595e+00],\n",
       "       [-4.27391732e-01],\n",
       "       [-1.00423786e+00],\n",
       "       [-4.44879393e-01],\n",
       "       [-8.10522478e-01],\n",
       "       [-1.58786604e-01],\n",
       "       [ 1.03891985e+00],\n",
       "       [-2.17429348e-01],\n",
       "       [ 1.11231998e+00],\n",
       "       [-1.95818846e+00],\n",
       "       [ 6.12439338e-01],\n",
       "       [ 7.91454058e-01],\n",
       "       [ 7.13006017e-01],\n",
       "       [-1.47198481e+00],\n",
       "       [ 6.28141192e-01],\n",
       "       [ 1.36041748e+00],\n",
       "       [ 1.77254959e+00],\n",
       "       [-1.20783148e+00],\n",
       "       [-9.70851806e-01],\n",
       "       [-7.33118188e-01],\n",
       "       [-1.31827435e+00],\n",
       "       [ 1.39945497e+00],\n",
       "       [-2.25581779e+00],\n",
       "       [-2.12725844e-01],\n",
       "       [-1.93980636e+00],\n",
       "       [-2.98541050e-01],\n",
       "       [-1.30283301e+00],\n",
       "       [-9.19908634e-02],\n",
       "       [-4.27617473e-01],\n",
       "       [-1.17995261e+00],\n",
       "       [ 6.99145033e-01],\n",
       "       [ 5.84115589e-01],\n",
       "       [ 6.35879493e-01],\n",
       "       [ 2.31123227e-01],\n",
       "       [ 8.10786797e-01],\n",
       "       [ 2.25533093e+00],\n",
       "       [ 4.09696191e-01],\n",
       "       [ 7.99804862e-01],\n",
       "       [ 8.94078177e-01],\n",
       "       [-7.67931408e-01],\n",
       "       [-9.26361090e-01],\n",
       "       [-7.54501450e-03],\n",
       "       [ 8.41156301e-01],\n",
       "       [ 8.62665932e-01],\n",
       "       [-7.25404533e-01],\n",
       "       [ 6.85964080e-01],\n",
       "       [-1.10055680e+00],\n",
       "       [ 8.74451414e-01],\n",
       "       [-9.70309476e-01],\n",
       "       [ 1.01326358e+00],\n",
       "       [-1.62684468e+00],\n",
       "       [ 1.03654921e-01],\n",
       "       [-1.68704162e+00],\n",
       "       [-1.22153726e+00],\n",
       "       [-1.63364192e+00],\n",
       "       [-2.43217502e-01],\n",
       "       [-3.54719314e-01],\n",
       "       [-9.32988718e-01],\n",
       "       [-1.51798124e+00],\n",
       "       [-2.78768270e-01],\n",
       "       [ 1.20815979e+00],\n",
       "       [-9.82288224e-01],\n",
       "       [-5.65474834e-01],\n",
       "       [ 5.39400850e-01],\n",
       "       [-6.14474231e-01],\n",
       "       [ 1.89064852e-01],\n",
       "       [-8.21454994e-01],\n",
       "       [ 7.67077313e-01],\n",
       "       [ 6.79398993e-01],\n",
       "       [ 3.94036064e-01],\n",
       "       [-4.64522410e-01],\n",
       "       [ 2.48617228e-01],\n",
       "       [ 1.16665738e+00],\n",
       "       [-5.61576690e-01],\n",
       "       [ 1.19422599e+00],\n",
       "       [ 4.56579476e-01],\n",
       "       [ 8.75313568e-01],\n",
       "       [-1.38139614e+00],\n",
       "       [ 4.03595836e-01],\n",
       "       [ 8.75453564e-02],\n",
       "       [-1.15357574e+00],\n",
       "       [ 7.45597399e-01],\n",
       "       [ 1.02993823e+00],\n",
       "       [-1.19440757e+00],\n",
       "       [-3.92288076e-01],\n",
       "       [-7.71470878e-01],\n",
       "       [ 4.89070767e-01],\n",
       "       [ 1.13502445e+00],\n",
       "       [ 1.24440516e+00],\n",
       "       [-6.61997289e-02],\n",
       "       [-2.17252745e-01],\n",
       "       [-3.46050709e-01],\n",
       "       [-2.59965379e-01],\n",
       "       [-1.99527140e+00],\n",
       "       [ 7.53862170e-02],\n",
       "       [ 2.90998975e-01],\n",
       "       [ 7.80852883e-01],\n",
       "       [-3.03260324e-01],\n",
       "       [-1.20932797e+00],\n",
       "       [ 1.78904963e+00],\n",
       "       [-3.22635212e-01],\n",
       "       [ 1.25824136e+00],\n",
       "       [-3.66510196e-01],\n",
       "       [-3.09601723e-01],\n",
       "       [-1.68072041e+00],\n",
       "       [ 8.89972534e-01],\n",
       "       [-3.68504650e-01],\n",
       "       [ 2.94625242e-01],\n",
       "       [-1.21033967e+00],\n",
       "       [ 2.86380963e-01],\n",
       "       [-1.23914265e+00],\n",
       "       [-1.23219424e+00],\n",
       "       [-3.06309209e-01],\n",
       "       [ 1.38077329e-01],\n",
       "       [-1.34537532e-01],\n",
       "       [-4.14410256e-01],\n",
       "       [ 7.46701930e-01],\n",
       "       [-7.20326082e-01],\n",
       "       [ 8.35963394e-01],\n",
       "       [-1.48204030e+00],\n",
       "       [-1.37907840e+00],\n",
       "       [ 4.03974117e-01],\n",
       "       [ 7.04614330e-01],\n",
       "       [ 7.69917983e-01],\n",
       "       [-1.10411867e+00],\n",
       "       [ 4.65335650e-01],\n",
       "       [ 1.30717509e+00],\n",
       "       [ 1.29621457e+00],\n",
       "       [ 1.22088332e+00],\n",
       "       [ 3.14831782e-01],\n",
       "       [-8.90561038e-01],\n",
       "       [ 1.47425784e-01],\n",
       "       [ 1.60540975e+00],\n",
       "       [-7.23595961e-01],\n",
       "       [-2.07157088e-01],\n",
       "       [-1.12487691e-01],\n",
       "       [ 5.82498222e-01],\n",
       "       [ 4.97645461e-02],\n",
       "       [ 1.36230004e+00],\n",
       "       [-1.63699246e+00],\n",
       "       [ 5.74006309e-01],\n",
       "       [-1.08082341e-01],\n",
       "       [-2.74904687e-02],\n",
       "       [ 8.52702505e-01],\n",
       "       [-7.46873537e-01],\n",
       "       [ 1.62303035e+00],\n",
       "       [-1.36548915e+00],\n",
       "       [-7.01802762e-01],\n",
       "       [ 1.00121403e+00],\n",
       "       [-1.15371266e+00],\n",
       "       [-2.98899718e-01],\n",
       "       [-1.60431676e-01],\n",
       "       [ 1.67996379e-01],\n",
       "       [-7.01542500e-01],\n",
       "       [ 1.04278821e+00],\n",
       "       [-1.53551852e+00],\n",
       "       [ 1.15571614e+00],\n",
       "       [ 3.94390070e-01],\n",
       "       [ 3.72009925e-01],\n",
       "       [ 5.73837337e-01],\n",
       "       [-9.98564126e-02],\n",
       "       [ 2.14094080e-01],\n",
       "       [-1.45705745e+00],\n",
       "       [-2.02884647e+00],\n",
       "       [-7.52495666e-01],\n",
       "       [ 2.13529347e-01],\n",
       "       [-1.53924363e+00],\n",
       "       [ 2.15584139e-01],\n",
       "       [-1.50038944e+00],\n",
       "       [ 1.92103253e-02],\n",
       "       [ 6.29317134e-01],\n",
       "       [-2.45401684e-01],\n",
       "       [ 1.13840758e-01],\n",
       "       [-8.00945159e-01],\n",
       "       [ 6.60304872e-01],\n",
       "       [-4.27209790e-01],\n",
       "       [ 5.20395359e-02],\n",
       "       [-5.24116521e-01],\n",
       "       [-1.12752833e+00],\n",
       "       [ 3.17786899e-01],\n",
       "       [-4.48732200e-01],\n",
       "       [ 4.49256826e-01],\n",
       "       [ 4.96832113e-01],\n",
       "       [-1.09638936e+00],\n",
       "       [-8.55268928e-02],\n",
       "       [ 6.05307835e-01],\n",
       "       [ 5.82558177e-01],\n",
       "       [ 1.96754980e+00],\n",
       "       [-2.22491609e+00],\n",
       "       [-1.58608933e+00],\n",
       "       [-2.57023498e-01],\n",
       "       [-3.10435769e-01],\n",
       "       [-3.75515089e-01],\n",
       "       [-3.78347120e-01],\n",
       "       [ 1.71659786e+00],\n",
       "       [ 1.45721363e-01],\n",
       "       [ 9.50396994e-01],\n",
       "       [ 1.20818411e+00],\n",
       "       [ 9.31717468e-01],\n",
       "       [-1.37229543e+00],\n",
       "       [ 1.42541849e-01],\n",
       "       [ 6.76636975e-01],\n",
       "       [-8.88235260e-01],\n",
       "       [-1.96330392e+00],\n",
       "       [-9.85212866e-01],\n",
       "       [ 3.94486745e-01],\n",
       "       [ 3.08462010e-01],\n",
       "       [-7.33418593e-01],\n",
       "       [-5.04837764e-01],\n",
       "       [-4.51777471e-01],\n",
       "       [ 1.24903862e+00],\n",
       "       [-1.81386986e+00],\n",
       "       [ 1.14226895e+00],\n",
       "       [ 7.54564914e-01],\n",
       "       [-5.68141103e-01],\n",
       "       [-6.53132396e-02],\n",
       "       [-4.66021827e-01],\n",
       "       [ 1.26696408e+00],\n",
       "       [-6.02289839e-01],\n",
       "       [-1.51475829e-01],\n",
       "       [ 1.66276014e-01],\n",
       "       [ 1.05467508e+00],\n",
       "       [ 5.51828813e-02],\n",
       "       [ 8.18834232e-01],\n",
       "       [-1.55542573e+00],\n",
       "       [-4.60665393e-01],\n",
       "       [-2.08867616e+00],\n",
       "       [ 1.63519308e+00],\n",
       "       [ 3.14772883e-01],\n",
       "       [ 2.96278600e-01],\n",
       "       [ 7.73901607e-01],\n",
       "       [ 3.35978439e-01],\n",
       "       [ 3.97613839e-01],\n",
       "       [ 2.04169887e-03],\n",
       "       [ 3.12754887e-01],\n",
       "       [ 2.66816440e-02],\n",
       "       [ 1.58268754e+00],\n",
       "       [ 1.42329067e+00],\n",
       "       [ 3.64136848e-02],\n",
       "       [ 7.70584398e-01],\n",
       "       [ 1.56436952e-01],\n",
       "       [ 4.75524657e-01],\n",
       "       [ 8.20119731e-01],\n",
       "       [-1.06212913e-02],\n",
       "       [ 5.07502678e-01],\n",
       "       [ 3.42489644e-01],\n",
       "       [ 5.22215104e-01],\n",
       "       [-5.28037925e-03],\n",
       "       [-8.29726141e-01],\n",
       "       [-5.65680429e-01],\n",
       "       [ 8.03345572e-01],\n",
       "       [ 6.54898497e-01],\n",
       "       [ 6.12773999e-01],\n",
       "       [-1.46246075e+00],\n",
       "       [-5.74145439e-01],\n",
       "       [ 2.83078678e-01],\n",
       "       [ 1.94928907e+00],\n",
       "       [-6.52480212e-01],\n",
       "       [-1.79110101e+00],\n",
       "       [-2.02438052e+00],\n",
       "       [ 5.72123333e-01],\n",
       "       [ 2.79571175e-01],\n",
       "       [-4.07633606e-02],\n",
       "       [ 9.63860731e-01],\n",
       "       [-1.17492009e-01],\n",
       "       [ 1.26513135e+00],\n",
       "       [-6.35682250e-01],\n",
       "       [ 1.37022492e+00],\n",
       "       [ 1.45929870e-01],\n",
       "       [-4.02339078e-01],\n",
       "       [-1.23156587e+00],\n",
       "       [ 3.65862311e-01],\n",
       "       [ 5.97948887e-01],\n",
       "       [ 4.31889352e-01],\n",
       "       [ 9.74910703e-03],\n",
       "       [ 3.56545800e-01],\n",
       "       [-9.84589474e-03],\n",
       "       [ 7.50030826e-01],\n",
       "       [-6.43176889e-02],\n",
       "       [-8.79546982e-01],\n",
       "       [ 3.88448618e-01],\n",
       "       [-4.68856191e-01],\n",
       "       [ 7.89211472e-02],\n",
       "       [-9.73110977e-01],\n",
       "       [-1.85093290e+00],\n",
       "       [ 3.70356368e-01],\n",
       "       [-1.55913392e-01],\n",
       "       [-3.03782046e-01],\n",
       "       [ 2.43465905e+00],\n",
       "       [ 7.93365359e-01],\n",
       "       [ 8.66626854e-01],\n",
       "       [-7.89932779e-01],\n",
       "       [-1.64869132e-01],\n",
       "       [ 1.01684254e+00],\n",
       "       [ 3.19786925e-01],\n",
       "       [-2.94621632e-01],\n",
       "       [-1.40350388e-02],\n",
       "       [ 1.46254060e+00],\n",
       "       [-1.56707459e+00],\n",
       "       [ 4.10343361e-01],\n",
       "       [-3.91384968e-01],\n",
       "       [ 1.05762647e-01],\n",
       "       [-1.75551040e+00],\n",
       "       [ 9.24151012e-01],\n",
       "       [-1.24164821e+00],\n",
       "       [ 1.59027125e+00],\n",
       "       [ 3.37305107e-01],\n",
       "       [ 1.97235509e+00],\n",
       "       [-4.01438511e-01],\n",
       "       [-4.35660729e-01],\n",
       "       [-1.85562750e+00],\n",
       "       [-1.17793882e+00],\n",
       "       [ 2.83944865e-01],\n",
       "       [ 2.16756690e+00],\n",
       "       [ 9.90941968e-01],\n",
       "       [ 2.76969279e-01],\n",
       "       [-2.45796822e-01],\n",
       "       [-2.47988805e-01],\n",
       "       [-9.06898167e-01],\n",
       "       [ 8.10457187e-01],\n",
       "       [ 9.23799789e-01],\n",
       "       [ 5.11544866e-01],\n",
       "       [-1.91103736e+00],\n",
       "       [ 1.25427301e-01],\n",
       "       [ 2.56676178e-01],\n",
       "       [ 4.30961143e-01],\n",
       "       [-6.77274949e-02],\n",
       "       [ 4.89528006e-01],\n",
       "       [-7.79316320e-02],\n",
       "       [-4.13994478e-01],\n",
       "       [-2.71567974e+00],\n",
       "       [-3.23226614e-01],\n",
       "       [-2.63136634e-01],\n",
       "       [ 2.16660922e-01],\n",
       "       [ 8.67785401e-01],\n",
       "       [ 1.56132878e+00],\n",
       "       [-1.36680031e+00],\n",
       "       [ 4.81438925e-01],\n",
       "       [ 2.17934540e+00],\n",
       "       [-2.25164350e-01],\n",
       "       [-5.39177948e-01],\n",
       "       [-4.80374362e-01],\n",
       "       [-1.52466545e+00],\n",
       "       [ 3.49153742e-01],\n",
       "       [-1.25460727e+00],\n",
       "       [ 1.82546176e+00],\n",
       "       [-9.27316353e-01],\n",
       "       [-1.86995515e+00],\n",
       "       [ 1.96140214e+00],\n",
       "       [ 5.80021509e-01],\n",
       "       [-1.21151555e+00],\n",
       "       [-1.49753441e+00],\n",
       "       [-5.75893318e-01],\n",
       "       [-1.25734284e+00],\n",
       "       [ 1.01076901e+00],\n",
       "       [-1.84177193e+00],\n",
       "       [ 4.95471973e-02],\n",
       "       [ 7.18839387e-01],\n",
       "       [ 1.39489543e+00],\n",
       "       [ 2.48278447e-01],\n",
       "       [ 2.02720763e+00],\n",
       "       [-2.74869386e+00],\n",
       "       [ 2.61721525e-01],\n",
       "       [ 4.86707999e-01],\n",
       "       [-2.09249716e+00],\n",
       "       [-5.23622647e-01],\n",
       "       [ 1.07969231e+00],\n",
       "       [ 9.25571879e-01],\n",
       "       [ 1.28799967e+00],\n",
       "       [-1.36382338e-01],\n",
       "       [-4.55051303e-01],\n",
       "       [-9.49646422e-01],\n",
       "       [ 2.41514226e+00],\n",
       "       [ 6.04023363e-01],\n",
       "       [-2.73956736e-01],\n",
       "       [-2.06373768e-01],\n",
       "       [ 6.53342357e-01],\n",
       "       [ 9.88575011e-01],\n",
       "       [-6.82873984e-02],\n",
       "       [-2.69777665e-01],\n",
       "       [-6.09896906e-01],\n",
       "       [-6.22232499e-01],\n",
       "       [ 1.63351287e+00],\n",
       "       [-3.85566470e-01],\n",
       "       [-4.05488134e-01],\n",
       "       [ 4.80931561e-01],\n",
       "       [-2.78100579e-01],\n",
       "       [ 6.78662220e-01],\n",
       "       [-1.49083107e-01],\n",
       "       [ 3.89231014e-01],\n",
       "       [ 2.32604438e-01],\n",
       "       [ 6.63532491e-01],\n",
       "       [-1.66614030e+00],\n",
       "       [ 6.56472226e-01],\n",
       "       [-7.80826301e-01],\n",
       "       [-6.23528479e-01],\n",
       "       [ 8.11164762e-01],\n",
       "       [-6.30470911e-01],\n",
       "       [-1.66140519e+00],\n",
       "       [ 1.08775907e+00],\n",
       "       [-3.74523684e-01],\n",
       "       [ 6.05466483e-01],\n",
       "       [ 9.70398816e-01],\n",
       "       [ 2.81490687e+00],\n",
       "       [-4.10932058e-01],\n",
       "       [-8.81435478e-01],\n",
       "       [-4.13922552e-02],\n",
       "       [ 8.99568644e-01],\n",
       "       [-3.65164265e-01],\n",
       "       [ 9.45533668e-01],\n",
       "       [-7.68495660e-02],\n",
       "       [ 3.40775969e-01],\n",
       "       [ 1.10379429e+00],\n",
       "       [ 1.53874624e+00],\n",
       "       [-1.64639350e-01],\n",
       "       [ 1.84153271e+00],\n",
       "       [ 5.10404179e-01],\n",
       "       [ 1.61950026e+00],\n",
       "       [ 2.78511813e-01],\n",
       "       [ 2.03207146e+00],\n",
       "       [ 8.24397864e-01],\n",
       "       [-1.24985809e+00],\n",
       "       [-1.31512671e+00],\n",
       "       [-5.90614976e-01],\n",
       "       [-1.65128400e-01],\n",
       "       [ 2.23428551e+00],\n",
       "       [ 5.31384903e-01],\n",
       "       [ 2.13653762e+00],\n",
       "       [ 2.04928639e-02],\n",
       "       [-1.59772760e+00],\n",
       "       [-3.38450145e-01],\n",
       "       [-8.78162869e-04],\n",
       "       [-4.13568834e-01],\n",
       "       [-5.93615097e-02],\n",
       "       [-5.03568715e-01],\n",
       "       [-9.10714661e-01],\n",
       "       [ 8.15689884e-01],\n",
       "       [ 3.83418021e-01],\n",
       "       [-4.60402144e-01],\n",
       "       [ 3.09797555e-02],\n",
       "       [ 9.70905758e-01],\n",
       "       [-6.47150147e-01],\n",
       "       [ 6.24216061e-01],\n",
       "       [-2.14709880e+00],\n",
       "       [ 1.45275735e-01],\n",
       "       [-1.22777667e+00],\n",
       "       [ 1.28588821e+00],\n",
       "       [-6.83503593e-01],\n",
       "       [ 5.85042583e-01],\n",
       "       [ 1.96914036e-01],\n",
       "       [ 1.51329248e+00],\n",
       "       [ 1.01874284e-01],\n",
       "       [-9.02628610e-01],\n",
       "       [ 3.56050740e-01],\n",
       "       [ 5.27604251e-03],\n",
       "       [ 1.31806239e+00],\n",
       "       [-1.19234988e+00],\n",
       "       [ 1.60945395e-02],\n",
       "       [ 8.31512423e-01]])"
      ]
     },
     "execution_count": 12,
     "metadata": {},
     "output_type": "execute_result"
    }
   ],
   "source": [
    "x"
   ]
  },
  {
   "cell_type": "code",
   "execution_count": 13,
   "id": "a088b377",
   "metadata": {},
   "outputs": [],
   "source": [
    "from sklearn.model_selection import train_test_split"
   ]
  },
  {
   "cell_type": "code",
   "execution_count": 14,
   "id": "e396f8bf",
   "metadata": {},
   "outputs": [],
   "source": [
    "x_train,x_test,y_train,y_test = train_test_split(x,y,test_size=0.2)"
   ]
  },
  {
   "cell_type": "code",
   "execution_count": 15,
   "id": "0871e820",
   "metadata": {},
   "outputs": [],
   "source": [
    "regressor = DecisionTreeRegressor()"
   ]
  },
  {
   "cell_type": "code",
   "execution_count": 16,
   "id": "f3761a78",
   "metadata": {},
   "outputs": [
    {
     "data": {
      "text/plain": [
       "DecisionTreeRegressor()"
      ]
     },
     "execution_count": 16,
     "metadata": {},
     "output_type": "execute_result"
    }
   ],
   "source": [
    "# Train our model\n",
    "regressor.fit(x_train,y_train)"
   ]
  },
  {
   "cell_type": "code",
   "execution_count": 17,
   "id": "2d5af75a",
   "metadata": {},
   "outputs": [],
   "source": [
    "ypred=regressor.predict(x_test)"
   ]
  },
  {
   "cell_type": "code",
   "execution_count": 18,
   "id": "4c8b3622",
   "metadata": {},
   "outputs": [
    {
     "data": {
      "text/plain": [
       "array([ 0.7819639 , -1.72497896,  0.41793303, -1.13329704, -0.17314559,\n",
       "        0.35104681,  1.64413911,  0.07549111,  1.7469346 ,  0.7819639 ,\n",
       "        1.75042286, -0.40016144,  0.73137498, -0.14586309,  0.68170472,\n",
       "       -0.14585954,  1.29999054,  0.538471  ,  1.99279015,  0.21152949,\n",
       "       -0.9156669 , -0.8019631 ,  1.75042286, -1.38583486, -1.59254752,\n",
       "        0.00886707, -2.79076772, -0.25267312,  0.68170472,  2.55505763,\n",
       "       -0.78109879, -0.48119124,  0.2908548 ,  1.8756925 ,  0.88032182,\n",
       "        1.64413911, -0.40016144,  0.76085569, -1.06795554,  0.88019761,\n",
       "       -0.45689883, -0.27394206,  1.8756925 , -0.27975599, -0.78533995,\n",
       "       -0.38453344,  0.7819639 ,  1.33680656,  0.00886707,  0.92785685,\n",
       "        0.60681113,  1.7469346 , -0.07801491, -1.38583486, -0.4179941 ,\n",
       "       -0.40574029, -0.10549898, -0.71126894, -1.50940546, -0.00628015,\n",
       "        0.27967418, -0.27975599,  0.74354455, -1.76328451,  0.73969077,\n",
       "       -0.14585954,  0.92435479,  0.17832966,  0.23860659, -0.16175461,\n",
       "        0.05013967,  0.17832966, -1.88294733,  0.3549008 ,  1.4411823 ,\n",
       "       -0.37120762, -1.15373355,  0.90023216, -1.88294733, -0.68279684,\n",
       "       -2.79076772, -0.03487817, -1.71402589,  0.75567266, -1.91231928,\n",
       "       -1.50940546,  1.8756925 , -0.200285  ,  0.41396954,  0.07549111,\n",
       "        0.16475842,  0.35104681,  0.21152949,  0.47398418, -1.00943195,\n",
       "       -1.3969339 ,  0.49683036,  0.73137498,  0.97178239,  0.03735371])"
      ]
     },
     "execution_count": 18,
     "metadata": {},
     "output_type": "execute_result"
    }
   ],
   "source": [
    "ypred"
   ]
  },
  {
   "cell_type": "code",
   "execution_count": 19,
   "id": "d1c59c9b",
   "metadata": {},
   "outputs": [
    {
     "data": {
      "image/png": "[encoded data removed]",
      "text/plain": [
       "<Figure size 432x288 with 1 Axes>"
      ]
     },
     "metadata": {
      "needs_background": "light"
     },
     "output_type": "display_data"
    }
   ],
   "source": [
    "plt.scatter(x_test,y_test, color='red')\n",
    "plt.scatter(x_test,ypred, color='green')\n",
    "plt.xlabel('xtest')\n",
    "plt.ylabel('actual_red/pred/green')\n",
    "plt.show()"
   ]
  },
  {
   "cell_type": "code",
   "execution_count": 20,
   "id": "e819cfb3",
   "metadata": {},
   "outputs": [],
   "source": [
    "# Perfromance\n",
    "from sklearn.metrics import r2_score,mean_squared_error,mean_absolute_error"
   ]
  },
  {
   "cell_type": "code",
   "execution_count": 21,
   "id": "54ac9158",
   "metadata": {},
   "outputs": [
    {
     "data": {
      "text/plain": [
       "0.9645808464437261"
      ]
     },
     "execution_count": 21,
     "metadata": {},
     "output_type": "execute_result"
    }
   ],
   "source": [
    "r2_score(y_test,ypred)"
   ]
  },
  {
   "cell_type": "code",
   "execution_count": null,
   "id": "6def0cf5",
   "metadata": {},
   "outputs": [],
   "source": []
  }
 ],
 "metadata": {
  "kernelspec": {
   "display_name": "Python 3",
   "language": "python",
   "name": "python3"
  },
  "language_info": {
   "codemirror_mode": {
    "name": "ipython",
    "version": 3
   },
   "file_extension": ".py",
   "mimetype": "text/x-python",
   "name": "python",
   "nbconvert_exporter": "python",
   "pygments_lexer": "ipython3",
   "version": "3.8.8"
  }
 },
 "nbformat": 4,
 "nbformat_minor": 5
}
