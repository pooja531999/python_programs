{
 "cells": [
  {
   "cell_type": "markdown",
   "id": "4ee63890",
   "metadata": {},
   "source": [
    "# Q1.Write a Python function to sum all the numbers in a list."
   ]
  },
  {
   "cell_type": "code",
   "execution_count": 14,
   "id": "72c028ac",
   "metadata": {},
   "outputs": [
    {
     "name": "stdout",
     "output_type": "stream",
     "text": [
      "20\n"
     ]
    }
   ],
   "source": [
    "def sum(numbers):\n",
    "    count = 0\n",
    "    for x in numbers:\n",
    "        count += x\n",
    "    return count\n",
    "print(sum((8, 2, 3, 0, 7)))"
   ]
  },
  {
   "cell_type": "code",
   "execution_count": 15,
   "id": "742c2207",
   "metadata": {},
   "outputs": [
    {
     "name": "stdout",
     "output_type": "stream",
     "text": [
      "10\n"
     ]
    }
   ],
   "source": [
    "def sum(numbers):\n",
    "    count = 0\n",
    "    for x in numbers:\n",
    "        if(x % 2 == 0):\n",
    "            count += x\n",
    "    return count\n",
    "print(sum((8, 2, 3, 0, 7)))"
   ]
  },
  {
   "cell_type": "markdown",
   "id": "780efe89",
   "metadata": {},
   "source": [
    "# Q2.Write a program to check whether a person is senior citizen or not."
   ]
  },
  {
   "cell_type": "code",
   "execution_count": 21,
   "id": "793c6a17",
   "metadata": {},
   "outputs": [
    {
     "name": "stdout",
     "output_type": "stream",
     "text": [
      "Enter the age here: 45\n",
      "Person is not senior citizen\n"
     ]
    }
   ],
   "source": [
    "age = int(input(\"Enter the age here: \"))\n",
    "\n",
    "if(age > 60):\n",
    "    print(\"Person is senior citizen\")\n",
    "else:\n",
    "    print(\"Person is not senior citizen\")"
   ]
  },
  {
   "cell_type": "code",
   "execution_count": 24,
   "id": "5c5bfaa4",
   "metadata": {},
   "outputs": [
    {
     "name": "stdout",
     "output_type": "stream",
     "text": [
      "Enter the age here: 65\n",
      "Person is senior citizen\n"
     ]
    }
   ],
   "source": [
    "def citizen(age):\n",
    "    if(age > 60):\n",
    "        print(\"Person is senior citizen\")\n",
    "    else:\n",
    "        print(\"Person is not senior citizen\")\n",
    "    \n",
    "age = int(input(\"Enter the age here: \"))\n",
    "\n",
    "citizen(age)\n",
    "    "
   ]
  },
  {
   "cell_type": "markdown",
   "id": "dcd4a5d8",
   "metadata": {},
   "source": [
    "# Q3.Write a program to print the following number pattern using a loop."
   ]
  },
  {
   "cell_type": "raw",
   "id": "10033797",
   "metadata": {},
   "source": [
    "\n",
    "\n",
    "1 \n",
    "1 2 \n",
    "1 2 3 \n",
    "1 2 3 4 \n",
    "1 2 3 4 5"
   ]
  },
  {
   "cell_type": "code",
   "execution_count": 35,
   "id": "c8d8f2b7",
   "metadata": {},
   "outputs": [
    {
     "name": "stdout",
     "output_type": "stream",
     "text": [
      "1 \n",
      "1 2 \n",
      "1 2 3 \n",
      "1 2 3 4 \n",
      "1 2 3 4 5 \n"
     ]
    }
   ],
   "source": [
    "row = 5\n",
    "for i in range(1, row + 1, 1):\n",
    "    for j in range(1, i + 1):\n",
    "        print(j, end=' ')\n",
    "    print(\"\")"
   ]
  },
  {
   "cell_type": "code",
   "execution_count": null,
   "id": "0c0435b6",
   "metadata": {},
   "outputs": [],
   "source": []
  },
  {
   "cell_type": "code",
   "execution_count": null,
   "id": "3ab44c3a",
   "metadata": {},
   "outputs": [],
   "source": []
  }
 ],
 "metadata": {
  "kernelspec": {
   "display_name": "Python 3",
   "language": "python",
   "name": "python3"
  },
  "language_info": {
   "codemirror_mode": {
    "name": "ipython",
    "version": 3
   },
   "file_extension": ".py",
   "mimetype": "text/x-python",
   "name": "python",
   "nbconvert_exporter": "python",
   "pygments_lexer": "ipython3",
   "version": "3.8.8"
  }
 },
 "nbformat": 4,
 "nbformat_minor": 5
}
