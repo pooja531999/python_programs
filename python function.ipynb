{
 "cells": [
  {
   "cell_type": "code",
   "execution_count": 1,
   "id": "56d1bd72",
   "metadata": {},
   "outputs": [
    {
     "name": "stdout",
     "output_type": "stream",
     "text": [
      "1805040.0\n"
     ]
    }
   ],
   "source": [
    "'''you are managing your finances using python:\n",
    "complete the tasks mentioned in the comments. and then print the amount left in your bank.\n",
    "Note that this code uses scientific notation to define large numbers. 1.2e6 is equal to 1.2 * 10 ** 6 which is equal to 1200000.\n",
    "amt=1.2e5'''\n",
    "# the amount of money in your bank account is 1.2e5\n",
    "amt = 1.2e6\n",
    "\n",
    "# money recieved every year in form of salary\n",
    "salary = 9.3e5\n",
    "\n",
    "# decrease the salary by 30% as tax paied to the government.\n",
    "salary -= (30/100)*salary\n",
    "\n",
    "# Add the salary to the bank account amt variable\n",
    "amt += salary\n",
    "\n",
    "# increase the amt by 4% that you recieved from the bank as intrest\n",
    "amt += (4/100)*amt\n",
    "\n",
    "# substract 1.2e5 from amt as the rent paied\n",
    "amt -=1.2e5\n",
    "\n",
    "# print the new value of the amt variable\n",
    "print(amt)\n",
    "\n"
   ]
  },
  {
   "cell_type": "code",
   "execution_count": 1,
   "id": "7af4b78f",
   "metadata": {},
   "outputs": [
    {
     "data": {
      "text/plain": [
       "14"
      ]
     },
     "execution_count": 1,
     "metadata": {},
     "output_type": "execute_result"
    }
   ],
   "source": [
    "def sum(a,b):\n",
    "    return a+b\n",
    "\n",
    "sum(6,8)"
   ]
  },
  {
   "cell_type": "code",
   "execution_count": 8,
   "id": "cecf71f0",
   "metadata": {},
   "outputs": [
    {
     "name": "stdout",
     "output_type": "stream",
     "text": [
      "The multiplication is: 270\n"
     ]
    }
   ],
   "source": [
    "def mul(a,b,c):\n",
    "    res=a*b*c\n",
    "    print('The multiplication is:',res)\n",
    "    \n",
    "mul(5,6,9)"
   ]
  },
  {
   "cell_type": "code",
   "execution_count": 27,
   "id": "28ca2acc",
   "metadata": {},
   "outputs": [
    {
     "name": "stdout",
     "output_type": "stream",
     "text": [
      "Enter the number 1\n",
      "5\n",
      "Enter the number 2\n",
      "p\n",
      "invalid literal for int() with base 10: 'p'\n"
     ]
    }
   ],
   "source": [
    "# try exception handling\n",
    "print('Enter the number 1')\n",
    "num1=(input())\n",
    "print('Enter the number 2')\n",
    "num2=(input())\n",
    "\n",
    "try:\n",
    "    sum=int(num1)+int(num2)\n",
    "    print(sum)\n",
    "except Exception as e:\n",
    "    print(e)\n",
    "\n"
   ]
  },
  {
   "cell_type": "code",
   "execution_count": 1,
   "id": "734f1943",
   "metadata": {},
   "outputs": [
    {
     "name": "stdout",
     "output_type": "stream",
     "text": [
      "value of a : 10\n"
     ]
    }
   ],
   "source": [
    "#function with one argument\n",
    "def argument(a):\n",
    "    print(\"value of a :\",a)\n",
    "    \n",
    "argument(10)    "
   ]
  },
  {
   "cell_type": "code",
   "execution_count": 9,
   "id": "aa00db38",
   "metadata": {},
   "outputs": [
    {
     "name": "stdout",
     "output_type": "stream",
     "text": [
      "A:B = python : 1\n"
     ]
    }
   ],
   "source": [
    "#function with multiple argument\n",
    "def myfunction(a,b):\n",
    "    print(\"A:B =\",a,\":\",b)\n",
    "myfunction('python',1)    \n",
    "    "
   ]
  },
  {
   "cell_type": "code",
   "execution_count": 12,
   "id": "b6fb730b",
   "metadata": {},
   "outputs": [
    {
     "name": "stdout",
     "output_type": "stream",
     "text": [
      "Youngest child is :Geeta\n"
     ]
    }
   ],
   "source": [
    "# Keywords argument\n",
    "def myfunction(child3,child2,child1):\n",
    "    print(\"Youngest child is :\"+child1)\n",
    "    \n",
    "myfunction(child2='Ritesh',child3='Ram',child1='Geeta')    "
   ]
  },
  {
   "cell_type": "code",
   "execution_count": 13,
   "id": "0ecfe4de",
   "metadata": {},
   "outputs": [
    {
     "name": "stdout",
     "output_type": "stream",
     "text": [
      "I am from :Ranmala\n",
      "I am from :Gujrat\n"
     ]
    }
   ],
   "source": [
    "#default parameter value\n",
    "def myfun(state='Ranmala'):\n",
    "    print(\"I am from :\"+state)\n",
    "    \n",
    "myfun() # at empty space it used the default value of state\n",
    "myfun('Gujrat')"
   ]
  },
  {
   "cell_type": "code",
   "execution_count": 19,
   "id": "754e4325",
   "metadata": {},
   "outputs": [
    {
     "name": "stdout",
     "output_type": "stream",
     "text": [
      "Apple\n",
      "Banana\n",
      "Cherry\n"
     ]
    }
   ],
   "source": [
    "# passing list into the function\n",
    "def myfun(fruit):\n",
    "    for i in fruit:\n",
    "        print(i)\n",
    "f=['Apple','Banana','Cherry'] \n",
    "myfun(f)\n"
   ]
  },
  {
   "cell_type": "code",
   "execution_count": 20,
   "id": "2a3acdb3",
   "metadata": {},
   "outputs": [
    {
     "data": {
      "text/plain": [
       "30"
      ]
     },
     "execution_count": 20,
     "metadata": {},
     "output_type": "execute_result"
    }
   ],
   "source": [
    "# return value from function\n",
    "def myfun(x):\n",
    "    return(5*6)\n",
    "\n",
    "myfun(6)"
   ]
  },
  {
   "cell_type": "markdown",
   "id": "fae83cde",
   "metadata": {},
   "source": [
    "# Recursion function"
   ]
  },
  {
   "cell_type": "code",
   "execution_count": 21,
   "id": "3dd73af3",
   "metadata": {},
   "outputs": [
    {
     "name": "stdout",
     "output_type": "stream",
     "text": [
      "Num : 6\n",
      "The factorial of  6 is 720\n"
     ]
    }
   ],
   "source": [
    "def factorial(x):\n",
    "    if x==1:\n",
    "        return 1\n",
    "    else:\n",
    "        return(x*factorial(x-1))\n",
    "num = int(input(\"Num : \"))\n",
    "print(\"The factorial of \",num,\"is\",factorial(num))"
   ]
  },
  {
   "cell_type": "markdown",
   "id": "11754b52",
   "metadata": {},
   "source": [
    "# Lambda or anonymous function\n",
    "The function which has no name"
   ]
  },
  {
   "cell_type": "code",
   "execution_count": 23,
   "id": "34bd58c7",
   "metadata": {},
   "outputs": [
    {
     "name": "stdout",
     "output_type": "stream",
     "text": [
      "15\n",
      "25\n"
     ]
    }
   ],
   "source": [
    "x = lambda a:a+10\n",
    "print(x(5))\n",
    "\n",
    "y = lambda a,b,c:a*(b+c)\n",
    "print(y(5,2,3))"
   ]
  },
  {
   "cell_type": "markdown",
   "id": "963ca31d",
   "metadata": {},
   "source": [
    "# Global variable\n",
    "global variable means the variable can be use anywhere in the program"
   ]
  },
  {
   "cell_type": "code",
   "execution_count": 26,
   "id": "5636d82f",
   "metadata": {},
   "outputs": [
    {
     "name": "stdout",
     "output_type": "stream",
     "text": [
      "25\n",
      "20\n"
     ]
    }
   ],
   "source": [
    "z = 25 # global variable\n",
    "def myfun():\n",
    "    global z\n",
    "    print(z)\n",
    "    z=20\n",
    "    \n",
    "myfun() \n",
    "print(z)"
   ]
  },
  {
   "cell_type": "markdown",
   "id": "12df5187",
   "metadata": {},
   "source": [
    "# Local variable\n",
    "The variable which can be used in it scope"
   ]
  },
  {
   "cell_type": "code",
   "execution_count": 29,
   "id": "2da374b1",
   "metadata": {},
   "outputs": [
    {
     "name": "stdout",
     "output_type": "stream",
     "text": [
      "15\n",
      "<function <lambda> at 0x00000196398C4EE0>\n"
     ]
    }
   ],
   "source": [
    "def sum(x,y):\n",
    "    sum=x+y\n",
    "    return sum\n",
    "print(sum(5,10))\n",
    "\n",
    "print(x) # x is local variable here for sum function it use only for sum funcion"
   ]
  },
  {
   "cell_type": "markdown",
   "id": "9c0e15e0",
   "metadata": {},
   "source": [
    "# Random module in python"
   ]
  },
  {
   "cell_type": "code",
   "execution_count": 30,
   "id": "f59ce55d",
   "metadata": {},
   "outputs": [],
   "source": [
    "import random"
   ]
  },
  {
   "cell_type": "code",
   "execution_count": 33,
   "id": "12349398",
   "metadata": {},
   "outputs": [
    {
     "name": "stdout",
     "output_type": "stream",
     "text": [
      "2\n"
     ]
    }
   ],
   "source": [
    "from random import choice\n",
    "l1=[1,2,3,4,5]\n",
    "print(choice(l1)) # it choose anyone number from l1"
   ]
  },
  {
   "cell_type": "code",
   "execution_count": 35,
   "id": "b34a4e47",
   "metadata": {},
   "outputs": [
    {
     "name": "stdout",
     "output_type": "stream",
     "text": [
      "Your OTP: 143946\n"
     ]
    }
   ],
   "source": [
    "from random import randint\n",
    "otp = randint(10000,999999)\n",
    "print(\"Your OTP:\",otp)"
   ]
  },
  {
   "cell_type": "code",
   "execution_count": 53,
   "id": "4fdab800",
   "metadata": {},
   "outputs": [],
   "source": [
    "from random import shuffle\n",
    "from random import uniform"
   ]
  },
  {
   "cell_type": "code",
   "execution_count": 54,
   "id": "0c51f502",
   "metadata": {},
   "outputs": [
    {
     "name": "stdout",
     "output_type": "stream",
     "text": [
      "['Mango', 'Banana', 'Apple']\n"
     ]
    },
    {
     "data": {
      "text/plain": [
       "3.0294611582442865"
      ]
     },
     "execution_count": 54,
     "metadata": {},
     "output_type": "execute_result"
    }
   ],
   "source": [
    "l2=['Apple','Banana',\"Mango\"]\n",
    "shuffle(l2)\n",
    "print(l2)\n",
    "random.uniform(3,4)"
   ]
  },
  {
   "cell_type": "code",
   "execution_count": 61,
   "id": "5e76a6c8",
   "metadata": {},
   "outputs": [
    {
     "name": "stdout",
     "output_type": "stream",
     "text": [
      "[17, 8, 2, 0, 1, 9, 10, 18, 7, 12]\n",
      "[17, 8, 2, 0, 1]\n"
     ]
    }
   ],
   "source": [
    "from random import getstate\n",
    "# remember this state\n",
    "state = random.getstate()\n",
    " \n",
    "# print 10 random numbers\n",
    "print(random.sample(range(20), k = 10)) # it print 10 numbers between 1-20\n",
    " \n",
    "# restore state\n",
    "random.setstate(state)\n",
    " \n",
    "# print same first 5 random numbers\n",
    "# as above\n",
    "print(random.sample(range(20), k = 5))"
   ]
  },
  {
   "cell_type": "markdown",
   "id": "4a1b0aac",
   "metadata": {},
   "source": [
    "# Wesite for random module\n",
    "https://docs.python.org/3/library/random.html"
   ]
  },
  {
   "cell_type": "markdown",
   "id": "c79eae0c",
   "metadata": {},
   "source": [
    "# Math module"
   ]
  },
  {
   "cell_type": "code",
   "execution_count": 43,
   "id": "9b8056c8",
   "metadata": {},
   "outputs": [],
   "source": [
    "import math\n",
    "from math import factorial"
   ]
  },
  {
   "cell_type": "code",
   "execution_count": 45,
   "id": "3e5ec6bd",
   "metadata": {},
   "outputs": [
    {
     "name": "stdout",
     "output_type": "stream",
     "text": [
      "120\n"
     ]
    }
   ],
   "source": [
    "print(math.factorial(5))"
   ]
  },
  {
   "cell_type": "code",
   "execution_count": 49,
   "id": "a0a949de",
   "metadata": {},
   "outputs": [
    {
     "name": "stdout",
     "output_type": "stream",
     "text": [
      "2\n"
     ]
    }
   ],
   "source": [
    "# ceil() it gives round off of number\n",
    "print(math.ceil(1.4))\n"
   ]
  },
  {
   "cell_type": "code",
   "execution_count": 50,
   "id": "d123db41",
   "metadata": {},
   "outputs": [
    {
     "name": "stdout",
     "output_type": "stream",
     "text": [
      "0\n",
      "5\n"
     ]
    }
   ],
   "source": [
    "# floor()\n",
    "print(math.floor(0.2))\n",
    "print(math.floor(5.2))"
   ]
  },
  {
   "cell_type": "code",
   "execution_count": 51,
   "id": "b1b855eb",
   "metadata": {},
   "outputs": [
    {
     "name": "stdout",
     "output_type": "stream",
     "text": [
      "2.0\n"
     ]
    }
   ],
   "source": [
    "# sqrt\n",
    "print(math.sqrt(4))"
   ]
  },
  {
   "cell_type": "code",
   "execution_count": 55,
   "id": "a3f82982",
   "metadata": {},
   "outputs": [],
   "source": [
    "from math import fabs "
   ]
  },
  {
   "cell_type": "code",
   "execution_count": 57,
   "id": "aa9b950d",
   "metadata": {},
   "outputs": [
    {
     "data": {
      "text/plain": [
       "5.0"
      ]
     },
     "execution_count": 57,
     "metadata": {},
     "output_type": "execute_result"
    }
   ],
   "source": [
    "math.fabs(5)"
   ]
  },
  {
   "cell_type": "markdown",
   "id": "3d3c6856",
   "metadata": {},
   "source": [
    "# Website for math module functon\n",
    "https://docs.python.org/3/library/math.html\n",
    "    "
   ]
  },
  {
   "cell_type": "markdown",
   "id": "20ee96ff",
   "metadata": {},
   "source": [
    "# object oriented concept in python"
   ]
  },
  {
   "cell_type": "code",
   "execution_count": 1,
   "id": "b6675482",
   "metadata": {},
   "outputs": [
    {
     "name": "stdout",
     "output_type": "stream",
     "text": [
      "<class '__main__.myclass'>\n"
     ]
    }
   ],
   "source": [
    "# how to create the class\n",
    "class myclass:\n",
    "    x=5\n",
    "    \n",
    "print(myclass)    "
   ]
  },
  {
   "cell_type": "markdown",
   "id": "ea16dbf1",
   "metadata": {},
   "source": [
    "for accessing the value of x i.e. the property of class we need to create an object "
   ]
  },
  {
   "cell_type": "code",
   "execution_count": 4,
   "id": "25b893fb",
   "metadata": {},
   "outputs": [
    {
     "name": "stdout",
     "output_type": "stream",
     "text": [
      "5\n",
      "6\n"
     ]
    }
   ],
   "source": [
    "# How to create an object ?\n",
    "\n",
    "class myclass:\n",
    "    x=5 # property of class\n",
    "    y=6\n",
    "    \n",
    "m1=myclass() # m1 is an object of class myclass\n",
    "print(m1.x)\n",
    "print(m1.y)"
   ]
  },
  {
   "cell_type": "code",
   "execution_count": 8,
   "id": "be11adc4",
   "metadata": {},
   "outputs": [
    {
     "data": {
      "text/plain": [
       "45"
      ]
     },
     "execution_count": 8,
     "metadata": {},
     "output_type": "execute_result"
    }
   ],
   "source": [
    "# calling a function by object\n",
    "\n",
    "class myclass:\n",
    "    def myfun(self): # self is required in parameter unless compiler give an error\n",
    "        return 5*9\n",
    "m1=myclass()\n",
    "m1.myfun()"
   ]
  },
  {
   "cell_type": "code",
   "execution_count": 9,
   "id": "d947ba7a",
   "metadata": {},
   "outputs": [
    {
     "name": "stdout",
     "output_type": "stream",
     "text": [
      "45\n"
     ]
    }
   ],
   "source": [
    "# How to create constuctor\n",
    "\n",
    "class myclass:\n",
    "    def __init__(self):\n",
    "        print(5*9)\n",
    "m1=myclass()        "
   ]
  },
  {
   "cell_type": "code",
   "execution_count": 24,
   "id": "5b9482f8",
   "metadata": {},
   "outputs": [
    {
     "name": "stdout",
     "output_type": "stream",
     "text": [
      "21\n",
      "pooja\n"
     ]
    }
   ],
   "source": [
    "# change the value by objects\n",
    "class myclass:\n",
    "    def __init__(self,name,age):\n",
    "        self.name=name\n",
    "        self.age=age\n",
    "        \n",
    "m1=myclass(\"pooja\",21)\n",
    "print(m1.age)\n",
    "print(m1.name)\n"
   ]
  },
  {
   "cell_type": "code",
   "execution_count": 25,
   "id": "fb1ffd4f",
   "metadata": {},
   "outputs": [
    {
     "name": "stdout",
     "output_type": "stream",
     "text": [
      "23\n"
     ]
    }
   ],
   "source": [
    "# changing the age using object\n",
    "m1.age=23\n",
    "print(m1.age)"
   ]
  },
  {
   "cell_type": "code",
   "execution_count": 26,
   "id": "0efb13d9",
   "metadata": {},
   "outputs": [],
   "source": [
    "# delete the object\n",
    "del m1.age\n",
    "#print(m1.age)"
   ]
  },
  {
   "cell_type": "code",
   "execution_count": null,
   "id": "ec88f17b",
   "metadata": {},
   "outputs": [],
   "source": []
  }
 ],
 "metadata": {
  "kernelspec": {
   "display_name": "Python 3",
   "language": "python",
   "name": "python3"
  },
  "language_info": {
   "codemirror_mode": {
    "name": "ipython",
    "version": 3
   },
   "file_extension": ".py",
   "mimetype": "text/x-python",
   "name": "python",
   "nbconvert_exporter": "python",
   "pygments_lexer": "ipython3",
   "version": "3.8.8"
  }
 },
 "nbformat": 4,
 "nbformat_minor": 5
}
