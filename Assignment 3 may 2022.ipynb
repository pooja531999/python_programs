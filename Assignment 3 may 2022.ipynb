{
 "cells": [
  {
   "cell_type": "markdown",
   "id": "3054eece",
   "metadata": {},
   "source": [
    "# Polymorphism in python\n",
    "# Method overloading"
   ]
  },
  {
   "cell_type": "code",
   "execution_count": 1,
   "id": "fc3b737e",
   "metadata": {},
   "outputs": [
    {
     "name": "stdout",
     "output_type": "stream",
     "text": [
      "function with 2 arguments\n"
     ]
    },
    {
     "data": {
      "text/plain": [
       "'Note:-\\nMethod overloading is not supported in python because python is an interprited language'"
      ]
     },
     "execution_count": 1,
     "metadata": {},
     "output_type": "execute_result"
    }
   ],
   "source": [
    "class MO:\n",
    "    def myfun(self): # no arguments\n",
    "        print(\"function with no arguments\")\n",
    "        \n",
    "    def myfun(self,a): # 1 arguments\n",
    "        print(\"function with 1 argument\")\n",
    "        \n",
    "    def myfun(self,a,b): # 2 arguments\n",
    "        print(\"function with 2 arguments\")\n",
    "        \n",
    "        \n",
    "# creating an object of class MO\n",
    "m = MO()\n",
    "m.myfun(10,20)"
   ]
  },
  {
   "cell_type": "markdown",
   "id": "0f08098b",
   "metadata": {},
   "source": [
    "# Method overriding\n",
    "It is runtime polymorphism.inheritance is compulsory here."
   ]
  },
  {
   "cell_type": "code",
   "execution_count": 3,
   "id": "17617db6",
   "metadata": {},
   "outputs": [
    {
     "name": "stdout",
     "output_type": "stream",
     "text": [
      "class Mo1 function called\n",
      "class Mo2 function called\n",
      "class Mo1 function called\n"
     ]
    }
   ],
   "source": [
    "class MO1: # parent class\n",
    "    def myfun(self,a):\n",
    "        print(\"class Mo1 function called\")\n",
    "        \n",
    "class MO2(MO1): # child class\n",
    "    def myfun(self,a):\n",
    "        print(\"class Mo2 function called\")\n",
    "        # super method calling the method of class MO2\n",
    "        super().myfun(10)\n",
    "        \n",
    "class MO3(MO2): # child class\n",
    "    def myfun(self,a):\n",
    "        print(\"class Mo1 function called\")\n",
    "        # super method calling the method of class MO2\n",
    "        super().myfun(10)\n",
    "        \n",
    "# creating an object of class MO#\n",
    "m=MO3() \n",
    "m.myfun(10)\n",
    "        "
   ]
  },
  {
   "cell_type": "markdown",
   "id": "371287a4",
   "metadata": {},
   "source": [
    "# Abstraction in python"
   ]
  },
  {
   "cell_type": "code",
   "execution_count": 4,
   "id": "1f153f6d",
   "metadata": {},
   "outputs": [
    {
     "name": "stdout",
     "output_type": "stream",
     "text": [
      "SBI Interest is 5%\n",
      "HDFC Interest is 2%\n"
     ]
    }
   ],
   "source": [
    "class RBI: # abstract class\n",
    "    def Interest(self): #Abstract method\n",
    "        pass\n",
    "class SBI(RBI): # child class\n",
    "    def Interest(self): #RBI Interest implements here\n",
    "        print(\"SBI Interest is 5%\")\n",
    "        \n",
    "class HDFC(RBI): # child class\n",
    "    def Interest(self): # RBI Interest implements here\n",
    "        print(\"HDFC Interest is 2%\")\n",
    "        \n",
    "        \n",
    "# creating an object of class SBI\n",
    "s= SBI()\n",
    "\n",
    "# creating an  object of class HDFC\n",
    "h= HDFC()\n",
    "\n",
    "s.Interest() #SBI interest method called\n",
    "h.Interest() # HDFC Interest method called\n",
    "        "
   ]
  },
  {
   "cell_type": "code",
   "execution_count": 5,
   "id": "9b040278",
   "metadata": {},
   "outputs": [
    {
     "name": "stdout",
     "output_type": "stream",
     "text": [
      "I can bark\n",
      "I can hisss\n"
     ]
    }
   ],
   "source": [
    "class Animal:\n",
    "    def move(self):\n",
    "        pass\n",
    "\n",
    "class Dog(Animal):\n",
    "    def move(self):\n",
    "        print(\"I can bark\")\n",
    "class Snake(Animal):\n",
    "    def move(self):\n",
    "        print(\"I can hisss\")\n",
    "        \n",
    "d = Dog()\n",
    "s = Snake()\n",
    "\n",
    "d.move()\n",
    "s.move()"
   ]
  },
  {
   "cell_type": "code",
   "execution_count": null,
   "id": "352a6fb3",
   "metadata": {},
   "outputs": [],
   "source": []
  }
 ],
 "metadata": {
  "kernelspec": {
   "display_name": "Python 3",
   "language": "python",
   "name": "python3"
  },
  "language_info": {
   "codemirror_mode": {
    "name": "ipython",
    "version": 3
   },
   "file_extension": ".py",
   "mimetype": "text/x-python",
   "name": "python",
   "nbconvert_exporter": "python",
   "pygments_lexer": "ipython3",
   "version": "3.8.8"
  }
 },
 "nbformat": 4,
 "nbformat_minor": 5
}
