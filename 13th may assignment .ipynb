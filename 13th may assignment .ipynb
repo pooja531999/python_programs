{
 "cells": [
  {
   "cell_type": "markdown",
   "id": "5934f9a2",
   "metadata": {},
   "source": [
    "# Que1: Python Program for n-th Fibonacci number"
   ]
  },
  {
   "cell_type": "code",
   "execution_count": 1,
   "id": "501245ba",
   "metadata": {},
   "outputs": [],
   "source": [
    "def Fibonacci(n):\n",
    "    if n<= 0:\n",
    "        print(\"Incorrect input\")\n",
    "    # First Fibonacci number is 0\n",
    "    elif n == 1:\n",
    "        return 0\n",
    "    # Second Fibonacci number is 1\n",
    "    elif n == 2:\n",
    "        return 1\n",
    "    else:\n",
    "        return Fibonacci(n-1)+Fibonacci(n-2)\n"
   ]
  },
  {
   "cell_type": "code",
   "execution_count": 2,
   "id": "2ff80572",
   "metadata": {},
   "outputs": [
    {
     "name": "stdout",
     "output_type": "stream",
     "text": [
      "34\n"
     ]
    }
   ],
   "source": [
    "print(Fibonacci(10))"
   ]
  },
  {
   "cell_type": "markdown",
   "id": "7cf7de78",
   "metadata": {},
   "source": [
    "# Que 2: Program to print ASCII Value of a character"
   ]
  },
  {
   "cell_type": "code",
   "execution_count": 3,
   "id": "cd7da2ca",
   "metadata": {},
   "outputs": [
    {
     "name": "stdout",
     "output_type": "stream",
     "text": [
      "The ASCII value of 'g' is 103\n"
     ]
    }
   ],
   "source": [
    "c = 'g'\n",
    "# print the ASCII value of assigned character in c\n",
    "print(\"The ASCII value of '\" + c + \"' is\", ord(c))"
   ]
  },
  {
   "cell_type": "markdown",
   "id": "dfa04408",
   "metadata": {},
   "source": [
    "# Que 3: What is Enumerate() Function in Python "
   ]
  },
  {
   "cell_type": "code",
   "execution_count": 7,
   "id": "c2f5755c",
   "metadata": {},
   "outputs": [
    {
     "name": "stdout",
     "output_type": "stream",
     "text": [
      "0 Python\n",
      "1 Interview\n",
      "2 Questions\n"
     ]
    }
   ],
   "source": [
    "subjects = ('Python', 'Interview', 'Questions')\n",
    "for i, subject in enumerate(subjects):\n",
    "     print(i, subject)"
   ]
  },
  {
   "cell_type": "code",
   "execution_count": null,
   "id": "1d7b395a",
   "metadata": {},
   "outputs": [],
   "source": []
  }
 ],
 "metadata": {
  "kernelspec": {
   "display_name": "Python 3",
   "language": "python",
   "name": "python3"
  },
  "language_info": {
   "codemirror_mode": {
    "name": "ipython",
    "version": 3
   },
   "file_extension": ".py",
   "mimetype": "text/x-python",
   "name": "python",
   "nbconvert_exporter": "python",
   "pygments_lexer": "ipython3",
   "version": "3.8.8"
  }
 },
 "nbformat": 4,
 "nbformat_minor": 5
}
