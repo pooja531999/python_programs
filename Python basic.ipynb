{
 "cells": [
  {
   "cell_type": "code",
   "execution_count": 1,
   "id": "3e77aec8",
   "metadata": {},
   "outputs": [
    {
     "data": {
      "text/plain": [
       "(2, 'pooja')"
      ]
     },
     "execution_count": 1,
     "metadata": {},
     "output_type": "execute_result"
    }
   ],
   "source": [
    "d1=(2,\"pooja\")\n",
    "d1\n",
    "\n"
   ]
  },
  {
   "cell_type": "code",
   "execution_count": 2,
   "id": "ad351142",
   "metadata": {},
   "outputs": [
    {
     "data": {
      "text/plain": [
       "tuple"
      ]
     },
     "execution_count": 2,
     "metadata": {},
     "output_type": "execute_result"
    }
   ],
   "source": [
    "type(d1)"
   ]
  },
  {
   "cell_type": "code",
   "execution_count": null,
   "id": "dc0e9c4e",
   "metadata": {},
   "outputs": [],
   "source": []
  },
  {
   "cell_type": "code",
   "execution_count": 3,
   "id": "01e4aca6",
   "metadata": {},
   "outputs": [
    {
     "name": "stdout",
     "output_type": "stream",
     "text": [
      "whta's your name\n",
      "Hey,whats up?\n",
      "Hi i am pooja \u0007\n"
     ]
    }
   ],
   "source": [
    "# escape sequences \n",
    "\n",
    "print(\"whta\\'s your name\") \n",
    "\n",
    "print(\"Hey,whats up?\")\n",
    "\n",
    "#print(\"Unescaped backslashes at the end of string give an error\\\")\n",
    "\n",
    "print(\"Hi i am pooja \\a\")"
   ]
  },
  {
   "cell_type": "code",
   "execution_count": 4,
   "id": "cc77ddef",
   "metadata": {},
   "outputs": [
    {
     "name": "stdout",
     "output_type": "stream",
     "text": [
      "5\n",
      "6\n",
      "The sum of two numbers is 11\n"
     ]
    }
   ],
   "source": [
    "n1=input()\n",
    "n2=input()\n",
    "print(\"The sum of two numbers is\",int(n1)+int(n2))"
   ]
  },
  {
   "cell_type": "code",
   "execution_count": 5,
   "id": "b5dc57a9",
   "metadata": {},
   "outputs": [
    {
     "name": "stdout",
     "output_type": "stream",
     "text": [
      "30\n",
      "i have done BSc in mathematics\n",
      "i have done BSc\n",
      "ia nB  tmi\n",
      "i have done BSc in mathematics\n",
      "i have done BSc\n",
      "i have done BSc in mathematics\n",
      "ihv oeBci ahmtc\n",
      "i\n",
      " mathematics\n",
      "scitamehtam ni cSB enod evah i\n",
      "s\n"
     ]
    }
   ],
   "source": [
    "# string slicing\n",
    "my_string = \"i have done BSc in mathematics\"\n",
    "print(len(my_string))\n",
    "print(my_string[::])\n",
    "print(my_string[0:15])\n",
    "print(my_string[0:30:3])# start:stop:step\n",
    "print(my_string[:])\n",
    "print(my_string[:15])\n",
    "print(my_string[0:55]) # it print the characters upto string length and ignore the index no after its length\n",
    "print(my_string[::2])\n",
    "print(my_string[0::5559])\n",
    "print(my_string[-12:])\n",
    "print(my_string[-1::-1])# it gives me whole string in reverse\n",
    "print(my_string[-1:])"
   ]
  },
  {
   "cell_type": "code",
   "execution_count": 6,
   "id": "473eeb1f",
   "metadata": {},
   "outputs": [
    {
     "name": "stdout",
     "output_type": "stream",
     "text": [
      "False\n"
     ]
    }
   ],
   "source": [
    "print(my_string.isalnum()) \n"
   ]
  },
  {
   "cell_type": "code",
   "execution_count": 7,
   "id": "866985c7",
   "metadata": {},
   "outputs": [
    {
     "name": "stdout",
     "output_type": "stream",
     "text": [
      "False\n"
     ]
    }
   ],
   "source": [
    "string = \"ihavedoneBScinmathematic\" # after removing the spaces it gives value true\n",
    "print(my_string.isalnum())"
   ]
  },
  {
   "cell_type": "code",
   "execution_count": 8,
   "id": "2daf557c",
   "metadata": {},
   "outputs": [
    {
     "name": "stdout",
     "output_type": "stream",
     "text": [
      "True\n"
     ]
    }
   ],
   "source": [
    "string2=\"Welcome home\"\n",
    "print(string2.endswith(\"home\"))      "
   ]
  },
  {
   "cell_type": "code",
   "execution_count": 9,
   "id": "570370e2",
   "metadata": {},
   "outputs": [
    {
     "data": {
      "text/plain": [
       "2"
      ]
     },
     "execution_count": 9,
     "metadata": {},
     "output_type": "execute_result"
    }
   ],
   "source": [
    "string2.count('o')"
   ]
  },
  {
   "cell_type": "code",
   "execution_count": 10,
   "id": "6f2347ac",
   "metadata": {},
   "outputs": [
    {
     "data": {
      "text/plain": [
       "'Welcome home'"
      ]
     },
     "execution_count": 10,
     "metadata": {},
     "output_type": "execute_result"
    }
   ],
   "source": [
    "string2.capitalize()"
   ]
  },
  {
   "cell_type": "code",
   "execution_count": 11,
   "id": "05d77f01",
   "metadata": {},
   "outputs": [
    {
     "data": {
      "text/plain": [
       "5"
      ]
     },
     "execution_count": 11,
     "metadata": {},
     "output_type": "execute_result"
    }
   ],
   "source": [
    "string2.find('m')"
   ]
  },
  {
   "cell_type": "code",
   "execution_count": 12,
   "id": "8cba61fd",
   "metadata": {},
   "outputs": [
    {
     "data": {
      "text/plain": [
       "'Welcome new home'"
      ]
     },
     "execution_count": 12,
     "metadata": {},
     "output_type": "execute_result"
    }
   ],
   "source": [
    "string2.replace('home','new home')"
   ]
  },
  {
   "cell_type": "markdown",
   "id": "935f242b",
   "metadata": {},
   "source": [
    "# list in python"
   ]
  },
  {
   "cell_type": "code",
   "execution_count": 14,
   "id": "3f4b05cd",
   "metadata": {},
   "outputs": [
    {
     "name": "stdout",
     "output_type": "stream",
     "text": [
      "['rohan', 'radhika', 5, 'anamika', 56]\n",
      "anamika\n"
     ]
    }
   ],
   "source": [
    "student=[\"rohan\",\"radhika\",5,\"anamika\",56]\n",
    "print(student)\n",
    "print(student[3])"
   ]
  },
  {
   "cell_type": "code",
   "execution_count": 14,
   "id": "23ff6fa5",
   "metadata": {},
   "outputs": [
    {
     "name": "stdout",
     "output_type": "stream",
     "text": [
      "['A', 'B', 'C', 1, 2, 3]\n",
      "[1, 5, 2, 3]\n",
      "['A', 'B', 1, 2, 3]\n",
      "[]\n"
     ]
    }
   ],
   "source": [
    "l1=['A','B','C']\n",
    "l2=[1,2,3]\n",
    "l1.extend(l2)\n",
    "print(l1)\n",
    "l2.insert(1,5) # here 1 is index position\n",
    "print(l2)\n",
    "l1.remove('C') # remove item using del and pop methods also\n",
    "print(l1)\n",
    "l1.clear() # to clear list\n",
    "print(l1)"
   ]
  },
  {
   "cell_type": "code",
   "execution_count": 15,
   "id": "27f89100",
   "metadata": {},
   "outputs": [
    {
     "name": "stdout",
     "output_type": "stream",
     "text": [
      "[2, 3, 7, 9, 11]\n",
      "[9.1, 65, 85, 4]\n"
     ]
    }
   ],
   "source": [
    "marks=[2, 7, 9, 11, 3]\n",
    "marks.sort() #print(mark.sort()) is not working gives none value\n",
    "print(marks)\n",
    "\n",
    "mark=[4,85,65,9.1]\n",
    "mark.reverse() #print(mark.reverse()) is not working gives none value\n",
    "print(mark)"
   ]
  },
  {
   "cell_type": "code",
   "execution_count": 16,
   "id": "82e16779",
   "metadata": {},
   "outputs": [
    {
     "name": "stdout",
     "output_type": "stream",
     "text": [
      "[2, 3, 7, 9, 11]\n"
     ]
    }
   ],
   "source": [
    "print(marks[:])"
   ]
  },
  {
   "cell_type": "code",
   "execution_count": 17,
   "id": "0d0d3b11",
   "metadata": {},
   "outputs": [
    {
     "name": "stdout",
     "output_type": "stream",
     "text": [
      "[3, 9]\n",
      "2\n",
      "[2, 3, 7, 9, 11, 5]\n",
      "[2, 3, 7, 9, 11]\n"
     ]
    }
   ],
   "source": [
    "print(marks[1:5:2])\n",
    "print(min(marks))\n",
    "marks.append(5) # deu to runing command again again it adds 5 for 5 times\n",
    "print(marks)\n",
    "marks.pop()\n",
    "print(marks)\n"
   ]
  },
  {
   "cell_type": "code",
   "execution_count": 18,
   "id": "a5d2f8ff",
   "metadata": {},
   "outputs": [
    {
     "name": "stdout",
     "output_type": "stream",
     "text": [
      "[2, 3, 7, 9, 11]\n"
     ]
    }
   ],
   "source": [
    "# marks[5]=9\n",
    "print(marks)"
   ]
  },
  {
   "cell_type": "markdown",
   "id": "ac5c8043",
   "metadata": {},
   "source": [
    "# Tuple in Python"
   ]
  },
  {
   "cell_type": "code",
   "execution_count": 28,
   "id": "d0a1d6a8",
   "metadata": {},
   "outputs": [
    {
     "name": "stdout",
     "output_type": "stream",
     "text": [
      "(5, 5, 6, 9)\n"
     ]
    }
   ],
   "source": [
    "t1=(5,5,6,9) # we cant change tuple hence tuple is immutable\n",
    "print(t1)\n"
   ]
  },
  {
   "cell_type": "code",
   "execution_count": 33,
   "id": "87072553",
   "metadata": {},
   "outputs": [
    {
     "name": "stdout",
     "output_type": "stream",
     "text": [
      "4\n",
      "(5, 6, 9)\n",
      "(5, 5, 6, 9)\n",
      "[5, 5, 6, 9]\n",
      "[5, 5, 6, 3]\n",
      "<class 'list'>\n"
     ]
    }
   ],
   "source": [
    "print(len(t1))\n",
    "\n",
    "# Accessing the value by using index\n",
    "print(t1[1:6])\n",
    "print(t1[-4:])\n",
    "\n",
    "#convert tuple into list\n",
    "x=list(t1)\n",
    "print(x)\n",
    "x[3]=3\n",
    "print(x)\n",
    "print(type(x))\n"
   ]
  },
  {
   "cell_type": "markdown",
   "id": "c04c77a2",
   "metadata": {},
   "source": [
    "# loops with tuple"
   ]
  },
  {
   "cell_type": "code",
   "execution_count": 36,
   "id": "b3eaef8f",
   "metadata": {},
   "outputs": [
    {
     "name": "stdout",
     "output_type": "stream",
     "text": [
      "5\n",
      "5\n",
      "6\n",
      "3\n"
     ]
    }
   ],
   "source": [
    "for i in x:\n",
    "    print(i)"
   ]
  },
  {
   "cell_type": "code",
   "execution_count": 38,
   "id": "7dd818f5",
   "metadata": {},
   "outputs": [
    {
     "name": "stdout",
     "output_type": "stream",
     "text": [
      "[5, 5, 6, 3]\n",
      "5\n",
      "5\n",
      "6\n",
      "3\n",
      "finish loop\n"
     ]
    }
   ],
   "source": [
    "# while loop\n",
    "print(x)\n",
    "i=0\n",
    "\n",
    "while i<len(x):\n",
    "    print(x[i])\n",
    "    i+=1\n",
    "else:\n",
    "    print(\"finish loop\")\n",
    "    "
   ]
  },
  {
   "cell_type": "code",
   "execution_count": 40,
   "id": "3ca8b73c",
   "metadata": {},
   "outputs": [
    {
     "name": "stdout",
     "output_type": "stream",
     "text": [
      "False\n",
      "True\n"
     ]
    }
   ],
   "source": [
    "# How to compare tuples\n",
    "t1=(1,2,3)\n",
    "t2=(2,3,5)\n",
    "\n",
    "print(t1==t2)\n",
    "print(t1<t2)"
   ]
  },
  {
   "cell_type": "code",
   "execution_count": 20,
   "id": "9adeb166",
   "metadata": {},
   "outputs": [
    {
     "name": "stdout",
     "output_type": "stream",
     "text": [
      "{'rahul': 4, 'rohit': 5, 'marks': {'rohit': 89, 'rahul': 80}}\n",
      "4\n",
      "80\n",
      "{'rahul': 4, 'rohit': 5, 'marks': {'rohit': 89, 'rahul': 80}, 'radhika': 6}\n",
      "{'rahul': 4, 'rohit': 5, 'marks': {'rohit': 89, 'rahul': 80, 'radhika': 60}, 'radhika': 6}\n"
     ]
    }
   ],
   "source": [
    "#dictionary :-nothing but key value pair\n",
    "d1={'rahul':4,'rohit':5,'marks':{'rohit':89,'rahul':80}}\n",
    "print(d1)\n",
    "print(d1['rahul'])\n",
    "print(d1['marks']['rahul'])\n",
    "d1['radhika']=6\n",
    "print(d1)\n",
    "d1['marks']['radhika']=60\n",
    "print(d1)\n"
   ]
  },
  {
   "cell_type": "code",
   "execution_count": 21,
   "id": "3a383635",
   "metadata": {},
   "outputs": [
    {
     "name": "stdout",
     "output_type": "stream",
     "text": [
      "{'rohit': 5, 'marks': {'rohit': 89, 'rahul': 80, 'radhika': 60}, 'radhika': 6}\n"
     ]
    }
   ],
   "source": [
    "del d1['rahul']\n",
    "print(d1)"
   ]
  },
  {
   "cell_type": "code",
   "execution_count": 22,
   "id": "28e1e6dc",
   "metadata": {},
   "outputs": [
    {
     "name": "stdout",
     "output_type": "stream",
     "text": [
      "{'rohit': 5, 'marks': {'rohit': 89, 'rahul': 80, 'radhika': 60}, 'radhika': 6}\n",
      "{'rohit': 5, 'marks': {'rohit': 89, 'rahul': 80, 'radhika': 60}, 'radhika': 6}\n"
     ]
    }
   ],
   "source": [
    "d2 = d1.copy()\n",
    "#del d2['marks']['radhika']\n",
    "print(d2)\n",
    "print(d1)"
   ]
  },
  {
   "cell_type": "code",
   "execution_count": 23,
   "id": "1ef0a015",
   "metadata": {},
   "outputs": [
    {
     "name": "stdout",
     "output_type": "stream",
     "text": [
      "{'rohit': 7, 'marks': {'rohit': 89, 'rahul': 80, 'radhika': 60}, 'radhika': 6}\n"
     ]
    }
   ],
   "source": [
    "d2.update({'rohit':7})\n",
    "print(d2)"
   ]
  },
  {
   "cell_type": "code",
   "execution_count": 24,
   "id": "7e1c06a9",
   "metadata": {},
   "outputs": [
    {
     "name": "stdout",
     "output_type": "stream",
     "text": [
      "dict_keys(['rohit', 'marks', 'radhika'])\n",
      "dict_items([('rohit', 7), ('marks', {'rohit': 89, 'rahul': 80, 'radhika': 60}), ('radhika', 6)])\n",
      "dict_values([7, {'rohit': 89, 'rahul': 80, 'radhika': 60}, 6])\n"
     ]
    }
   ],
   "source": [
    "print(d2.keys())\n",
    "print(d2.items())\n",
    "print(d2.values())"
   ]
  },
  {
   "cell_type": "code",
   "execution_count": 26,
   "id": "a9838b2a",
   "metadata": {},
   "outputs": [
    {
     "name": "stdout",
     "output_type": "stream",
     "text": [
      "Enter the name:rohit\n",
      "5\n"
     ]
    }
   ],
   "source": [
    "#create the dictionary and take input from the user and return the meaning of the word from the dictionary\n",
    "d1={'rahul':4,'rohit':5,'marks':{'rohit':89,'rahul':80}}\n",
    "name=input(\"Enter the name:\")\n",
    "print(d1[name])\n"
   ]
  },
  {
   "cell_type": "code",
   "execution_count": 27,
   "id": "7abba6e6",
   "metadata": {},
   "outputs": [
    {
     "name": "stdout",
     "output_type": "stream",
     "text": [
      "{1, 2, 5, 6}\n",
      "{1, 2, 3, 5, 6}\n",
      "{2, 5, 6}\n",
      "{1, 2, 3, 5, 6, 8, 9}\n",
      "9\n"
     ]
    }
   ],
   "source": [
    "# set in python,it store unique values is the difference between list and set\n",
    "my_set=set([1,2,5,5,6])\n",
    "print(my_set)\n",
    "my_set.add(3)\n",
    "print(my_set)\n",
    "s=([2,6,5,8,9]) #list\n",
    "print(my_set.intersection(s))\n",
    "print(my_set.union(s))\n",
    "print(max(s))"
   ]
  },
  {
   "cell_type": "code",
   "execution_count": 28,
   "id": "f5b88b3d",
   "metadata": {},
   "outputs": [
    {
     "name": "stdout",
     "output_type": "stream",
     "text": [
      "False\n",
      "False\n",
      "{1, 2, 3, 5, 6}\n"
     ]
    }
   ],
   "source": [
    "print(my_set.isdisjoint(s))\n",
    "s=set([2,6,5,8,9])\n",
    "print(s.isdisjoint(my_set))\n",
    "#my_set.remove(5)\n",
    "\n",
    "#my_set.remove(9)\n",
    "print(my_set)\n"
   ]
  },
  {
   "cell_type": "code",
   "execution_count": 29,
   "id": "bd021b68",
   "metadata": {},
   "outputs": [
    {
     "name": "stdout",
     "output_type": "stream",
     "text": [
      "9\n",
      "5\n",
      "30\n",
      "3.5\n",
      "1\n",
      "4\n",
      "3\n",
      "3\n",
      "49\n"
     ]
    }
   ],
   "source": [
    "#add 7+2 below\n",
    "x=7+2\n",
    "print(x)\n",
    "#subtract 2 from 7 below\n",
    "print(7-2)\n",
    "#multiply 5 and 6 below\n",
    "print(5*6)\n",
    "#divide 7 by 2 below\n",
    "print(7/2)\n",
    "#remainder when 7 divide by 2\n",
    "print(7%2)\n",
    "#divide 7 by 2 nd round to the nearest integer\n",
    "print(round(7/2))\n",
    "print(int(7/2))\n",
    "print(7//2)\n",
    "#7 raise to the power 2 below\n",
    "print(7**2)"
   ]
  },
  {
   "cell_type": "code",
   "execution_count": 30,
   "id": "a53353e8",
   "metadata": {},
   "outputs": [
    {
     "name": "stdout",
     "output_type": "stream",
     "text": [
      "6.25\n"
     ]
    }
   ],
   "source": [
    "#use of round\n",
    "print(round(25/4,2))"
   ]
  },
  {
   "cell_type": "code",
   "execution_count": 31,
   "id": "0e35fa70",
   "metadata": {},
   "outputs": [
    {
     "name": "stdout",
     "output_type": "stream",
     "text": [
      "1440.0\n"
     ]
    }
   ],
   "source": [
    "'''you're going to do some calculations for your bills. Your net expenditure for the past 5 months\n",
    "has been 1200, 2000, 800, 1500 and 1700. What is your average monthly expenditure.'''\n",
    "\n",
    "expenditure=1200+2000+800+1500+1700\n",
    "Average=(expenditure)/5\n",
    "print(Average)"
   ]
  },
  {
   "cell_type": "code",
   "execution_count": 32,
   "id": "d660eb05",
   "metadata": {},
   "outputs": [
    {
     "name": "stdout",
     "output_type": "stream",
     "text": [
      "Needed Tiles are 89\n",
      "The tiles left are 13\n"
     ]
    }
   ],
   "source": [
    "'''Two rooms in a house needs to be filled. One room is 4 ft wide by 11 ft \n",
    "long, the other is 5 ft wide by 9 ft long. Tiles come in packages of 7 and each tile is 1ftx1ft in size\n",
    "\n",
    "1) How many tiles are needed?\n",
    "2) You buy 17 packages each containing 6 tiles each. How many tiles will be left over?  '''\n",
    "\n",
    "Area_r1=4*11\n",
    "Area_r2=5*9\n",
    "Tiles_req=(Area_r1+Area_r2)\n",
    "\n",
    "print(\"Needed Tiles are\",Tiles_req)\n",
    "left_tiles=(17*6) - Tiles_req\n",
    "print(\"The tiles left are\",left_tiles)\n"
   ]
  },
  {
   "cell_type": "code",
   "execution_count": 36,
   "id": "89ccc0c9",
   "metadata": {},
   "outputs": [
    {
     "name": "stdout",
     "output_type": "stream",
     "text": [
      "<class 'complex'>\n",
      "Addition of c+d : (10+13j)\n"
     ]
    }
   ],
   "source": [
    "c = 4 + 8j\n",
    "print(type(c))\n",
    "\n",
    "d = 6 + 5j\n",
    "print(\"Addition of c+d :\",c+d)\n"
   ]
  },
  {
   "cell_type": "code",
   "execution_count": 43,
   "id": "2ce4b4b8",
   "metadata": {},
   "outputs": [
    {
     "name": "stdout",
     "output_type": "stream",
     "text": [
      "False\n",
      "True\n",
      "True\n"
     ]
    }
   ],
   "source": [
    "l1=[1,4,5,6]\n",
    "l2=[1,4,5,6]\n",
    "l3=l1\n",
    "print(l1 is l2)\n",
    "print(l1 is l3) # identity operator\n",
    "\n",
    "print(1 in l1) # membership operator"
   ]
  },
  {
   "cell_type": "markdown",
   "id": "a841807c",
   "metadata": {},
   "source": [
    "# Module - 1 Assignment"
   ]
  },
  {
   "cell_type": "code",
   "execution_count": 47,
   "id": "e822586a",
   "metadata": {},
   "outputs": [
    {
     "name": "stdout",
     "output_type": "stream",
     "text": [
      "Hello Python\n",
      "45\n",
      "Enter the value :5\n",
      "5\n",
      "Enter the value 1:5\n",
      "Enter the value 2:6\n",
      "The sum of l and m is  11\n"
     ]
    }
   ],
   "source": [
    "# write a program to print a string \"Hello Python\"\n",
    "a=\"Hello Python\"\n",
    "print(a)\n",
    "#write a program to store one value in variable and print that variable\n",
    "b=45\n",
    "print(b)\n",
    "# write a program to take value from user input and print that value\n",
    "c=input(\"Enter the value :\")\n",
    "print(c)\n",
    "# write a program to do a sum of two value\n",
    "l=int(input(\"Enter the value 1:\"))\n",
    "m=int(input(\"Enter the value 2:\"))\n",
    "print(\"The sum of l and m is \",l+m)"
   ]
  },
  {
   "cell_type": "code",
   "execution_count": 50,
   "id": "aff35157",
   "metadata": {},
   "outputs": [
    {
     "name": "stdout",
     "output_type": "stream",
     "text": [
      "Enter the value 1:5\n",
      "Enter the value 2:5\n",
      "The sum of l1 and m1 is  1.0\n",
      "True\n"
     ]
    }
   ],
   "source": [
    "#write a program to perform division using variables\n",
    "l1=int(input(\"Enter the value 1:\"))\n",
    "m1=int(input(\"Enter the value 2:\"))\n",
    "print(\"The sum of l1 and m1 is \",l1/m1)\n",
    "# write a program to take two integer value from the user and check both the values are same\n",
    "print(l1==m1)"
   ]
  },
  {
   "cell_type": "code",
   "execution_count": 5,
   "id": "2bf58c23",
   "metadata": {},
   "outputs": [
    {
     "name": "stdout",
     "output_type": "stream",
     "text": [
      "hello world\n",
      "Hello World\n",
      "    Hello World     \n"
     ]
    }
   ],
   "source": [
    "a = \"Hello World\"\n",
    "print(a.casefold()) # use to make uppercase lowercase\n",
    "print(a)\n",
    "print(a.center(20)) "
   ]
  },
  {
   "cell_type": "markdown",
   "id": "061f7ebd",
   "metadata": {},
   "source": [
    "# Dictionary in python\n",
    "\n",
    "we store two repeated value but they having different key values.\n",
    "keys are immutable.and value could be immutable or muttable or both which depends upon what value you are storing."
   ]
  },
  {
   "cell_type": "code",
   "execution_count": 1,
   "id": "8aa9d461",
   "metadata": {},
   "outputs": [
    {
     "name": "stdout",
     "output_type": "stream",
     "text": [
      "{1: 'Apple', 2: 'Mango', 3: 'Apple'}\n"
     ]
    }
   ],
   "source": [
    "dict={1:\"Apple\",2:\"Mango\",3:\"Apple\"}\n",
    "print(dict)"
   ]
  },
  {
   "cell_type": "code",
   "execution_count": 36,
   "id": "3baeab98",
   "metadata": {},
   "outputs": [
    {
     "name": "stdout",
     "output_type": "stream",
     "text": [
      "{1: 'Apple', 2: 'Mango', 'fruit': ['Apple', 'Mango']}\n",
      "['Apple', 'Mango']\n",
      "Mango\n",
      "dict_items([(1, 'Apple'), (2, 'Mango'), ('fruit', ['Apple', 'Mango'])])\n"
     ]
    }
   ],
   "source": [
    "# List into dictionary also store tuple into dictionary\n",
    "d1={1:\"Apple\",2:\"Mango\",\"fruit\":[\"Apple\",\"Mango\"]}\n",
    "print(d1)\n",
    "print(d1[\"fruit\"])\n",
    "print(d1.get(2))\n",
    "\n",
    "# Access the value using item()\n",
    "d=d1.items()\n",
    "print(d)"
   ]
  },
  {
   "cell_type": "code",
   "execution_count": 37,
   "id": "abfddae1",
   "metadata": {},
   "outputs": [
    {
     "name": "stdout",
     "output_type": "stream",
     "text": [
      "{1: 'Apple', 2: 'Mango', 'fruit': ['Apple', 'orenge']}\n"
     ]
    }
   ],
   "source": [
    "# Change the value\n",
    "d1[\"fruit\"][1]=\"orenge\"\n",
    "print(d1)"
   ]
  },
  {
   "cell_type": "code",
   "execution_count": 38,
   "id": "bbfe9e93",
   "metadata": {},
   "outputs": [
    {
     "name": "stdout",
     "output_type": "stream",
     "text": [
      "{1: 'Apple', 2: 'kivi', 'fruit': 'kivi'}\n"
     ]
    }
   ],
   "source": [
    "#using update method\n",
    "d1.update({2:\"kivi\"})\n",
    "d1.update({\"fruit\":\"kivi\"})\n",
    "print(d1)"
   ]
  },
  {
   "cell_type": "code",
   "execution_count": 39,
   "id": "b1454a0c",
   "metadata": {},
   "outputs": [
    {
     "name": "stdout",
     "output_type": "stream",
     "text": [
      "{1: 'Apple', 'fruit': 'kivi'}\n"
     ]
    }
   ],
   "source": [
    "d1.pop(2) \n",
    "print(d1)"
   ]
  },
  {
   "cell_type": "code",
   "execution_count": 40,
   "id": "0ce2484b",
   "metadata": {},
   "outputs": [
    {
     "data": {
      "text/plain": [
       "{1: 'Apple'}"
      ]
     },
     "execution_count": 40,
     "metadata": {},
     "output_type": "execute_result"
    }
   ],
   "source": [
    "d1.popitem()# it remove last value from list\n",
    "d1"
   ]
  },
  {
   "cell_type": "code",
   "execution_count": 50,
   "id": "0a037fa0",
   "metadata": {},
   "outputs": [
    {
     "name": "stdout",
     "output_type": "stream",
     "text": [
      "dict_values(['A', 'B', 'c'])\n",
      "<built-in method keys of dict object at 0x000001A6F55D9F40>\n"
     ]
    }
   ],
   "source": [
    "d1={1:\"A\",2:\"B\",3:\"c\"}\n",
    "print(d1.values())\n",
    "print(d1.keys)"
   ]
  },
  {
   "cell_type": "code",
   "execution_count": null,
   "id": "70f8c01a",
   "metadata": {},
   "outputs": [],
   "source": []
  }
 ],
 "metadata": {
  "kernelspec": {
   "display_name": "Python 3",
   "language": "python",
   "name": "python3"
  },
  "language_info": {
   "codemirror_mode": {
    "name": "ipython",
    "version": 3
   },
   "file_extension": ".py",
   "mimetype": "text/x-python",
   "name": "python",
   "nbconvert_exporter": "python",
   "pygments_lexer": "ipython3",
   "version": "3.8.8"
  }
 },
 "nbformat": 4,
 "nbformat_minor": 5
}
