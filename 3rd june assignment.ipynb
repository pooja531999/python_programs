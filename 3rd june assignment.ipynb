{
 "cells": [
  {
   "cell_type": "markdown",
   "id": "c519295e",
   "metadata": {},
   "source": [
    "# Que 1: Ways to remove i’th character from string in Python"
   ]
  },
  {
   "cell_type": "code",
   "execution_count": 8,
   "id": "9d67bd5d",
   "metadata": {},
   "outputs": [
    {
     "name": "stdout",
     "output_type": "stream",
     "text": [
      "The original string is : GeeksForGeeks\n",
      "The string after removal of i'th character : GeksForGeeks\n"
     ]
    }
   ],
   "source": [
    "test_str = \"GeeksForGeeks\"\n",
    "  \n",
    "# Printing original string \n",
    "print (\"The original string is : \" + test_str)\n",
    "  \n",
    "# Removing char at pos 3\n",
    "# using loop\n",
    "new_str = \"\"\n",
    "  \n",
    "for i in range(len(test_str)):\n",
    "    if i != 2:\n",
    "        new_str = new_str + test_str[i]\n",
    "    \n",
    "print (\"The string after removal of i'th character : \" + new_str)"
   ]
  },
  {
   "cell_type": "markdown",
   "id": "dccf42d0",
   "metadata": {},
   "source": [
    "# Que 2:  Demonstrating the use of str.replace() to remove i’th char."
   ]
  },
  {
   "cell_type": "code",
   "execution_count": 10,
   "id": "9aeb0853",
   "metadata": {},
   "outputs": [
    {
     "name": "stdout",
     "output_type": "stream",
     "text": [
      "The original string is : GeeksForGeeks\n",
      "The string after removal of i'th character( doesn't work) : GksForGks\n",
      "The string after removal of i'th character(works) : GeekForGeeks\n"
     ]
    }
   ],
   "source": [
    "test_str = \"GeeksForGeeks\"\n",
    "  \n",
    "# Printing original string \n",
    "print (\"The original string is : \" + test_str)\n",
    "  \n",
    "# Removing char at pos 3\n",
    "# using replace\n",
    "new_str = test_str.replace('e', '')\n",
    "  \n",
    "# Printing string after removal  \n",
    "# removes all occurrences of 'e'\n",
    "print (\"The string after removal of i'th character( doesn't work) : \" + new_str)\n",
    "  \n",
    "# Removing 1st occurrence of s, i.e 5th pos.\n",
    "# if we wish to remove it.\n",
    "new_str = test_str.replace('s', '', 1)\n",
    "  \n",
    "# Printing string after removal  \n",
    "# removes first occurrences of s\n",
    "print (\"The string after removal of i'th character(works) : \" + new_str)"
   ]
  },
  {
   "cell_type": "markdown",
   "id": "d7f3556e",
   "metadata": {},
   "source": [
    "# Que 3: Demonstrating the use of slice and concatenation to remove the i’th char."
   ]
  },
  {
   "cell_type": "code",
   "execution_count": 11,
   "id": "7858ef50",
   "metadata": {},
   "outputs": [
    {
     "name": "stdout",
     "output_type": "stream",
     "text": [
      "The original string is : GeeksForGeeks\n",
      "The string after removal of i'th character : GeksForGeeks\n"
     ]
    }
   ],
   "source": [
    "# Initializing String \n",
    "test_str = \"GeeksForGeeks\"\n",
    "  \n",
    "# Printing original string \n",
    "print (\"The original string is : \" + test_str)\n",
    "  \n",
    "# Removing char at pos 3\n",
    "# using slice + concatenation\n",
    "new_str = test_str[:2] +  test_str[3:]\n",
    "  \n",
    "# Printing string after removal  \n",
    "# removes ele. at 3rd index\n",
    "print (\"The string after removal of i'th character : \" + new_str)"
   ]
  },
  {
   "cell_type": "code",
   "execution_count": null,
   "id": "c72cf6b0",
   "metadata": {},
   "outputs": [],
   "source": []
  }
 ],
 "metadata": {
  "kernelspec": {
   "display_name": "Python 3",
   "language": "python",
   "name": "python3"
  },
  "language_info": {
   "codemirror_mode": {
    "name": "ipython",
    "version": 3
   },
   "file_extension": ".py",
   "mimetype": "text/x-python",
   "name": "python",
   "nbconvert_exporter": "python",
   "pygments_lexer": "ipython3",
   "version": "3.8.8"
  }
 },
 "nbformat": 4,
 "nbformat_minor": 5
}
