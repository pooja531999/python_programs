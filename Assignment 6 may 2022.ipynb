{
 "cells": [
  {
   "cell_type": "markdown",
   "id": "9e900deb",
   "metadata": {},
   "source": [
    "# Q.1 How to count the occurrences of a particular element in the list?"
   ]
  },
  {
   "cell_type": "code",
   "execution_count": 1,
   "id": "6e1c66e5",
   "metadata": {},
   "outputs": [
    {
     "name": "stdout",
     "output_type": "stream",
     "text": [
      "3\n"
     ]
    }
   ],
   "source": [
    "weekdays = ['sun','mon','tue','wed','thu','fri','sun','mon','mon']\n",
    "print(weekdays.count('mon'))"
   ]
  },
  {
   "cell_type": "markdown",
   "id": "c4132fb6",
   "metadata": {},
   "source": [
    "# Q.2 How to convert a list into a set?"
   ]
  },
  {
   "cell_type": "code",
   "execution_count": 3,
   "id": "7be0b4ce",
   "metadata": {},
   "outputs": [
    {
     "name": "stdout",
     "output_type": "stream",
     "text": [
      "{'sat', 'sun', 'thu', 'mon', 'fri', 'wed', 'tue'}\n"
     ]
    }
   ],
   "source": [
    "weekdays = ['sun','mon','tue','wed','thu','fri','sat','sun','tue']\n",
    "listAsSet = set(weekdays)\n",
    "print(listAsSet)\n"
   ]
  },
  {
   "cell_type": "markdown",
   "id": "8c1612aa",
   "metadata": {},
   "source": [
    "# Q.3  How to convert a list into a string?"
   ]
  },
  {
   "cell_type": "code",
   "execution_count": 4,
   "id": "99a81b04",
   "metadata": {},
   "outputs": [
    {
     "name": "stdout",
     "output_type": "stream",
     "text": [
      "sun mon tue wed thu fri sat\n"
     ]
    }
   ],
   "source": [
    "weekdays = ['sun','mon','tue','wed','thu','fri','sat']\n",
    "listAsString = ' '.join(weekdays)\n",
    "print(listAsString)"
   ]
  },
  {
   "cell_type": "code",
   "execution_count": null,
   "id": "f19ab304",
   "metadata": {},
   "outputs": [],
   "source": []
  }
 ],
 "metadata": {
  "kernelspec": {
   "display_name": "Python 3",
   "language": "python",
   "name": "python3"
  },
  "language_info": {
   "codemirror_mode": {
    "name": "ipython",
    "version": 3
   },
   "file_extension": ".py",
   "mimetype": "text/x-python",
   "name": "python",
   "nbconvert_exporter": "python",
   "pygments_lexer": "ipython3",
   "version": "3.8.8"
  }
 },
 "nbformat": 4,
 "nbformat_minor": 5
}
