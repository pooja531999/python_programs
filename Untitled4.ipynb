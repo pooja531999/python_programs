{
 "cells": [
  {
   "cell_type": "markdown",
   "id": "d3fd9b45",
   "metadata": {},
   "source": [
    "# Que1: What is data type SET in Python and how to work with it?"
   ]
  },
  {
   "cell_type": "code",
   "execution_count": 4,
   "id": "57aee7c2",
   "metadata": {},
   "outputs": [
    {
     "name": "stdout",
     "output_type": "stream",
     "text": [
      "{'tips', 'beginners', 'for', 'coding', 'python'}\n",
      "5\n",
      "These are the best Python coding tips.\n",
      "These are the best Python coding tips not Java tips.\n",
      "{'Python', 'coding', 'tips'}\n"
     ]
    },
    {
     "data": {
      "text/plain": [
       "{'Python', 'coding', 'tips'}"
      ]
     },
     "execution_count": 4,
     "metadata": {},
     "output_type": "execute_result"
    }
   ],
   "source": [
    "objects = {\"python\", \"coding\", \"tips\", \"for\", \"beginners\"}\n",
    "\n",
    "print(objects)\n",
    "print(len(objects)) \n",
    "\n",
    "if \"tips\" in objects:\n",
    "    print(\"These are the best Python coding tips.\")\n",
    "\n",
    "if \"Java tips\" not in objects:\n",
    "    print(\"These are the best Python coding tips not Java tips.\")\n",
    "\n",
    "items = set()\n",
    "\n",
    "items.add(\"Python\")\n",
    "items.add(\"coding\")\n",
    "items.add(\"tips\") \n",
    "\n",
    "print(items)\n",
    "\n",
    "{'Python', 'coding', 'tips'}"
   ]
  },
  {
   "cell_type": "markdown",
   "id": "2f523a73",
   "metadata": {},
   "source": [
    "# Que 2: Python Concatenating Example"
   ]
  },
  {
   "cell_type": "code",
   "execution_count": 5,
   "id": "2cace1bf",
   "metadata": {},
   "outputs": [
    {
     "name": "stdout",
     "output_type": "stream",
     "text": [
      "Python Interview Questions\n"
     ]
    }
   ],
   "source": [
    "print('Python' + ' Interview' + ' Questions')"
   ]
  },
  {
   "cell_type": "markdown",
   "id": "16170a6c",
   "metadata": {},
   "source": [
    "# Que 3:  How to print the sum of the numbers starting from 1 to 100?"
   ]
  },
  {
   "cell_type": "code",
   "execution_count": 7,
   "id": "f6c02d16",
   "metadata": {},
   "outputs": [
    {
     "name": "stdout",
     "output_type": "stream",
     "text": [
      "5050\n"
     ]
    }
   ],
   "source": [
    "print(sum(range(1,101)))"
   ]
  },
  {
   "cell_type": "code",
   "execution_count": null,
   "id": "383b4e21",
   "metadata": {},
   "outputs": [],
   "source": []
  }
 ],
 "metadata": {
  "kernelspec": {
   "display_name": "Python 3",
   "language": "python",
   "name": "python3"
  },
  "language_info": {
   "codemirror_mode": {
    "name": "ipython",
    "version": 3
   },
   "file_extension": ".py",
   "mimetype": "text/x-python",
   "name": "python",
   "nbconvert_exporter": "python",
   "pygments_lexer": "ipython3",
   "version": "3.8.8"
  }
 },
 "nbformat": 4,
 "nbformat_minor": 5
}
