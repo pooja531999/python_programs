{
 "cells": [
  {
   "cell_type": "markdown",
   "id": "f86e610b",
   "metadata": {},
   "source": [
    "# Types of inheritance\n",
    "1.single inheritance 2.multilevel inheritance 3.multiple inheritance 4.hierarchical inheritance 5.hybrid inheritance"
   ]
  },
  {
   "cell_type": "markdown",
   "id": "88e5612a",
   "metadata": {},
   "source": [
    "# 1.single inheritance\n",
    "1.In single inheritance there is only one parent class and one child class."
   ]
  },
  {
   "cell_type": "code",
   "execution_count": 1,
   "id": "25032ec7",
   "metadata": {},
   "outputs": [
    {
     "name": "stdout",
     "output_type": "stream",
     "text": [
      "Parent class function called\n",
      "child class function called\n"
     ]
    }
   ],
   "source": [
    "class ParentClass: # parent class\n",
    "    def myfunction1(self): # parent class property\n",
    "        print(\"Parent class function called\")\n",
    "        \n",
    "class ChildClass(ParentClass): # child class which inherit parent class\n",
    "    def myfunction2(self): #child class property\n",
    "        print(\"child class function called\")\n",
    "        \n",
    "# creating an object of childclass\n",
    "\n",
    "c1 = ChildClass()\n",
    "c1.myfunction1()\n",
    "c1.myfunction2()"
   ]
  },
  {
   "cell_type": "markdown",
   "id": "0244ddcf",
   "metadata": {},
   "source": [
    "# 2.Multilevel inheritance\n",
    "In multilevel inheritance there are levels of class a)parent class b)sub parent class c)child class"
   ]
  },
  {
   "cell_type": "code",
   "execution_count": 2,
   "id": "b5bac116",
   "metadata": {},
   "outputs": [
    {
     "name": "stdout",
     "output_type": "stream",
     "text": [
      "class A function called\n",
      "class B function called\n",
      "class C function called\n"
     ]
    }
   ],
   "source": [
    "class A: # parent class\n",
    "    def myFunct(self):\n",
    "        print(\"class A function called\")\n",
    "        \n",
    "class B(A): # sub-parent class\n",
    "    def myfunction2(self):\n",
    "        print(\"class B function called\")\n",
    "\n",
    "class C(B): #child class\n",
    "    def myfunction3(self):\n",
    "        print(\"class C function called\")\n",
    "        \n",
    "# creating an object of class c\n",
    "c1=C()\n",
    "c1.myFunct()\n",
    "c1.myfunction2()\n",
    "c1.myfunction3()\n"
   ]
  },
  {
   "cell_type": "markdown",
   "id": "dfa7dd59",
   "metadata": {},
   "source": [
    "# 3.Multiple inheritance\n",
    "when a child class inherits from multiple parent classes, it is called multiple inheritance."
   ]
  },
  {
   "cell_type": "code",
   "execution_count": 4,
   "id": "aa7de8c8",
   "metadata": {},
   "outputs": [
    {
     "name": "stdout",
     "output_type": "stream",
     "text": [
      "class A1 function called\n",
      "class B1 function called\n",
      "class C1 function called\n"
     ]
    }
   ],
   "source": [
    "class A1: # 1st parent class\n",
    "    def myfunction1(self):\n",
    "        print(\"class A1 function called\")\n",
    "        \n",
    "class B1: # 2nd parent class\n",
    "    def myfunction2(self):\n",
    "        print(\"class B1 function called\")\n",
    "        \n",
    "class C1(A1,B1): # child class\n",
    "    def myfunction3(self):\n",
    "        print(\"class C1 function called\")\n",
    "        \n",
    "# creating an object of class c1\n",
    "\n",
    "c1= C1()\n",
    "c1.myfunction1()\n",
    "c1.myfunction2()\n",
    "c1.myfunction3()"
   ]
  },
  {
   "cell_type": "markdown",
   "id": "b532247d",
   "metadata": {},
   "source": [
    "# 4.Hierarchical inheritance\n",
    "When more than one child class is created from a single parent class is called Hierarchical inheritance."
   ]
  },
  {
   "cell_type": "code",
   "execution_count": 5,
   "id": "37d083a6",
   "metadata": {},
   "outputs": [
    {
     "name": "stdout",
     "output_type": "stream",
     "text": [
      "Class A1 function called\n",
      "class A2 function called\n",
      "Class A1 function called\n",
      "Class A3 function called\n"
     ]
    }
   ],
   "source": [
    "class A1: # parent class\n",
    "    def myfunction1(self):\n",
    "        print(\"Class A1 function called\")\n",
    "\n",
    "class A2(A1): #child class\n",
    "    def myfunction2(self):\n",
    "        print(\"class A2 function called\")\n",
    "        \n",
    "class A3(A1): # child class\n",
    "    def myfunction3(self):\n",
    "        print(\"Class A3 function called\")\n",
    "        \n",
    "# creating 2 objects 1 for class A2 and 1 for class A3\n",
    "\n",
    "a2 = A2()\n",
    "\n",
    "a3 = A3()\n",
    "\n",
    "a2.myfunction1() # function of class A1\n",
    "\n",
    "a2.myfunction2() # function of class A2\n",
    "\n",
    "a3.myfunction1() # function of class A1\n",
    "\n",
    "a3.myfunction3() #function of class A3\n"
   ]
  },
  {
   "cell_type": "markdown",
   "id": "6ddb62c8",
   "metadata": {},
   "source": [
    "# 5.Hybrid inheritance\n",
    "This form combines more than one form of inheritance.Basically it is a blend of more than one type of inheritance."
   ]
  },
  {
   "cell_type": "code",
   "execution_count": 6,
   "id": "b20f4dd0",
   "metadata": {},
   "outputs": [
    {
     "name": "stdout",
     "output_type": "stream",
     "text": [
      "Function of class B1\n",
      "function of class B2\n",
      "function of class B3\n",
      "Function of class B4\n"
     ]
    }
   ],
   "source": [
    "class B1: # parent class\n",
    "    def myfunction1(self):\n",
    "        print(\"Function of class B1\")\n",
    "class B2(B1): # child class\n",
    "    def myfunction2(self):\n",
    "        print(\"function of class B2\")\n",
    "class B3(B1): # child class\n",
    "    def myfunction3(self):\n",
    "        print(\"function of class B3\")\n",
    "        \n",
    "class B4(B2,B3): # child class\n",
    "    def myfunction4(self):\n",
    "        print(\"Function of class B4\")\n",
    "        \n",
    "# creating an object of class B4\n",
    "b = B4() # object of B4 class\n",
    "b.myfunction1()\n",
    "b.myfunction2()\n",
    "b.myfunction3()\n",
    "b.myfunction4()"
   ]
  },
  {
   "cell_type": "code",
   "execution_count": null,
   "id": "55fd05be",
   "metadata": {},
   "outputs": [],
   "source": []
  }
 ],
 "metadata": {
  "kernelspec": {
   "display_name": "Python 3",
   "language": "python",
   "name": "python3"
  },
  "language_info": {
   "codemirror_mode": {
    "name": "ipython",
    "version": 3
   },
   "file_extension": ".py",
   "mimetype": "text/x-python",
   "name": "python",
   "nbconvert_exporter": "python",
   "pygments_lexer": "ipython3",
   "version": "3.8.8"
  }
 },
 "nbformat": 4,
 "nbformat_minor": 5
}
