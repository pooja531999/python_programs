{
 "cells": [
  {
   "cell_type": "markdown",
   "id": "9bbb432e",
   "metadata": {},
   "source": [
    "# Q.1  Write a Python program to accept a filename from the user and print the extension of that"
   ]
  },
  {
   "cell_type": "code",
   "execution_count": 4,
   "id": "f9d0dffc",
   "metadata": {},
   "outputs": [
    {
     "name": "stdout",
     "output_type": "stream",
     "text": [
      "Input the Filename: hello.python\n",
      "The extension of the file is : 'python'\n"
     ]
    }
   ],
   "source": [
    "filename = input(\"Input the Filename: \")\n",
    "f_extns = filename.split(\".\") # to split the string by \".\" delimeter\n",
    "print (\"The extension of the file is : \" + repr(f_extns[-1]))"
   ]
  },
  {
   "cell_type": "markdown",
   "id": "b17561ba",
   "metadata": {},
   "source": [
    "# repr function\n",
    "Python repr() Function returns a printable representation of the object passed to it."
   ]
  },
  {
   "cell_type": "code",
   "execution_count": 3,
   "id": "61862132",
   "metadata": {},
   "outputs": [
    {
     "name": "stdout",
     "output_type": "stream",
     "text": [
      "'geeksforgeeks'\n"
     ]
    }
   ],
   "source": [
    "strObj = 'geeksforgeeks'\n",
    "  \n",
    "print(repr(strObj))"
   ]
  },
  {
   "cell_type": "markdown",
   "id": "6ae32b78",
   "metadata": {},
   "source": [
    "# Q.2 Write a Python program to display the first and last colors from the following list"
   ]
  },
  {
   "cell_type": "code",
   "execution_count": 5,
   "id": "46262884",
   "metadata": {},
   "outputs": [
    {
     "name": "stdout",
     "output_type": "stream",
     "text": [
      "Red Black\n"
     ]
    }
   ],
   "source": [
    "color_list = [\"Red\",\"Green\",\"White\" ,\"Black\"]\n",
    "print(color_list[0],color_list[-1])"
   ]
  },
  {
   "cell_type": "markdown",
   "id": "3056097a",
   "metadata": {},
   "source": [
    "# Q.3 Write a Python program to display the examination schedule. (extract the date from exam_st_date)"
   ]
  },
  {
   "cell_type": "code",
   "execution_count": 6,
   "id": "0d29a074",
   "metadata": {},
   "outputs": [
    {
     "name": "stdout",
     "output_type": "stream",
     "text": [
      "The examination will start from : 11 / 12 / 2014\n"
     ]
    }
   ],
   "source": [
    "exam_st_date = (11,12,2014)\n",
    "print( \"The examination will start from : %i / %i / %i\"%exam_st_date)"
   ]
  },
  {
   "cell_type": "code",
   "execution_count": null,
   "id": "973f58e1",
   "metadata": {},
   "outputs": [],
   "source": []
  }
 ],
 "metadata": {
  "kernelspec": {
   "display_name": "Python 3",
   "language": "python",
   "name": "python3"
  },
  "language_info": {
   "codemirror_mode": {
    "name": "ipython",
    "version": 3
   },
   "file_extension": ".py",
   "mimetype": "text/x-python",
   "name": "python",
   "nbconvert_exporter": "python",
   "pygments_lexer": "ipython3",
   "version": "3.8.8"
  }
 },
 "nbformat": 4,
 "nbformat_minor": 5
}
