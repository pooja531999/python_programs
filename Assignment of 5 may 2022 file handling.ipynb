{
 "cells": [
  {
   "cell_type": "code",
   "execution_count": 1,
   "id": "90c3c5f3",
   "metadata": {},
   "outputs": [
    {
     "name": "stdout",
     "output_type": "stream",
     "text": [
      "Python was conceived in the late 1980s[38] by Guido van Rossum at Centrum Wiskunde & Informatica (CWI) in the Netherlands as a successor to ABC programming language, which was inspired by SETL,[39] capable of exception handling and interfacing with the Amoeba operating system.[10] Its implementation began in December 1989.[40] Van Rossum shouldered sole responsibility for the project, as the lead developer, until 12 July 2018, when he announced his \"permanent vacation\" from his responsibilities as Python's \"Benevolent Dictator For Life\", a title the Python community bestowed upon him to reflect his long-term commitment as the project's chief decision-maker.[41] In January 2019, active Python core developers elected a five-member \"Steering Council\" to lead the project.[42][43]\n",
      "\n",
      "Python 2.0 was released on 16 October 2000, with many major new features, including a cycle-detecting garbage collector and support for Unicode.[44]\n",
      "\n",
      "Python 3.0 was released on 3 December 2008. It was a major revision of the language that is not completely backward-compatible.[45] Many of its major features were backported to Python 2.6.x[46] and 2.7.x version series. Releases of Python 3 include the 2to3 utility, which automates the translation of Python 2 code to Python 3.[47]\n",
      "\n",
      "Python 2.7's end-of-life date was initially set at 2015 then postponed to 2020 out of concern that a large body of existing code could not easily be forward-ported to Python 3.[48][49] No more security patches or other improvements will be released for it.[50][51] With Python 2's end-of-life, only Python 3.6.x[52] and later are supported.\n",
      "\n",
      "Python 3.9.2 and 3.8.8 were expedited[53] as all versions of Python (including 2.7[54]) had security issues, leading to possible remote code execution[55] and web cache poisoning.[56]\n"
     ]
    }
   ],
   "source": [
    "f = open(\"python_information.txt\") #to open the file\n",
    "content=f.read()#to read the content of file\n",
    "print(content)"
   ]
  },
  {
   "cell_type": "code",
   "execution_count": 2,
   "id": "d2ef98ef",
   "metadata": {},
   "outputs": [
    {
     "name": "stdout",
     "output_type": "stream",
     "text": [
      "Python was conceived in the late 1980s[38] by Guido van Rossum at Centrum Wiskunde & Informatica (CWI) in the Netherlands as a successor to ABC programming language, which was inspired by SETL,[39] capable of exception handling and interfacing with the Amoeba operating system.[10] Its implementation began in December 1989.[40] Van Rossum shouldered sole responsibility for the project, as the lead developer, until 12 July 2018, when he announced his \"permanent vacation\" from his responsibilities as Python's \"Benevolent Dictator For Life\", a title the Python community bestowed upon him to reflect his long-term commitment as the project's chief decision-maker.[41] In January 2019, active Python core developers elected a five-member \"Steering Council\" to lead the project.[42][43]\n",
      "\n",
      "Python 2.0 was released on 16 October 2000, with many major new features, including a cycle-detecting garbage collector and support for Unicode.[44]\n",
      "\n",
      "Python 3.0 was released on 3 December 2008. It was a major revision of the language that is not completely backward-compatible.[45] Many of its major features were backported to Python 2.6.x[46] and 2.7.x version series. Releases of Python 3 include the 2to3 utility, which automates the translation of Python 2 code to Python 3.[47]\n",
      "\n",
      "Python 2.7's end-of-life date was initially set at 2015 then postponed to 2020 out of concern that a large body of existing code could not easily be forward-ported to Python 3.[48][49] No more security patches or other improvements will be released for it.[50][51] With Python 2's end-of-life, only Python 3.6.x[52] and later are supported.\n",
      "\n",
      "Python 3.9.2 and 3.8.8 were expedited[53] as all versions of Python (including 2.7[54]) had security issues, leading to possible remote code execution[55] and web cache poisoning.[56]\n"
     ]
    }
   ],
   "source": [
    "g = open(\"python_information.txt\",'rt')\n",
    "print(g.read())"
   ]
  },
  {
   "cell_type": "code",
   "execution_count": 3,
   "id": "992769b8",
   "metadata": {},
   "outputs": [
    {
     "data": {
      "text/plain": [
       "''"
      ]
     },
     "execution_count": 3,
     "metadata": {},
     "output_type": "execute_result"
    }
   ],
   "source": [
    "f.readline()# to read line "
   ]
  },
  {
   "cell_type": "code",
   "execution_count": 4,
   "id": "b590342d",
   "metadata": {},
   "outputs": [
    {
     "data": {
      "text/plain": [
       "[]"
      ]
     },
     "execution_count": 4,
     "metadata": {},
     "output_type": "execute_result"
    }
   ],
   "source": [
    "f.readlines() # to read a file contents in list"
   ]
  },
  {
   "cell_type": "code",
   "execution_count": 5,
   "id": "7bd113dd",
   "metadata": {},
   "outputs": [],
   "source": [
    "f.close()"
   ]
  },
  {
   "cell_type": "markdown",
   "id": "4c8f69fe",
   "metadata": {},
   "source": [
    "# File creating"
   ]
  },
  {
   "cell_type": "code",
   "execution_count": 6,
   "id": "4699355a",
   "metadata": {},
   "outputs": [],
   "source": [
    "s=\"This is my file handling program\"\n",
    "f=open(\"Demo.txt\",\"w\")\n",
    "f.write(s)\n",
    "f.close()"
   ]
  },
  {
   "cell_type": "code",
   "execution_count": 7,
   "id": "218d4fdd",
   "metadata": {},
   "outputs": [
    {
     "name": "stdout",
     "output_type": "stream",
     "text": [
      "This is my file handling program\n"
     ]
    }
   ],
   "source": [
    "file=open(\"Demo.txt\",\"r\")\n",
    "content=file.read()\n",
    "print(content)"
   ]
  },
  {
   "cell_type": "code",
   "execution_count": 8,
   "id": "bd50f769",
   "metadata": {},
   "outputs": [],
   "source": [
    "# List store in file\n",
    "l1=[\"Python\",\"Java\",\"C#\",\"PHP\"]\n",
    "file = open(\"Demo.txt\",\"w\")\n",
    "file.writelines(l1)\n",
    "file.close()"
   ]
  },
  {
   "cell_type": "code",
   "execution_count": 9,
   "id": "0742c8ed",
   "metadata": {},
   "outputs": [
    {
     "name": "stdout",
     "output_type": "stream",
     "text": [
      "['PythonJavaC#PHP']\n"
     ]
    }
   ],
   "source": [
    "file = open(\"Demo.txt\",\"r\")\n",
    "content=file.readlines()\n",
    "print(content)\n",
    "file.close()"
   ]
  },
  {
   "cell_type": "code",
   "execution_count": 10,
   "id": "20628786",
   "metadata": {},
   "outputs": [],
   "source": [
    "s=\"Python file handling\"\n",
    "file=open(\"Demo.txt\",\"a\")\n",
    "file.write(s)\n",
    "file.close()"
   ]
  },
  {
   "cell_type": "code",
   "execution_count": 11,
   "id": "6de48634",
   "metadata": {},
   "outputs": [
    {
     "name": "stdout",
     "output_type": "stream",
     "text": [
      "PythonJavaC#PHPPython file handling\n"
     ]
    }
   ],
   "source": [
    "# read first line from file\n",
    "file = open(\"Demo.txt\") \n",
    "number_of_lines = 1\n",
    "for i in range(number_of_lines):\n",
    "    line=file.readline()\n",
    "    print(line)\n",
    "\n",
    "    file.close()"
   ]
  }
 ],
 "metadata": {
  "kernelspec": {
   "display_name": "Python 3",
   "language": "python",
   "name": "python3"
  },
  "language_info": {
   "codemirror_mode": {
    "name": "ipython",
    "version": 3
   },
   "file_extension": ".py",
   "mimetype": "text/x-python",
   "name": "python",
   "nbconvert_exporter": "python",
   "pygments_lexer": "ipython3",
   "version": "3.8.8"
  }
 },
 "nbformat": 4,
 "nbformat_minor": 5
}
