{
 "cells": [
  {
   "cell_type": "markdown",
   "id": "42dd13c0",
   "metadata": {},
   "source": [
    "# Q.1 Write a for loop that iterates over the names list to create a usernames list.\n",
    "To create a username for each name, make everything lowercase and\n",
    "replace spaces with underscores. Running your for loop over the list:\n"
   ]
  },
  {
   "cell_type": "code",
   "execution_count": 2,
   "id": "e1342989",
   "metadata": {},
   "outputs": [
    {
     "name": "stdout",
     "output_type": "stream",
     "text": [
      "['joey_tribbiani', 'monica_geller', 'chandler_bing', 'phoebe_buffay']\n"
     ]
    }
   ],
   "source": [
    "names = [\"Joey Tribbiani\", \"Monica Geller\", \"Chandler Bing\", \"Phoebe Buffay\"]\n",
    "usernames=[]\n",
    "    \n",
    "for i in names:\n",
    "    usernames.append(i.lower().replace(\" \",\"_\"))\n",
    "print(usernames)    "
   ]
  },
  {
   "cell_type": "markdown",
   "id": "56a2b0ec",
   "metadata": {},
   "source": [
    "# Q.2 Write a for loop that iterates over a list of strings, tokens, and counts how many of them are XML tags.    "
   ]
  },
  {
   "cell_type": "code",
   "execution_count": 3,
   "id": "5364fd7b",
   "metadata": {},
   "outputs": [
    {
     "name": "stdout",
     "output_type": "stream",
     "text": [
      "3\n"
     ]
    }
   ],
   "source": [
    "tokens = ['<greeting>', 'Hello World!', '</greeting>','<Welcome>']\n",
    "\n",
    "count=0\n",
    "for i in tokens:\n",
    "    if i[0] == '<' and i[-1] == '>':\n",
    "        count += 1\n",
    "    \n",
    "print(count)    "
   ]
  },
  {
   "cell_type": "markdown",
   "id": "54e895ae",
   "metadata": {},
   "source": [
    "# Q.3 Write some code, including a for loop, that iterates over a list of strings and creates a"
   ]
  },
  {
   "cell_type": "markdown",
   "id": "f5987802",
   "metadata": {},
   "source": [
    "single string, html_str, which is an HTML list. For example, if the list is \n",
    "items = ['first string', 'second string'], printing html_str should output:\n",
    "<ul>\n",
    "<li>first string</li>\n",
    "<li>second string</li>\n",
    "</ul>"
   ]
  },
  {
   "cell_type": "code",
   "execution_count": 5,
   "id": "80af803d",
   "metadata": {},
   "outputs": [
    {
     "name": "stdout",
     "output_type": "stream",
     "text": [
      "<ul>\n",
      "<li>first string</li>\n",
      "<li>second string</li>\n",
      "</ul>\n"
     ]
    }
   ],
   "source": [
    "items = ['first string', 'second string']\n",
    "html_str='<ul>\\n'\n",
    "\n",
    "for i in items:\n",
    "    html_str+='<li>{}</li>\\n'.format(i)\n",
    "    \n",
    "html_str+='</ul>'\n",
    "\n",
    "print(html_str)\n"
   ]
  },
  {
   "cell_type": "code",
   "execution_count": null,
   "id": "d3aacbc4",
   "metadata": {},
   "outputs": [],
   "source": []
  }
 ],
 "metadata": {
  "kernelspec": {
   "display_name": "Python 3",
   "language": "python",
   "name": "python3"
  },
  "language_info": {
   "codemirror_mode": {
    "name": "ipython",
    "version": 3
   },
   "file_extension": ".py",
   "mimetype": "text/x-python",
   "name": "python",
   "nbconvert_exporter": "python",
   "pygments_lexer": "ipython3",
   "version": "3.8.8"
  }
 },
 "nbformat": 4,
 "nbformat_minor": 5
}
