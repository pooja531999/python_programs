{
 "cells": [
  {
   "cell_type": "markdown",
   "id": "4e362334",
   "metadata": {},
   "source": [
    "# Business Problem"
   ]
  },
  {
   "cell_type": "code",
   "execution_count": 1,
   "id": "9985106b",
   "metadata": {},
   "outputs": [],
   "source": [
    "#import libraries\n",
    "import numpy as np\n",
    "import pandas as pd\n",
    "import matplotlib.pyplot as plt"
   ]
  },
  {
   "cell_type": "code",
   "execution_count": 2,
   "id": "16cfa5d9",
   "metadata": {},
   "outputs": [],
   "source": [
    "df=pd.read_csv(r\"C:\\Users\\pooja sinalkar\\Downloads\\student_info.csv\")"
   ]
  },
  {
   "cell_type": "code",
   "execution_count": 3,
   "id": "3805aabf",
   "metadata": {},
   "outputs": [
    {
     "data": {
      "text/html": [
       "<div>\n",
       "<style scoped>\n",
       "    .dataframe tbody tr th:only-of-type {\n",
       "        vertical-align: middle;\n",
       "    }\n",
       "\n",
       "    .dataframe tbody tr th {\n",
       "        vertical-align: top;\n",
       "    }\n",
       "\n",
       "    .dataframe thead th {\n",
       "        text-align: right;\n",
       "    }\n",
       "</style>\n",
       "<table border=\"1\" class=\"dataframe\">\n",
       "  <thead>\n",
       "    <tr style=\"text-align: right;\">\n",
       "      <th></th>\n",
       "      <th>study_hours</th>\n",
       "      <th>student_marks</th>\n",
       "    </tr>\n",
       "  </thead>\n",
       "  <tbody>\n",
       "    <tr>\n",
       "      <th>0</th>\n",
       "      <td>6.83</td>\n",
       "      <td>78.50</td>\n",
       "    </tr>\n",
       "    <tr>\n",
       "      <th>1</th>\n",
       "      <td>6.56</td>\n",
       "      <td>76.74</td>\n",
       "    </tr>\n",
       "    <tr>\n",
       "      <th>2</th>\n",
       "      <td>NaN</td>\n",
       "      <td>78.68</td>\n",
       "    </tr>\n",
       "    <tr>\n",
       "      <th>3</th>\n",
       "      <td>5.67</td>\n",
       "      <td>71.82</td>\n",
       "    </tr>\n",
       "    <tr>\n",
       "      <th>4</th>\n",
       "      <td>8.67</td>\n",
       "      <td>84.19</td>\n",
       "    </tr>\n",
       "    <tr>\n",
       "      <th>...</th>\n",
       "      <td>...</td>\n",
       "      <td>...</td>\n",
       "    </tr>\n",
       "    <tr>\n",
       "      <th>195</th>\n",
       "      <td>7.53</td>\n",
       "      <td>81.67</td>\n",
       "    </tr>\n",
       "    <tr>\n",
       "      <th>196</th>\n",
       "      <td>8.56</td>\n",
       "      <td>84.68</td>\n",
       "    </tr>\n",
       "    <tr>\n",
       "      <th>197</th>\n",
       "      <td>8.94</td>\n",
       "      <td>86.75</td>\n",
       "    </tr>\n",
       "    <tr>\n",
       "      <th>198</th>\n",
       "      <td>6.60</td>\n",
       "      <td>78.05</td>\n",
       "    </tr>\n",
       "    <tr>\n",
       "      <th>199</th>\n",
       "      <td>8.35</td>\n",
       "      <td>83.50</td>\n",
       "    </tr>\n",
       "  </tbody>\n",
       "</table>\n",
       "<p>200 rows × 2 columns</p>\n",
       "</div>"
      ],
      "text/plain": [
       "     study_hours  student_marks\n",
       "0           6.83          78.50\n",
       "1           6.56          76.74\n",
       "2            NaN          78.68\n",
       "3           5.67          71.82\n",
       "4           8.67          84.19\n",
       "..           ...            ...\n",
       "195         7.53          81.67\n",
       "196         8.56          84.68\n",
       "197         8.94          86.75\n",
       "198         6.60          78.05\n",
       "199         8.35          83.50\n",
       "\n",
       "[200 rows x 2 columns]"
      ]
     },
     "execution_count": 3,
     "metadata": {},
     "output_type": "execute_result"
    }
   ],
   "source": [
    "df"
   ]
  },
  {
   "cell_type": "code",
   "execution_count": 6,
   "id": "09b8c913",
   "metadata": {},
   "outputs": [
    {
     "data": {
      "text/plain": [
       "(200, 2)"
      ]
     },
     "execution_count": 6,
     "metadata": {},
     "output_type": "execute_result"
    }
   ],
   "source": [
    "df.shape"
   ]
  },
  {
   "cell_type": "markdown",
   "id": "6a334d5f",
   "metadata": {},
   "source": [
    "* To Discover and Visualize the data to gain insights"
   ]
  },
  {
   "cell_type": "code",
   "execution_count": 7,
   "id": "ba2ebd45",
   "metadata": {},
   "outputs": [
    {
     "name": "stdout",
     "output_type": "stream",
     "text": [
      "<class 'pandas.core.frame.DataFrame'>\n",
      "RangeIndex: 200 entries, 0 to 199\n",
      "Data columns (total 2 columns):\n",
      " #   Column         Non-Null Count  Dtype  \n",
      "---  ------         --------------  -----  \n",
      " 0   study_hours    195 non-null    float64\n",
      " 1   student_marks  200 non-null    float64\n",
      "dtypes: float64(2)\n",
      "memory usage: 3.2 KB\n"
     ]
    }
   ],
   "source": [
    "df.info()"
   ]
  },
  {
   "cell_type": "code",
   "execution_count": 8,
   "id": "98a02a4e",
   "metadata": {},
   "outputs": [
    {
     "data": {
      "text/html": [
       "<div>\n",
       "<style scoped>\n",
       "    .dataframe tbody tr th:only-of-type {\n",
       "        vertical-align: middle;\n",
       "    }\n",
       "\n",
       "    .dataframe tbody tr th {\n",
       "        vertical-align: top;\n",
       "    }\n",
       "\n",
       "    .dataframe thead th {\n",
       "        text-align: right;\n",
       "    }\n",
       "</style>\n",
       "<table border=\"1\" class=\"dataframe\">\n",
       "  <thead>\n",
       "    <tr style=\"text-align: right;\">\n",
       "      <th></th>\n",
       "      <th>study_hours</th>\n",
       "      <th>student_marks</th>\n",
       "    </tr>\n",
       "  </thead>\n",
       "  <tbody>\n",
       "    <tr>\n",
       "      <th>count</th>\n",
       "      <td>195.000000</td>\n",
       "      <td>200.00000</td>\n",
       "    </tr>\n",
       "    <tr>\n",
       "      <th>mean</th>\n",
       "      <td>6.995949</td>\n",
       "      <td>77.93375</td>\n",
       "    </tr>\n",
       "    <tr>\n",
       "      <th>std</th>\n",
       "      <td>1.253060</td>\n",
       "      <td>4.92570</td>\n",
       "    </tr>\n",
       "    <tr>\n",
       "      <th>min</th>\n",
       "      <td>5.010000</td>\n",
       "      <td>68.57000</td>\n",
       "    </tr>\n",
       "    <tr>\n",
       "      <th>25%</th>\n",
       "      <td>5.775000</td>\n",
       "      <td>73.38500</td>\n",
       "    </tr>\n",
       "    <tr>\n",
       "      <th>50%</th>\n",
       "      <td>7.120000</td>\n",
       "      <td>77.71000</td>\n",
       "    </tr>\n",
       "    <tr>\n",
       "      <th>75%</th>\n",
       "      <td>8.085000</td>\n",
       "      <td>82.32000</td>\n",
       "    </tr>\n",
       "    <tr>\n",
       "      <th>max</th>\n",
       "      <td>8.990000</td>\n",
       "      <td>86.99000</td>\n",
       "    </tr>\n",
       "  </tbody>\n",
       "</table>\n",
       "</div>"
      ],
      "text/plain": [
       "       study_hours  student_marks\n",
       "count   195.000000      200.00000\n",
       "mean      6.995949       77.93375\n",
       "std       1.253060        4.92570\n",
       "min       5.010000       68.57000\n",
       "25%       5.775000       73.38500\n",
       "50%       7.120000       77.71000\n",
       "75%       8.085000       82.32000\n",
       "max       8.990000       86.99000"
      ]
     },
     "execution_count": 8,
     "metadata": {},
     "output_type": "execute_result"
    }
   ],
   "source": [
    "df.describe()"
   ]
  },
  {
   "cell_type": "code",
   "execution_count": 10,
   "id": "5d739354",
   "metadata": {},
   "outputs": [
    {
     "data": {
      "image/png": "[encoded data removed]",
      "text/plain": [
       "<Figure size 432x288 with 1 Axes>"
      ]
     },
     "metadata": {
      "needs_background": "light"
     },
     "output_type": "display_data"
    }
   ],
   "source": [
    "plt.scatter(x=df.study_hours,y=df.student_marks)\n",
    "plt.xlabel(\"Student study hours\")\n",
    "plt.ylabel(\"Students marks\")\n",
    "plt.title(\"Scatter plot of Students Study Hours vs Students Marks\")\n",
    "plt.show()"
   ]
  },
  {
   "cell_type": "markdown",
   "id": "a9141b21",
   "metadata": {},
   "source": [
    "* Prepare the data for Machine Learning algorithms"
   ]
  },
  {
   "cell_type": "code",
   "execution_count": 11,
   "id": "4c06c18d",
   "metadata": {},
   "outputs": [],
   "source": [
    "# data cleaning"
   ]
  },
  {
   "cell_type": "code",
   "execution_count": 14,
   "id": "f782fbb2",
   "metadata": {},
   "outputs": [
    {
     "data": {
      "text/plain": [
       "study_hours      5\n",
       "student_marks    0\n",
       "dtype: int64"
      ]
     },
     "execution_count": 14,
     "metadata": {},
     "output_type": "execute_result"
    }
   ],
   "source": [
    "df.isnull().sum()"
   ]
  },
  {
   "cell_type": "code",
   "execution_count": 15,
   "id": "5cfcc472",
   "metadata": {},
   "outputs": [
    {
     "data": {
      "text/plain": [
       "study_hours       6.995949\n",
       "student_marks    77.933750\n",
       "dtype: float64"
      ]
     },
     "execution_count": 15,
     "metadata": {},
     "output_type": "execute_result"
    }
   ],
   "source": [
    "df.mean()"
   ]
  },
  {
   "cell_type": "code",
   "execution_count": 16,
   "id": "b6d74c16",
   "metadata": {},
   "outputs": [],
   "source": [
    "df2=df.fillna(df.mean())"
   ]
  },
  {
   "cell_type": "code",
   "execution_count": 17,
   "id": "06b8b909",
   "metadata": {},
   "outputs": [
    {
     "data": {
      "text/plain": [
       "study_hours      0\n",
       "student_marks    0\n",
       "dtype: int64"
      ]
     },
     "execution_count": 17,
     "metadata": {},
     "output_type": "execute_result"
    }
   ],
   "source": [
    "df2.isnull().sum()"
   ]
  },
  {
   "cell_type": "code",
   "execution_count": 18,
   "id": "7bfbfabb",
   "metadata": {},
   "outputs": [
    {
     "data": {
      "text/html": [
       "<div>\n",
       "<style scoped>\n",
       "    .dataframe tbody tr th:only-of-type {\n",
       "        vertical-align: middle;\n",
       "    }\n",
       "\n",
       "    .dataframe tbody tr th {\n",
       "        vertical-align: top;\n",
       "    }\n",
       "\n",
       "    .dataframe thead th {\n",
       "        text-align: right;\n",
       "    }\n",
       "</style>\n",
       "<table border=\"1\" class=\"dataframe\">\n",
       "  <thead>\n",
       "    <tr style=\"text-align: right;\">\n",
       "      <th></th>\n",
       "      <th>study_hours</th>\n",
       "      <th>student_marks</th>\n",
       "    </tr>\n",
       "  </thead>\n",
       "  <tbody>\n",
       "    <tr>\n",
       "      <th>0</th>\n",
       "      <td>6.830000</td>\n",
       "      <td>78.50</td>\n",
       "    </tr>\n",
       "    <tr>\n",
       "      <th>1</th>\n",
       "      <td>6.560000</td>\n",
       "      <td>76.74</td>\n",
       "    </tr>\n",
       "    <tr>\n",
       "      <th>2</th>\n",
       "      <td>6.995949</td>\n",
       "      <td>78.68</td>\n",
       "    </tr>\n",
       "    <tr>\n",
       "      <th>3</th>\n",
       "      <td>5.670000</td>\n",
       "      <td>71.82</td>\n",
       "    </tr>\n",
       "    <tr>\n",
       "      <th>4</th>\n",
       "      <td>8.670000</td>\n",
       "      <td>84.19</td>\n",
       "    </tr>\n",
       "  </tbody>\n",
       "</table>\n",
       "</div>"
      ],
      "text/plain": [
       "   study_hours  student_marks\n",
       "0     6.830000          78.50\n",
       "1     6.560000          76.74\n",
       "2     6.995949          78.68\n",
       "3     5.670000          71.82\n",
       "4     8.670000          84.19"
      ]
     },
     "execution_count": 18,
     "metadata": {},
     "output_type": "execute_result"
    }
   ],
   "source": [
    "df2.head()"
   ]
  },
  {
   "cell_type": "code",
   "execution_count": 19,
   "id": "41a89840",
   "metadata": {},
   "outputs": [],
   "source": [
    "# split dataset"
   ]
  },
  {
   "cell_type": "code",
   "execution_count": 27,
   "id": "ad92c0a9",
   "metadata": {},
   "outputs": [
    {
     "name": "stdout",
     "output_type": "stream",
     "text": [
      "shape of x =  (200, 1)\n",
      "shape of y =  (200, 1)\n"
     ]
    }
   ],
   "source": [
    "X=df2.drop(\"student_marks\",axis=\"columns\")   # X is a matrix which contain independt dataset \n",
    "y=df2.drop(\"study_hours\",axis=\"columns\")   # y is vector contain dependent dataset\n",
    "print(\"shape of x = \",X.shape)\n",
    "print(\"shape of y = \",y.shape)"
   ]
  },
  {
   "cell_type": "code",
   "execution_count": 28,
   "id": "8016e4d1",
   "metadata": {},
   "outputs": [
    {
     "name": "stdout",
     "output_type": "stream",
     "text": [
      "shape of X_train =  (160, 1)\n",
      "shape of X_test =  (40, 1)\n",
      "shape of y_train =  (160, 1)\n",
      "shape of y_test =  (40, 1)\n"
     ]
    }
   ],
   "source": [
    "from sklearn.model_selection import train_test_split\n",
    "X_train,X_test,y_train,y_test =train_test_split(X,y,test_size=0.2,random_state=51)\n",
    "print(\"shape of X_train = \",X_train.shape)\n",
    "print(\"shape of X_test = \",X_test.shape)\n",
    "print(\"shape of y_train = \",y_train.shape)\n",
    "print(\"shape of y_test = \",y_test.shape)"
   ]
  },
  {
   "cell_type": "markdown",
   "id": "544f07d0",
   "metadata": {},
   "source": [
    "* select a model and train it"
   ]
  },
  {
   "cell_type": "code",
   "execution_count": 29,
   "id": "720fedd5",
   "metadata": {},
   "outputs": [],
   "source": [
    "# linear regression algorithm formula is y = m*x+c\n",
    "from sklearn.linear_model import LinearRegression\n",
    "lr=LinearRegression()"
   ]
  },
  {
   "cell_type": "code",
   "execution_count": 30,
   "id": "0d2e3400",
   "metadata": {},
   "outputs": [
    {
     "data": {
      "text/plain": [
       "LinearRegression()"
      ]
     },
     "execution_count": 30,
     "metadata": {},
     "output_type": "execute_result"
    }
   ],
   "source": [
    "lr.fit(X_train,y_train)"
   ]
  },
  {
   "cell_type": "code",
   "execution_count": 31,
   "id": "551b2b87",
   "metadata": {},
   "outputs": [
    {
     "data": {
      "text/plain": [
       "array([[3.93571802]])"
      ]
     },
     "execution_count": 31,
     "metadata": {},
     "output_type": "execute_result"
    }
   ],
   "source": [
    "lr.coef_ # m value"
   ]
  },
  {
   "cell_type": "code",
   "execution_count": 33,
   "id": "f831943c",
   "metadata": {},
   "outputs": [
    {
     "data": {
      "text/plain": [
       "array([50.44735504])"
      ]
     },
     "execution_count": 33,
     "metadata": {},
     "output_type": "execute_result"
    }
   ],
   "source": [
    "lr.intercept_ # c value"
   ]
  },
  {
   "cell_type": "code",
   "execution_count": 34,
   "id": "37c0d3c8",
   "metadata": {},
   "outputs": [
    {
     "data": {
      "text/plain": [
       "66.16"
      ]
     },
     "execution_count": 34,
     "metadata": {},
     "output_type": "execute_result"
    }
   ],
   "source": [
    "m = 3.93\n",
    "c = 50.44\n",
    "y = m * 4 + c\n",
    "y"
   ]
  },
  {
   "cell_type": "code",
   "execution_count": 37,
   "id": "135ddb6a",
   "metadata": {},
   "outputs": [
    {
     "data": {
      "text/plain": [
       "66.19"
      ]
     },
     "execution_count": 37,
     "metadata": {},
     "output_type": "execute_result"
    }
   ],
   "source": [
    "lr.predict([[4]])[0][0].round(2)"
   ]
  },
  {
   "cell_type": "code",
   "execution_count": 39,
   "id": "528ac988",
   "metadata": {},
   "outputs": [
    {
     "data": {
      "text/plain": [
       "array([[83.11381458],\n",
       "       [78.9025963 ],\n",
       "       [84.57003024],\n",
       "       [85.82946001],\n",
       "       [84.72745896],\n",
       "       [80.75238377],\n",
       "       [72.84159055],\n",
       "       [71.66087515],\n",
       "       [73.23516235],\n",
       "       [71.66087515],\n",
       "       [73.47130543],\n",
       "       [76.38373677],\n",
       "       [73.23516235],\n",
       "       [73.58937697],\n",
       "       [82.95638585],\n",
       "       [70.40144538],\n",
       "       [73.23516235],\n",
       "       [78.74516758],\n",
       "       [75.55723598],\n",
       "       [82.68088559],\n",
       "       [76.65923703],\n",
       "       [70.48015974],\n",
       "       [74.77009238],\n",
       "       [77.98143645],\n",
       "       [85.59331693],\n",
       "       [82.56281405],\n",
       "       [76.42309395],\n",
       "       [85.0423164 ],\n",
       "       [78.39095296],\n",
       "       [81.38209865],\n",
       "       [81.73631327],\n",
       "       [83.15317176],\n",
       "       [82.20859943],\n",
       "       [81.10659839],\n",
       "       [73.58937697],\n",
       "       [71.1492318 ],\n",
       "       [71.89701823],\n",
       "       [81.53952737],\n",
       "       [72.60544747],\n",
       "       [71.93637541]])"
      ]
     },
     "execution_count": 39,
     "metadata": {},
     "output_type": "execute_result"
    }
   ],
   "source": [
    "y_pred=lr.predict(X_test)\n",
    "y_pred\n"
   ]
  },
  {
   "cell_type": "code",
   "execution_count": 41,
   "id": "a9187d10",
   "metadata": {},
   "outputs": [
    {
     "data": {
      "text/html": [
       "<div>\n",
       "<style scoped>\n",
       "    .dataframe tbody tr th:only-of-type {\n",
       "        vertical-align: middle;\n",
       "    }\n",
       "\n",
       "    .dataframe tbody tr th {\n",
       "        vertical-align: top;\n",
       "    }\n",
       "\n",
       "    .dataframe thead th {\n",
       "        text-align: right;\n",
       "    }\n",
       "</style>\n",
       "<table border=\"1\" class=\"dataframe\">\n",
       "  <thead>\n",
       "    <tr style=\"text-align: right;\">\n",
       "      <th></th>\n",
       "      <th>study_hours</th>\n",
       "      <th>student_marks_original</th>\n",
       "      <th>students_marks_predicted</th>\n",
       "    </tr>\n",
       "  </thead>\n",
       "  <tbody>\n",
       "    <tr>\n",
       "      <th>0</th>\n",
       "      <td>8.300000</td>\n",
       "      <td>82.02</td>\n",
       "      <td>83.113815</td>\n",
       "    </tr>\n",
       "    <tr>\n",
       "      <th>1</th>\n",
       "      <td>7.230000</td>\n",
       "      <td>77.55</td>\n",
       "      <td>78.902596</td>\n",
       "    </tr>\n",
       "    <tr>\n",
       "      <th>2</th>\n",
       "      <td>8.670000</td>\n",
       "      <td>84.19</td>\n",
       "      <td>84.570030</td>\n",
       "    </tr>\n",
       "    <tr>\n",
       "      <th>3</th>\n",
       "      <td>8.990000</td>\n",
       "      <td>85.46</td>\n",
       "      <td>85.829460</td>\n",
       "    </tr>\n",
       "    <tr>\n",
       "      <th>4</th>\n",
       "      <td>8.710000</td>\n",
       "      <td>84.03</td>\n",
       "      <td>84.727459</td>\n",
       "    </tr>\n",
       "    <tr>\n",
       "      <th>5</th>\n",
       "      <td>7.700000</td>\n",
       "      <td>80.81</td>\n",
       "      <td>80.752384</td>\n",
       "    </tr>\n",
       "    <tr>\n",
       "      <th>6</th>\n",
       "      <td>5.690000</td>\n",
       "      <td>73.61</td>\n",
       "      <td>72.841591</td>\n",
       "    </tr>\n",
       "    <tr>\n",
       "      <th>7</th>\n",
       "      <td>5.390000</td>\n",
       "      <td>70.90</td>\n",
       "      <td>71.660875</td>\n",
       "    </tr>\n",
       "    <tr>\n",
       "      <th>8</th>\n",
       "      <td>5.790000</td>\n",
       "      <td>73.14</td>\n",
       "      <td>73.235162</td>\n",
       "    </tr>\n",
       "    <tr>\n",
       "      <th>9</th>\n",
       "      <td>5.390000</td>\n",
       "      <td>73.02</td>\n",
       "      <td>71.660875</td>\n",
       "    </tr>\n",
       "    <tr>\n",
       "      <th>10</th>\n",
       "      <td>5.850000</td>\n",
       "      <td>75.02</td>\n",
       "      <td>73.471305</td>\n",
       "    </tr>\n",
       "    <tr>\n",
       "      <th>11</th>\n",
       "      <td>6.590000</td>\n",
       "      <td>75.37</td>\n",
       "      <td>76.383737</td>\n",
       "    </tr>\n",
       "    <tr>\n",
       "      <th>12</th>\n",
       "      <td>5.790000</td>\n",
       "      <td>74.44</td>\n",
       "      <td>73.235162</td>\n",
       "    </tr>\n",
       "    <tr>\n",
       "      <th>13</th>\n",
       "      <td>5.880000</td>\n",
       "      <td>73.40</td>\n",
       "      <td>73.589377</td>\n",
       "    </tr>\n",
       "    <tr>\n",
       "      <th>14</th>\n",
       "      <td>8.260000</td>\n",
       "      <td>81.70</td>\n",
       "      <td>82.956386</td>\n",
       "    </tr>\n",
       "    <tr>\n",
       "      <th>15</th>\n",
       "      <td>5.070000</td>\n",
       "      <td>69.27</td>\n",
       "      <td>70.401445</td>\n",
       "    </tr>\n",
       "    <tr>\n",
       "      <th>16</th>\n",
       "      <td>5.790000</td>\n",
       "      <td>73.64</td>\n",
       "      <td>73.235162</td>\n",
       "    </tr>\n",
       "    <tr>\n",
       "      <th>17</th>\n",
       "      <td>7.190000</td>\n",
       "      <td>77.63</td>\n",
       "      <td>78.745168</td>\n",
       "    </tr>\n",
       "    <tr>\n",
       "      <th>18</th>\n",
       "      <td>6.380000</td>\n",
       "      <td>77.01</td>\n",
       "      <td>75.557236</td>\n",
       "    </tr>\n",
       "    <tr>\n",
       "      <th>19</th>\n",
       "      <td>8.190000</td>\n",
       "      <td>83.08</td>\n",
       "      <td>82.680886</td>\n",
       "    </tr>\n",
       "    <tr>\n",
       "      <th>20</th>\n",
       "      <td>6.660000</td>\n",
       "      <td>76.63</td>\n",
       "      <td>76.659237</td>\n",
       "    </tr>\n",
       "    <tr>\n",
       "      <th>21</th>\n",
       "      <td>5.090000</td>\n",
       "      <td>72.22</td>\n",
       "      <td>70.480160</td>\n",
       "    </tr>\n",
       "    <tr>\n",
       "      <th>22</th>\n",
       "      <td>6.180000</td>\n",
       "      <td>72.96</td>\n",
       "      <td>74.770092</td>\n",
       "    </tr>\n",
       "    <tr>\n",
       "      <th>23</th>\n",
       "      <td>6.995949</td>\n",
       "      <td>76.14</td>\n",
       "      <td>77.981436</td>\n",
       "    </tr>\n",
       "    <tr>\n",
       "      <th>24</th>\n",
       "      <td>8.930000</td>\n",
       "      <td>85.96</td>\n",
       "      <td>85.593317</td>\n",
       "    </tr>\n",
       "    <tr>\n",
       "      <th>25</th>\n",
       "      <td>8.160000</td>\n",
       "      <td>83.36</td>\n",
       "      <td>82.562814</td>\n",
       "    </tr>\n",
       "    <tr>\n",
       "      <th>26</th>\n",
       "      <td>6.600000</td>\n",
       "      <td>78.05</td>\n",
       "      <td>76.423094</td>\n",
       "    </tr>\n",
       "    <tr>\n",
       "      <th>27</th>\n",
       "      <td>8.790000</td>\n",
       "      <td>84.60</td>\n",
       "      <td>85.042316</td>\n",
       "    </tr>\n",
       "    <tr>\n",
       "      <th>28</th>\n",
       "      <td>7.100000</td>\n",
       "      <td>76.76</td>\n",
       "      <td>78.390953</td>\n",
       "    </tr>\n",
       "    <tr>\n",
       "      <th>29</th>\n",
       "      <td>7.860000</td>\n",
       "      <td>81.24</td>\n",
       "      <td>81.382099</td>\n",
       "    </tr>\n",
       "    <tr>\n",
       "      <th>30</th>\n",
       "      <td>7.950000</td>\n",
       "      <td>80.86</td>\n",
       "      <td>81.736313</td>\n",
       "    </tr>\n",
       "    <tr>\n",
       "      <th>31</th>\n",
       "      <td>8.310000</td>\n",
       "      <td>82.69</td>\n",
       "      <td>83.153172</td>\n",
       "    </tr>\n",
       "    <tr>\n",
       "      <th>32</th>\n",
       "      <td>8.070000</td>\n",
       "      <td>82.30</td>\n",
       "      <td>82.208599</td>\n",
       "    </tr>\n",
       "    <tr>\n",
       "      <th>33</th>\n",
       "      <td>7.790000</td>\n",
       "      <td>79.17</td>\n",
       "      <td>81.106598</td>\n",
       "    </tr>\n",
       "    <tr>\n",
       "      <th>34</th>\n",
       "      <td>5.880000</td>\n",
       "      <td>73.34</td>\n",
       "      <td>73.589377</td>\n",
       "    </tr>\n",
       "    <tr>\n",
       "      <th>35</th>\n",
       "      <td>5.260000</td>\n",
       "      <td>71.86</td>\n",
       "      <td>71.149232</td>\n",
       "    </tr>\n",
       "    <tr>\n",
       "      <th>36</th>\n",
       "      <td>5.450000</td>\n",
       "      <td>70.06</td>\n",
       "      <td>71.897018</td>\n",
       "    </tr>\n",
       "    <tr>\n",
       "      <th>37</th>\n",
       "      <td>7.900000</td>\n",
       "      <td>80.76</td>\n",
       "      <td>81.539527</td>\n",
       "    </tr>\n",
       "    <tr>\n",
       "      <th>38</th>\n",
       "      <td>5.630000</td>\n",
       "      <td>72.87</td>\n",
       "      <td>72.605447</td>\n",
       "    </tr>\n",
       "    <tr>\n",
       "      <th>39</th>\n",
       "      <td>5.460000</td>\n",
       "      <td>71.10</td>\n",
       "      <td>71.936375</td>\n",
       "    </tr>\n",
       "  </tbody>\n",
       "</table>\n",
       "</div>"
      ],
      "text/plain": [
       "    study_hours  student_marks_original  students_marks_predicted\n",
       "0      8.300000                   82.02                 83.113815\n",
       "1      7.230000                   77.55                 78.902596\n",
       "2      8.670000                   84.19                 84.570030\n",
       "3      8.990000                   85.46                 85.829460\n",
       "4      8.710000                   84.03                 84.727459\n",
       "5      7.700000                   80.81                 80.752384\n",
       "6      5.690000                   73.61                 72.841591\n",
       "7      5.390000                   70.90                 71.660875\n",
       "8      5.790000                   73.14                 73.235162\n",
       "9      5.390000                   73.02                 71.660875\n",
       "10     5.850000                   75.02                 73.471305\n",
       "11     6.590000                   75.37                 76.383737\n",
       "12     5.790000                   74.44                 73.235162\n",
       "13     5.880000                   73.40                 73.589377\n",
       "14     8.260000                   81.70                 82.956386\n",
       "15     5.070000                   69.27                 70.401445\n",
       "16     5.790000                   73.64                 73.235162\n",
       "17     7.190000                   77.63                 78.745168\n",
       "18     6.380000                   77.01                 75.557236\n",
       "19     8.190000                   83.08                 82.680886\n",
       "20     6.660000                   76.63                 76.659237\n",
       "21     5.090000                   72.22                 70.480160\n",
       "22     6.180000                   72.96                 74.770092\n",
       "23     6.995949                   76.14                 77.981436\n",
       "24     8.930000                   85.96                 85.593317\n",
       "25     8.160000                   83.36                 82.562814\n",
       "26     6.600000                   78.05                 76.423094\n",
       "27     8.790000                   84.60                 85.042316\n",
       "28     7.100000                   76.76                 78.390953\n",
       "29     7.860000                   81.24                 81.382099\n",
       "30     7.950000                   80.86                 81.736313\n",
       "31     8.310000                   82.69                 83.153172\n",
       "32     8.070000                   82.30                 82.208599\n",
       "33     7.790000                   79.17                 81.106598\n",
       "34     5.880000                   73.34                 73.589377\n",
       "35     5.260000                   71.86                 71.149232\n",
       "36     5.450000                   70.06                 71.897018\n",
       "37     7.900000                   80.76                 81.539527\n",
       "38     5.630000                   72.87                 72.605447\n",
       "39     5.460000                   71.10                 71.936375"
      ]
     },
     "execution_count": 41,
     "metadata": {},
     "output_type": "execute_result"
    }
   ],
   "source": [
    "pd.DataFrame(np.c_[X_test,y_test,y_pred],columns=[\"study_hours\",\"student_marks_original\",\"students_marks_predicted\"])"
   ]
  },
  {
   "cell_type": "markdown",
   "id": "329c362d",
   "metadata": {},
   "source": [
    "* Fine-tune your model"
   ]
  },
  {
   "cell_type": "code",
   "execution_count": 42,
   "id": "9808edb8",
   "metadata": {},
   "outputs": [
    {
     "data": {
      "text/plain": [
       "0.9514124242154464"
      ]
     },
     "execution_count": 42,
     "metadata": {},
     "output_type": "execute_result"
    }
   ],
   "source": [
    "lr.score(X_test,y_test)"
   ]
  },
  {
   "cell_type": "code",
   "execution_count": 44,
   "id": "8659dcb0",
   "metadata": {},
   "outputs": [
    {
     "data": {
      "image/png": "[encoded data removed]",
      "text/plain": [
       "<Figure size 432x288 with 1 Axes>"
      ]
     },
     "metadata": {
      "needs_background": "light"
     },
     "output_type": "display_data"
    }
   ],
   "source": [
    "plt.scatter(X_train,y_train)\n",
    "plt.show()"
   ]
  },
  {
   "cell_type": "code",
   "execution_count": 45,
   "id": "2d4af912",
   "metadata": {},
   "outputs": [
    {
     "data": {
      "image/png": "[encoded data removed]",
      "text/plain": [
       "<Figure size 432x288 with 1 Axes>"
      ]
     },
     "metadata": {
      "needs_background": "light"
     },
     "output_type": "display_data"
    }
   ],
   "source": [
    "plt.scatter(X_test,y_test)\n",
    "plt.plot(X_train,lr.predict(X_train),color=\"r\")\n",
    "plt.show()"
   ]
  },
  {
   "cell_type": "markdown",
   "id": "c1ef44b2",
   "metadata": {},
   "source": [
    "* present your solution"
   ]
  },
  {
   "cell_type": "code",
   "execution_count": 46,
   "id": "4e2344ed",
   "metadata": {},
   "outputs": [
    {
     "data": {
      "text/plain": [
       "['Students_mark_predictor_model.pkl']"
      ]
     },
     "execution_count": 46,
     "metadata": {},
     "output_type": "execute_result"
    }
   ],
   "source": [
    "# save ML model\n",
    "import joblib\n",
    "joblib.dump(lr,\"Students_mark_predictor_model.pkl\")"
   ]
  },
  {
   "cell_type": "code",
   "execution_count": 47,
   "id": "6dc6c744",
   "metadata": {},
   "outputs": [],
   "source": [
    "model=joblib.load(\"Students_mark_predictor_model.pkl\")"
   ]
  },
  {
   "cell_type": "code",
   "execution_count": 49,
   "id": "6375517e",
   "metadata": {},
   "outputs": [
    {
     "data": {
      "text/plain": [
       "70.12594512018407"
      ]
     },
     "execution_count": 49,
     "metadata": {},
     "output_type": "execute_result"
    }
   ],
   "source": [
    "model.predict([[5]])"
   ]
  },
  {
   "cell_type": "code",
   "execution_count": null,
   "id": "912d78a7",
   "metadata": {},
   "outputs": [],
   "source": []
  }
 ],
 "metadata": {
  "kernelspec": {
   "display_name": "Python 3",
   "language": "python",
   "name": "python3"
  },
  "language_info": {
   "codemirror_mode": {
    "name": "ipython",
    "version": 3
   },
   "file_extension": ".py",
   "mimetype": "text/x-python",
   "name": "python",
   "nbconvert_exporter": "python",
   "pygments_lexer": "ipython3",
   "version": "3.8.8"
  }
 },
 "nbformat": 4,
 "nbformat_minor": 5
}
